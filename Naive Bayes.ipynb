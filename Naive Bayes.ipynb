{
 "cells": [
  {
   "cell_type": "markdown",
   "metadata": {
    "collapsed": true
   },
   "source": [
    "_____________________________"
   ]
  },
  {
   "cell_type": "markdown",
   "metadata": {},
   "source": [
    "# Naive Bayes\n",
    "created by Muhyi :\n",
    "muhyifathi@gmail.com"
   ]
  },
  {
   "cell_type": "markdown",
   "metadata": {},
   "source": [
    "___________________________"
   ]
  },
  {
   "cell_type": "code",
   "execution_count": 1,
   "metadata": {
    "collapsed": true
   },
   "outputs": [],
   "source": [
    "import numpy as np\n",
    "import pandas as pd"
   ]
  },
  {
   "cell_type": "code",
   "execution_count": 2,
   "metadata": {
    "collapsed": true
   },
   "outputs": [],
   "source": [
    "# import data dari csv\n",
    "bankloan = pd.read_csv('bankloan.csv')"
   ]
  },
  {
   "cell_type": "markdown",
   "metadata": {},
   "source": [
    "_______________________"
   ]
  },
  {
   "cell_type": "markdown",
   "metadata": {},
   "source": [
    "# PEMODELAN"
   ]
  },
  {
   "cell_type": "markdown",
   "metadata": {},
   "source": [
    "______________________"
   ]
  },
  {
   "cell_type": "markdown",
   "metadata": {},
   "source": [
    "# Membuat Peubah Dummy"
   ]
  },
  {
   "cell_type": "code",
   "execution_count": 3,
   "metadata": {
    "collapsed": false
   },
   "outputs": [
    {
     "name": "stdout",
     "output_type": "stream",
     "text": [
      "peubah awal:\n",
      " ['age', 'ed', 'employ', 'address', 'income', 'debtinc', 'creddebt', 'othdebt', 'default'] \n",
      "\n",
      "peubah setelah dummy dibuat:\n",
      " ['age', 'employ', 'address', 'income', 'debtinc', 'creddebt', 'othdebt', 'default', 'ed_1', 'ed_2', 'ed_3', 'ed_4', 'ed_5'] \n",
      "\n"
     ]
    }
   ],
   "source": [
    "print(\"peubah awal:\\n\", list(bankloan),\"\\n\")\n",
    "bankloan_dummies = pd.get_dummies(bankloan,columns=['ed'])\n",
    "print(\"peubah setelah dummy dibuat:\\n\", list(bankloan_dummies),\"\\n\")"
   ]
  },
  {
   "cell_type": "code",
   "execution_count": 4,
   "metadata": {
    "collapsed": false
   },
   "outputs": [
    {
     "data": {
      "text/plain": [
       "['age',\n",
       " 'employ',\n",
       " 'address',\n",
       " 'income',\n",
       " 'debtinc',\n",
       " 'creddebt',\n",
       " 'othdebt',\n",
       " 'ed_1',\n",
       " 'ed_2',\n",
       " 'ed_3',\n",
       " 'ed_4',\n",
       " 'ed_5']"
      ]
     },
     "execution_count": 4,
     "metadata": {},
     "output_type": "execute_result"
    }
   ],
   "source": [
    "# memilih peubah yang akan digunakan dalam pemodelan \n",
    "FITUR_DUMMIES=list(bankloan_dummies.columns[0:7])+list(bankloan_dummies.columns[8:13])\n",
    "y=bankloan['default']\n",
    "FITUR_DUMMIES"
   ]
  },
  {
   "cell_type": "markdown",
   "metadata": {},
   "source": [
    "# Membagi Data Train Test"
   ]
  },
  {
   "cell_type": "code",
   "execution_count": 5,
   "metadata": {
    "collapsed": false
   },
   "outputs": [],
   "source": [
    "# library untuk membagi data\n",
    "from sklearn.model_selection import train_test_split, cross_val_score \n",
    "from sklearn.model_selection import StratifiedKFold"
   ]
  },
  {
   "cell_type": "code",
   "execution_count": 6,
   "metadata": {
    "collapsed": false
   },
   "outputs": [],
   "source": [
    "x_trainval, x_test, y_trainval, y_test = train_test_split(bankloan_dummies[FITUR_DUMMIES],\n",
    "                                                          y,random_state=0,stratify=y) \n",
    "x_train, x_val, y_train, y_val = train_test_split(x_trainval,\n",
    "                                                  y_trainval,random_state=0,\n",
    "                                                  stratify=y_trainval)"
   ]
  },
  {
   "cell_type": "markdown",
   "metadata": {},
   "source": [
    "# Pemodelan Awal Naive Bayes"
   ]
  },
  {
   "cell_type": "code",
   "execution_count": 7,
   "metadata": {
    "collapsed": true
   },
   "outputs": [],
   "source": [
    "# library untuk naive bayes\n",
    "from sklearn.naive_bayes import BernoulliNB"
   ]
  },
  {
   "cell_type": "code",
   "execution_count": 8,
   "metadata": {
    "collapsed": false
   },
   "outputs": [
    {
     "data": {
      "text/plain": [
       "BernoulliNB(alpha=1.0, binarize=0.0, class_prior=None, fit_prior=True)"
      ]
     },
     "execution_count": 8,
     "metadata": {},
     "output_type": "execute_result"
    }
   ],
   "source": [
    "# membangun model naive bayes\n",
    "nvb0 = BernoulliNB()\n",
    "nvb0.fit(x_trainval,y_trainval)"
   ]
  },
  {
   "cell_type": "code",
   "execution_count": 9,
   "metadata": {
    "collapsed": true
   },
   "outputs": [],
   "source": [
    "# library untuk menghitung ukuran prediksi\n",
    "from sklearn.metrics import classification_report, accuracy_score, recall_score\n",
    "from sklearn.metrics import precision_score, f1_score, confusion_matrix"
   ]
  },
  {
   "cell_type": "code",
   "execution_count": 10,
   "metadata": {
    "collapsed": false
   },
   "outputs": [],
   "source": [
    "def eval_nb(nvb):\n",
    "    print('Evaluasi pada data test \\n')\n",
    "    print(\"akurasi : \\n\", \n",
    "          accuracy_score(y_test,nvb.predict(x_test)),\"\\n\")\n",
    "    print(\"recall : \\n\", \n",
    "          recall_score(y_test,nvb.predict(x_test)),\"\\n\")\n",
    "    print(\"precision : \\n\", \n",
    "          precision_score(y_test,nvb.predict(x_test)),\"\\n\")\n",
    "    print(\"f1 score : \\n\", \n",
    "          f1_score(y_test,nvb.predict(x_test)),\"\\n\")\n",
    "    print(\"confusion_matrix : \\n\", \n",
    "          confusion_matrix(y_test,nvb.predict(x_test)),\"\\n\")\n",
    "    print(\"classification_report : \\n\",\n",
    "      classification_report(y_test,nvb.predict(x_test)))"
   ]
  },
  {
   "cell_type": "code",
   "execution_count": 11,
   "metadata": {
    "collapsed": false,
    "scrolled": false
   },
   "outputs": [
    {
     "name": "stdout",
     "output_type": "stream",
     "text": [
      "Evaluasi pada data test \n",
      "\n",
      "akurasi : \n",
      " 0.742857142857 \n",
      "\n",
      "recall : \n",
      " 0.239130434783 \n",
      "\n",
      "precision : \n",
      " 0.52380952381 \n",
      "\n",
      "f1 score : \n",
      " 0.328358208955 \n",
      "\n",
      "confusion_matrix : \n",
      " [[119  10]\n",
      " [ 35  11]] \n",
      "\n",
      "classification_report : \n",
      "              precision    recall  f1-score   support\n",
      "\n",
      "          0       0.77      0.92      0.84       129\n",
      "          1       0.52      0.24      0.33        46\n",
      "\n",
      "avg / total       0.71      0.74      0.71       175\n",
      "\n"
     ]
    }
   ],
   "source": [
    "eval_nb(nvb0)"
   ]
  },
  {
   "cell_type": "markdown",
   "metadata": {},
   "source": [
    "# Memilih parameter tertentu berdasarkan validasi dan validasi silang : alpha"
   ]
  },
  {
   "cell_type": "code",
   "execution_count": 12,
   "metadata": {
    "collapsed": false
   },
   "outputs": [],
   "source": [
    "# validasi silang berstrata\n",
    "skfold = StratifiedKFold(n_splits=5)\n",
    "\n",
    "# menyediakan tempat untuk beberapa skor prediksi\n",
    "test_score = []\n",
    "train_score = []\n",
    "valid_score = []\n",
    "cv_score = []\n",
    "\n",
    "alpha_tune = [0.1,0.2,0.3,0.4,0.5,0.6]\n",
    "\n",
    "# memilih banyaknya pohon menggunakan looping dengan f1 skor \n",
    "for alpha in alpha_tune:\n",
    "    nvb = BernoulliNB(alpha=alpha)\n",
    "    nvb.fit(x_train,y_train)\n",
    "    \n",
    "    valid_score.append(f1_score(y_val,nvb.predict(x_val)))\n",
    "    test_score.append(f1_score(y_test,nvb.predict(x_test)))\n",
    "    train_score.append(f1_score(y_train,nvb.predict(x_train)))\n",
    "    cv_score.append(cross_val_score(nvb,x_trainval,y_trainval,\n",
    "                                    scoring=\"f1\",cv=skfold).mean())"
   ]
  },
  {
   "cell_type": "code",
   "execution_count": 13,
   "metadata": {
    "collapsed": true
   },
   "outputs": [],
   "source": [
    "# library untuk eksplorasi data\n",
    "import matplotlib.pyplot as plt\n",
    "import seaborn as sns"
   ]
  },
  {
   "cell_type": "code",
   "execution_count": 14,
   "metadata": {
    "collapsed": false
   },
   "outputs": [
    {
     "data": {
      "image/png": "[encoded data removed]",
      "text/plain": [
       "<matplotlib.figure.Figure at 0x2447b8a9b70>"
      ]
     },
     "metadata": {},
     "output_type": "display_data"
    }
   ],
   "source": [
    "# mengatur ukuran gambar\n",
    "plt.figure(figsize=(16,10))\n",
    "\n",
    "# mengubah skala huruf\n",
    "sns.set_context(\"paper\", font_scale=2)\n",
    "\n",
    "# menumpuk beberapa grafik dalam satu jendela\n",
    "plt.plot(alpha_tune,train_score,'o-')\n",
    "plt.plot(alpha_tune,valid_score,'o-')\n",
    "plt.plot(alpha_tune,test_score,'o-')\n",
    "plt.plot(alpha_tune,cv_score,'o-')\n",
    "\n",
    "# menambahkan keterangan\n",
    "plt.legend([\"train\",\"valid\",\"test\",\"cv 5\"],fontsize=23)\n",
    "\n",
    "# mangatur label pada sumbu x\n",
    "plt.xlabel(\"alpha\",fontsize=23)\n",
    "\n",
    "# mangatur label pada sumbu y\n",
    "plt.ylabel(\"f1 score\",fontsize=20)\n",
    "\n",
    "plt.show()"
   ]
  },
  {
   "cell_type": "markdown",
   "metadata": {},
   "source": [
    "# Memilih Parameter Tertentu Menggunakan Fungsi GridSearchCV (Tunning) :"
   ]
  },
  {
   "cell_type": "code",
   "execution_count": 15,
   "metadata": {
    "collapsed": false
   },
   "outputs": [],
   "source": [
    "# library\n",
    "from sklearn.model_selection import GridSearchCV"
   ]
  },
  {
   "cell_type": "code",
   "execution_count": 16,
   "metadata": {
    "collapsed": false
   },
   "outputs": [],
   "source": [
    "# daftar parameter yang disiapkan\n",
    "alpha_tune = [0.1,0.2,0.3,0.4,0.5,0.6,0.7,0.8,0.9,1]\n",
    "\n",
    "# parmeter yang disiapkan digabung dalam satu objek\n",
    "param_grid = {\n",
    "    'alpha':alpha_tune\n",
    "}"
   ]
  },
  {
   "cell_type": "code",
   "execution_count": 17,
   "metadata": {
    "collapsed": false
   },
   "outputs": [],
   "source": [
    "# program untuk tunning menggunakan fungsi GridSearchCV\n",
    "\n",
    "# inisialisasi model \n",
    "nvb = BernoulliNB()\n",
    "\n",
    "# perintah untuk melakukan validasi silang secara stratified\n",
    "skf = StratifiedKFold(n_splits=3,random_state=0)\n",
    "\n",
    "# fungsi GridSearchCV\n",
    "grid_search_nvb = GridSearchCV(nvb,\n",
    "                               #parameter grid   \n",
    "                               param_grid=param_grid,\n",
    "                               #beberapa ukuran yang ingin dimunculkan\n",
    "                               scoring=['accuracy','recall','precision','f1'],\n",
    "                               #ukuran prediksi yang digunakan untuk tunning\n",
    "                               refit='f1',\n",
    "                               # metode validasi silang\n",
    "                               cv=skf)"
   ]
  },
  {
   "cell_type": "code",
   "execution_count": 18,
   "metadata": {
    "collapsed": false
   },
   "outputs": [
    {
     "data": {
      "text/plain": [
       "GridSearchCV(cv=StratifiedKFold(n_splits=3, random_state=0, shuffle=False),\n",
       "       error_score='raise',\n",
       "       estimator=BernoulliNB(alpha=1.0, binarize=0.0, class_prior=None, fit_prior=True),\n",
       "       fit_params=None, iid=True, n_jobs=1,\n",
       "       param_grid={'alpha': [0.1, 0.2, 0.3, 0.4, 0.5, 0.6, 0.7, 0.8, 0.9, 1]},\n",
       "       pre_dispatch='2*n_jobs', refit='f1', return_train_score=True,\n",
       "       scoring=['accuracy', 'recall', 'precision', 'f1'], verbose=0)"
      ]
     },
     "execution_count": 18,
     "metadata": {},
     "output_type": "execute_result"
    }
   ],
   "source": [
    "# melakukan parameter tunning menggunakan data training\n",
    "grid_search_nvb.fit(x_trainval,y_trainval)"
   ]
  },
  {
   "cell_type": "code",
   "execution_count": 19,
   "metadata": {
    "collapsed": false
   },
   "outputs": [],
   "source": [
    "# memunculkan seluruh hasil fitting model\n",
    "df_tunning = pd.DataFrame(grid_search_nvb.cv_results_)"
   ]
  },
  {
   "cell_type": "code",
   "execution_count": 20,
   "metadata": {
    "collapsed": false
   },
   "outputs": [
    {
     "data": {
      "text/plain": [
       "['mean_fit_time',\n",
       " 'mean_score_time',\n",
       " 'mean_test_accuracy',\n",
       " 'mean_test_f1',\n",
       " 'mean_test_precision',\n",
       " 'mean_test_recall',\n",
       " 'mean_train_accuracy',\n",
       " 'mean_train_f1',\n",
       " 'mean_train_precision',\n",
       " 'mean_train_recall',\n",
       " 'param_alpha',\n",
       " 'params',\n",
       " 'rank_test_accuracy',\n",
       " 'rank_test_f1',\n",
       " 'rank_test_precision',\n",
       " 'rank_test_recall',\n",
       " 'split0_test_accuracy',\n",
       " 'split0_test_f1',\n",
       " 'split0_test_precision',\n",
       " 'split0_test_recall',\n",
       " 'split0_train_accuracy',\n",
       " 'split0_train_f1',\n",
       " 'split0_train_precision',\n",
       " 'split0_train_recall',\n",
       " 'split1_test_accuracy',\n",
       " 'split1_test_f1',\n",
       " 'split1_test_precision',\n",
       " 'split1_test_recall',\n",
       " 'split1_train_accuracy',\n",
       " 'split1_train_f1',\n",
       " 'split1_train_precision',\n",
       " 'split1_train_recall',\n",
       " 'split2_test_accuracy',\n",
       " 'split2_test_f1',\n",
       " 'split2_test_precision',\n",
       " 'split2_test_recall',\n",
       " 'split2_train_accuracy',\n",
       " 'split2_train_f1',\n",
       " 'split2_train_precision',\n",
       " 'split2_train_recall',\n",
       " 'std_fit_time',\n",
       " 'std_score_time',\n",
       " 'std_test_accuracy',\n",
       " 'std_test_f1',\n",
       " 'std_test_precision',\n",
       " 'std_test_recall',\n",
       " 'std_train_accuracy',\n",
       " 'std_train_f1',\n",
       " 'std_train_precision',\n",
       " 'std_train_recall']"
      ]
     },
     "execution_count": 20,
     "metadata": {},
     "output_type": "execute_result"
    }
   ],
   "source": [
    "list(df_tunning)"
   ]
  },
  {
   "cell_type": "code",
   "execution_count": 21,
   "metadata": {
    "collapsed": false
   },
   "outputs": [
    {
     "data": {
      "text/html": [
       "<div>\n",
       "<table border=\"1\" class=\"dataframe\">\n",
       "  <thead>\n",
       "    <tr style=\"text-align: right;\">\n",
       "      <th></th>\n",
       "      <th>param_alpha</th>\n",
       "      <th>mean_test_accuracy</th>\n",
       "      <th>mean_test_f1</th>\n",
       "      <th>mean_test_precision</th>\n",
       "      <th>mean_test_recall</th>\n",
       "    </tr>\n",
       "  </thead>\n",
       "  <tbody>\n",
       "    <tr>\n",
       "      <th>0</th>\n",
       "      <td>0.1</td>\n",
       "      <td>0.739048</td>\n",
       "      <td>0.207251</td>\n",
       "      <td>0.507577</td>\n",
       "      <td>0.131473</td>\n",
       "    </tr>\n",
       "    <tr>\n",
       "      <th>1</th>\n",
       "      <td>0.2</td>\n",
       "      <td>0.739048</td>\n",
       "      <td>0.207251</td>\n",
       "      <td>0.507577</td>\n",
       "      <td>0.131473</td>\n",
       "    </tr>\n",
       "    <tr>\n",
       "      <th>2</th>\n",
       "      <td>0.3</td>\n",
       "      <td>0.739048</td>\n",
       "      <td>0.207251</td>\n",
       "      <td>0.507577</td>\n",
       "      <td>0.131473</td>\n",
       "    </tr>\n",
       "    <tr>\n",
       "      <th>3</th>\n",
       "      <td>0.4</td>\n",
       "      <td>0.739048</td>\n",
       "      <td>0.207251</td>\n",
       "      <td>0.507577</td>\n",
       "      <td>0.131473</td>\n",
       "    </tr>\n",
       "    <tr>\n",
       "      <th>4</th>\n",
       "      <td>0.5</td>\n",
       "      <td>0.739048</td>\n",
       "      <td>0.207251</td>\n",
       "      <td>0.507577</td>\n",
       "      <td>0.131473</td>\n",
       "    </tr>\n",
       "    <tr>\n",
       "      <th>5</th>\n",
       "      <td>0.6</td>\n",
       "      <td>0.739048</td>\n",
       "      <td>0.207251</td>\n",
       "      <td>0.507577</td>\n",
       "      <td>0.131473</td>\n",
       "    </tr>\n",
       "    <tr>\n",
       "      <th>6</th>\n",
       "      <td>0.7</td>\n",
       "      <td>0.739048</td>\n",
       "      <td>0.207251</td>\n",
       "      <td>0.507577</td>\n",
       "      <td>0.131473</td>\n",
       "    </tr>\n",
       "    <tr>\n",
       "      <th>7</th>\n",
       "      <td>0.8</td>\n",
       "      <td>0.739048</td>\n",
       "      <td>0.207251</td>\n",
       "      <td>0.507577</td>\n",
       "      <td>0.131473</td>\n",
       "    </tr>\n",
       "    <tr>\n",
       "      <th>8</th>\n",
       "      <td>0.9</td>\n",
       "      <td>0.737143</td>\n",
       "      <td>0.206163</td>\n",
       "      <td>0.488952</td>\n",
       "      <td>0.131473</td>\n",
       "    </tr>\n",
       "    <tr>\n",
       "      <th>9</th>\n",
       "      <td>1</td>\n",
       "      <td>0.737143</td>\n",
       "      <td>0.206163</td>\n",
       "      <td>0.488952</td>\n",
       "      <td>0.131473</td>\n",
       "    </tr>\n",
       "  </tbody>\n",
       "</table>\n",
       "</div>"
      ],
      "text/plain": [
       "  param_alpha  mean_test_accuracy  mean_test_f1  mean_test_precision  \\\n",
       "0         0.1            0.739048      0.207251             0.507577   \n",
       "1         0.2            0.739048      0.207251             0.507577   \n",
       "2         0.3            0.739048      0.207251             0.507577   \n",
       "3         0.4            0.739048      0.207251             0.507577   \n",
       "4         0.5            0.739048      0.207251             0.507577   \n",
       "5         0.6            0.739048      0.207251             0.507577   \n",
       "6         0.7            0.739048      0.207251             0.507577   \n",
       "7         0.8            0.739048      0.207251             0.507577   \n",
       "8         0.9            0.737143      0.206163             0.488952   \n",
       "9           1            0.737143      0.206163             0.488952   \n",
       "\n",
       "   mean_test_recall  \n",
       "0          0.131473  \n",
       "1          0.131473  \n",
       "2          0.131473  \n",
       "3          0.131473  \n",
       "4          0.131473  \n",
       "5          0.131473  \n",
       "6          0.131473  \n",
       "7          0.131473  \n",
       "8          0.131473  \n",
       "9          0.131473  "
      ]
     },
     "execution_count": 21,
     "metadata": {},
     "output_type": "execute_result"
    }
   ],
   "source": [
    "show = ['param_alpha','mean_test_accuracy','mean_test_f1','mean_test_precision','mean_test_recall']\n",
    "df_tunning[show]"
   ]
  },
  {
   "cell_type": "markdown",
   "metadata": {},
   "source": [
    "____________________-"
   ]
  },
  {
   "cell_type": "markdown",
   "metadata": {},
   "source": [
    "# MODEL AKHIR"
   ]
  },
  {
   "cell_type": "markdown",
   "metadata": {},
   "source": [
    "____________________--"
   ]
  },
  {
   "cell_type": "code",
   "execution_count": 22,
   "metadata": {
    "collapsed": false
   },
   "outputs": [
    {
     "data": {
      "text/plain": [
       "BernoulliNB(alpha=0.4, binarize=0.0, class_prior=None, fit_prior=True)"
      ]
     },
     "execution_count": 22,
     "metadata": {},
     "output_type": "execute_result"
    }
   ],
   "source": [
    "# model akhir berdasarkan fungsi GridSearchCV\n",
    "nvb_final = BernoulliNB(alpha=0.4)\n",
    "nvb_final.fit(x_train,y_train)"
   ]
  },
  {
   "cell_type": "code",
   "execution_count": 23,
   "metadata": {
    "collapsed": false
   },
   "outputs": [
    {
     "name": "stdout",
     "output_type": "stream",
     "text": [
      "akurasi \n",
      " 0.742857142857 \n",
      "\n",
      "recall \n",
      " 0.239130434783 \n",
      "\n",
      "precision \n",
      " 0.52380952381 \n",
      "\n",
      "confusion matrix \n",
      " [[119  10]\n",
      " [ 35  11]] \n",
      "\n",
      "classification report \n",
      "              precision    recall  f1-score   support\n",
      "\n",
      "          0       0.77      0.92      0.84       129\n",
      "          1       0.52      0.24      0.33        46\n",
      "\n",
      "avg / total       0.71      0.74      0.71       175\n",
      " \n",
      "\n"
     ]
    }
   ],
   "source": [
    "# menampilkan beberapa skor pada validasi akhir\n",
    "print(\"akurasi \\n\",accuracy_score(y_test,nvb_final.predict(x_test)),\"\\n\")\n",
    "print(\"recall \\n\",recall_score(y_test,nvb_final.predict(x_test)),\"\\n\")\n",
    "print(\"precision \\n\",precision_score(y_test,nvb_final.predict(x_test)),\"\\n\")\n",
    "print(\"confusion matrix \\n\",confusion_matrix(y_test,nvb_final.predict(x_test)),\"\\n\")\n",
    "print(\"classification report \\n\",classification_report(y_test,nvb_final.predict(x_test)),\"\\n\")"
   ]
  },
  {
   "cell_type": "markdown",
   "metadata": {},
   "source": [
    "_______________"
   ]
  },
  {
   "cell_type": "markdown",
   "metadata": {},
   "source": [
    "# MENYIMPAN DAN MEMUAT MODEL"
   ]
  },
  {
   "cell_type": "markdown",
   "metadata": {},
   "source": [
    "_________________________"
   ]
  },
  {
   "cell_type": "code",
   "execution_count": 24,
   "metadata": {
    "collapsed": true
   },
   "outputs": [],
   "source": [
    "# library untuk menyimpan dan memuat model\n",
    "import pickle"
   ]
  },
  {
   "cell_type": "code",
   "execution_count": 25,
   "metadata": {
    "collapsed": true
   },
   "outputs": [],
   "source": [
    "#menyimpan model\n",
    "filename = 'Model Naive Bayes.sav'\n",
    "pickle.dump(nvb_final,open(filename,'wb'))"
   ]
  },
  {
   "cell_type": "code",
   "execution_count": 26,
   "metadata": {
    "collapsed": true
   },
   "outputs": [],
   "source": [
    "# memuat model\n",
    "loaded_model = pickle.load(open(filename,'rb'))"
   ]
  },
  {
   "cell_type": "code",
   "execution_count": 27,
   "metadata": {
    "collapsed": false
   },
   "outputs": [
    {
     "name": "stdout",
     "output_type": "stream",
     "text": [
      "akurasi \n",
      " 0.742857142857 \n",
      "\n",
      "recall \n",
      " 0.239130434783 \n",
      "\n",
      "precision \n",
      " 0.52380952381 \n",
      "\n",
      "confusion matrix \n",
      " [[119  10]\n",
      " [ 35  11]] \n",
      "\n",
      "classification report \n",
      "              precision    recall  f1-score   support\n",
      "\n",
      "          0       0.77      0.92      0.84       129\n",
      "          1       0.52      0.24      0.33        46\n",
      "\n",
      "avg / total       0.71      0.74      0.71       175\n",
      " \n",
      "\n"
     ]
    }
   ],
   "source": [
    "# menampilkan beberapa skor pada model yang telah dimuat\n",
    "print(\"akurasi \\n\",accuracy_score(y_test,loaded_model.predict(x_test)),\"\\n\")\n",
    "print(\"recall \\n\",recall_score(y_test,loaded_model.predict(x_test)),\"\\n\")\n",
    "print(\"precision \\n\",precision_score(y_test,loaded_model.predict(x_test)),\"\\n\")\n",
    "print(\"confusion matrix \\n\",confusion_matrix(y_test,loaded_model.predict(x_test)),\"\\n\")\n",
    "print(\"classification report \\n\",classification_report(y_test,loaded_model.predict(x_test)),\"\\n\")"
   ]
  }
 ],
 "metadata": {
  "kernelspec": {
   "display_name": "Python 3",
   "language": "python",
   "name": "python3"
  },
  "language_info": {
   "codemirror_mode": {
    "name": "ipython",
    "version": 3
   },
   "file_extension": ".py",
   "mimetype": "text/x-python",
   "name": "python",
   "nbconvert_exporter": "python",
   "pygments_lexer": "ipython3",
   "version": "3.6.0"
  }
 },
 "nbformat": 4,
 "nbformat_minor": 2
}
