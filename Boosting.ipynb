{
 "cells": [
  {
   "cell_type": "markdown",
   "metadata": {
    "collapsed": true
   },
   "source": [
    "_____________________________"
   ]
  },
  {
   "cell_type": "markdown",
   "metadata": {},
   "source": [
    "# Boosting\n",
    "created by Muhyi :\n",
    "muhyifathi@gmail.com"
   ]
  },
  {
   "cell_type": "markdown",
   "metadata": {},
   "source": [
    "___________________________"
   ]
  },
  {
   "cell_type": "code",
   "execution_count": 1,
   "metadata": {
    "collapsed": true
   },
   "outputs": [],
   "source": [
    "import numpy as np\n",
    "import pandas as pd"
   ]
  },
  {
   "cell_type": "code",
   "execution_count": 2,
   "metadata": {
    "collapsed": true
   },
   "outputs": [],
   "source": [
    "# import data dari csv\n",
    "bankloan = pd.read_csv('bankloan.csv')"
   ]
  },
  {
   "cell_type": "code",
   "execution_count": 3,
   "metadata": {
    "collapsed": false
   },
   "outputs": [
    {
     "data": {
      "text/html": [
       "<div>\n",
       "<table border=\"1\" class=\"dataframe\">\n",
       "  <thead>\n",
       "    <tr style=\"text-align: right;\">\n",
       "      <th></th>\n",
       "      <th>age</th>\n",
       "      <th>ed</th>\n",
       "      <th>employ</th>\n",
       "      <th>address</th>\n",
       "      <th>income</th>\n",
       "      <th>debtinc</th>\n",
       "      <th>creddebt</th>\n",
       "      <th>othdebt</th>\n",
       "      <th>default</th>\n",
       "    </tr>\n",
       "  </thead>\n",
       "  <tbody>\n",
       "    <tr>\n",
       "      <th>0</th>\n",
       "      <td>41</td>\n",
       "      <td>3</td>\n",
       "      <td>17</td>\n",
       "      <td>12</td>\n",
       "      <td>176</td>\n",
       "      <td>9.3</td>\n",
       "      <td>11.359392</td>\n",
       "      <td>5.008608</td>\n",
       "      <td>1</td>\n",
       "    </tr>\n",
       "    <tr>\n",
       "      <th>1</th>\n",
       "      <td>27</td>\n",
       "      <td>1</td>\n",
       "      <td>10</td>\n",
       "      <td>6</td>\n",
       "      <td>31</td>\n",
       "      <td>17.3</td>\n",
       "      <td>1.362202</td>\n",
       "      <td>4.000798</td>\n",
       "      <td>0</td>\n",
       "    </tr>\n",
       "    <tr>\n",
       "      <th>2</th>\n",
       "      <td>40</td>\n",
       "      <td>1</td>\n",
       "      <td>15</td>\n",
       "      <td>14</td>\n",
       "      <td>55</td>\n",
       "      <td>5.5</td>\n",
       "      <td>0.856075</td>\n",
       "      <td>2.168925</td>\n",
       "      <td>0</td>\n",
       "    </tr>\n",
       "    <tr>\n",
       "      <th>3</th>\n",
       "      <td>41</td>\n",
       "      <td>1</td>\n",
       "      <td>15</td>\n",
       "      <td>14</td>\n",
       "      <td>120</td>\n",
       "      <td>2.9</td>\n",
       "      <td>2.658720</td>\n",
       "      <td>0.821280</td>\n",
       "      <td>0</td>\n",
       "    </tr>\n",
       "    <tr>\n",
       "      <th>4</th>\n",
       "      <td>24</td>\n",
       "      <td>2</td>\n",
       "      <td>2</td>\n",
       "      <td>0</td>\n",
       "      <td>28</td>\n",
       "      <td>17.3</td>\n",
       "      <td>1.787436</td>\n",
       "      <td>3.056564</td>\n",
       "      <td>1</td>\n",
       "    </tr>\n",
       "  </tbody>\n",
       "</table>\n",
       "</div>"
      ],
      "text/plain": [
       "   age  ed  employ  address  income  debtinc   creddebt   othdebt  default\n",
       "0   41   3      17       12     176      9.3  11.359392  5.008608        1\n",
       "1   27   1      10        6      31     17.3   1.362202  4.000798        0\n",
       "2   40   1      15       14      55      5.5   0.856075  2.168925        0\n",
       "3   41   1      15       14     120      2.9   2.658720  0.821280        0\n",
       "4   24   2       2        0      28     17.3   1.787436  3.056564        1"
      ]
     },
     "execution_count": 3,
     "metadata": {},
     "output_type": "execute_result"
    }
   ],
   "source": [
    "# manmpilkan beberapa baris data awal\n",
    "bankloan.head()"
   ]
  },
  {
   "cell_type": "code",
   "execution_count": 4,
   "metadata": {
    "collapsed": false
   },
   "outputs": [
    {
     "name": "stdout",
     "output_type": "stream",
     "text": [
      "Dimensi Data :  (700, 9) \n",
      "\n",
      "Tipe Data :\n",
      "  age           int64\n",
      "ed            int64\n",
      "employ        int64\n",
      "address       int64\n",
      "income        int64\n",
      "debtinc     float64\n",
      "creddebt    float64\n",
      "othdebt     float64\n",
      "default       int64\n",
      "dtype: object \n",
      "\n",
      "Data Hilang :\n",
      "  age         0\n",
      "ed          0\n",
      "employ      0\n",
      "address     0\n",
      "income      0\n",
      "debtinc     0\n",
      "creddebt    0\n",
      "othdebt     0\n",
      "default     0\n",
      "dtype: int64\n"
     ]
    }
   ],
   "source": [
    "print(\"Dimensi Data : \",bankloan.shape,\"\\n\")\n",
    "print(\"Tipe Data :\\n \",bankloan.dtypes,\"\\n\")\n",
    "print(\"Data Hilang :\\n \",bankloan.isnull().sum())"
   ]
  },
  {
   "cell_type": "markdown",
   "metadata": {},
   "source": [
    "_____________________"
   ]
  },
  {
   "cell_type": "markdown",
   "metadata": {},
   "source": [
    "# EKSPLORASI DATA"
   ]
  },
  {
   "cell_type": "markdown",
   "metadata": {},
   "source": [
    "______________"
   ]
  },
  {
   "cell_type": "markdown",
   "metadata": {},
   "source": [
    "# Peubah Respon"
   ]
  },
  {
   "cell_type": "code",
   "execution_count": 5,
   "metadata": {
    "collapsed": true
   },
   "outputs": [],
   "source": [
    "# library untuk eksplorasi data\n",
    "import matplotlib.pyplot as plt\n",
    "# library seaborn\n",
    "import seaborn as sns"
   ]
  },
  {
   "cell_type": "code",
   "execution_count": 6,
   "metadata": {
    "collapsed": false
   },
   "outputs": [
    {
     "data": {
      "image/png": "[encoded data removed]",
      "text/plain": [
       "<matplotlib.figure.Figure at 0x164ec11dd30>"
      ]
     },
     "metadata": {},
     "output_type": "display_data"
    }
   ],
   "source": [
    "# menghitung ukuran diagram pie\n",
    "size = [sum(bankloan['default']),\n",
    "        len(bankloan['default'])-sum(bankloan['default'])]\n",
    "\n",
    "# menentukan label\n",
    "label = ['default','non-default']\n",
    "\n",
    "# memilih warna\n",
    "color = [\"skyblue\",\"dodgerblue\"]\n",
    "\n",
    "# diagram pie \n",
    "plt.pie(size,labels=label,colors=color,autopct='%1.1f%%')\n",
    "\n",
    "# mengatur besarnya huruf\n",
    "sns.set_context(\"paper\", font_scale=2)\n",
    "\n",
    "plt.axis('equal')\n",
    "plt.show()"
   ]
  },
  {
   "cell_type": "markdown",
   "metadata": {},
   "source": [
    "# Peubah Kategorik"
   ]
  },
  {
   "cell_type": "code",
   "execution_count": 7,
   "metadata": {
    "collapsed": false
   },
   "outputs": [
    {
     "data": {
      "text/html": [
       "<div>\n",
       "<table border=\"1\" class=\"dataframe\">\n",
       "  <thead>\n",
       "    <tr style=\"text-align: right;\">\n",
       "      <th>default</th>\n",
       "      <th>0</th>\n",
       "      <th>1</th>\n",
       "    </tr>\n",
       "    <tr>\n",
       "      <th>ed</th>\n",
       "      <th></th>\n",
       "      <th></th>\n",
       "    </tr>\n",
       "  </thead>\n",
       "  <tbody>\n",
       "    <tr>\n",
       "      <th>1</th>\n",
       "      <td>293</td>\n",
       "      <td>79</td>\n",
       "    </tr>\n",
       "    <tr>\n",
       "      <th>2</th>\n",
       "      <td>139</td>\n",
       "      <td>59</td>\n",
       "    </tr>\n",
       "    <tr>\n",
       "      <th>3</th>\n",
       "      <td>57</td>\n",
       "      <td>30</td>\n",
       "    </tr>\n",
       "    <tr>\n",
       "      <th>4</th>\n",
       "      <td>24</td>\n",
       "      <td>14</td>\n",
       "    </tr>\n",
       "    <tr>\n",
       "      <th>5</th>\n",
       "      <td>4</td>\n",
       "      <td>1</td>\n",
       "    </tr>\n",
       "  </tbody>\n",
       "</table>\n",
       "</div>"
      ],
      "text/plain": [
       "default    0   1\n",
       "ed              \n",
       "1        293  79\n",
       "2        139  59\n",
       "3         57  30\n",
       "4         24  14\n",
       "5          4   1"
      ]
     },
     "execution_count": 7,
     "metadata": {},
     "output_type": "execute_result"
    }
   ],
   "source": [
    "# membuat tabulasi silang untuk peubah kategorik\n",
    "ed=pd.crosstab(bankloan['ed'],bankloan['default'])\n",
    "ed"
   ]
  },
  {
   "cell_type": "code",
   "execution_count": 8,
   "metadata": {
    "collapsed": false
   },
   "outputs": [
    {
     "data": {
      "image/png": "[encoded data removed]",
      "text/plain": [
       "<matplotlib.figure.Figure at 0x164ee14cda0>"
      ]
     },
     "metadata": {},
     "output_type": "display_data"
    }
   ],
   "source": [
    "# membuat grafik\n",
    "pd.crosstab(bankloan['ed'],bankloan['default']\n",
    "            ,normalize=0).plot(kind='bar',stacked=True,alpha=0.5)\n",
    "\n",
    "# mengatur orientasi label pada grafik\n",
    "plt.xticks(rotation='horizontal')\n",
    "\n",
    "plt.show()"
   ]
  },
  {
   "cell_type": "markdown",
   "metadata": {},
   "source": [
    "# Peubah Numerik"
   ]
  },
  {
   "cell_type": "code",
   "execution_count": 9,
   "metadata": {
    "collapsed": false
   },
   "outputs": [
    {
     "data": {
      "text/plain": [
       "['age', 'income', 'debtinc', 'creddebt', 'othdebt']"
      ]
     },
     "execution_count": 9,
     "metadata": {},
     "output_type": "execute_result"
    }
   ],
   "source": [
    "# memilih peubah numerik\n",
    "FITUR_NUM=list(bankloan.columns[0:1])+list(bankloan.columns[4:8])\n",
    "FITUR_NUM"
   ]
  },
  {
   "cell_type": "code",
   "execution_count": 10,
   "metadata": {
    "collapsed": false
   },
   "outputs": [
    {
     "data": {
      "image/png": "[encoded data removed]",
      "text/plain": [
       "<matplotlib.figure.Figure at 0x164ee1585c0>"
      ]
     },
     "metadata": {},
     "output_type": "display_data"
    }
   ],
   "source": [
    "# membuat stacked histogram dengan looping\n",
    "\n",
    "# menyediakan jenedla dengan ukuran tertentu\n",
    "fig, axes = plt.subplots(3,2,figsize=(20,15))\n",
    "\n",
    "# memisahkan data untuk masing masing kategori pada peubah respon\n",
    "default = bankloan[bankloan['default']==1]\n",
    "nondefault = bankloan[bankloan['default']==0]\n",
    "\n",
    "# mengubah orientasi penomoran pada jendela\n",
    "ax = axes.ravel()\n",
    "\n",
    "# pembuatan gambar menggunakan looping\n",
    "for i in range(len(FITUR_NUM)):\n",
    "    \n",
    "    # banyaknya kelas pada histogram\n",
    "    _, bins = np.histogram(bankloan[FITUR_NUM[i]],bins=30)\n",
    "    \n",
    "    # membuat histogram kategori nondefault\n",
    "    ax[i].hist(nondefault[FITUR_NUM[i]],bins=bins,alpha=0.5)\n",
    "    \n",
    "    # membuat histogram kategori default\n",
    "    ax[i].hist(default[FITUR_NUM[i]],bins=bins,alpha=0.5)\n",
    "    \n",
    "    # menghilangkan skala pada sumbu y\n",
    "    ax[i].set_yticks(())\n",
    "    \n",
    "    # manambahakn keterangan pada sumbu x\n",
    "    ax[i].set_xlabel(FITUR_NUM[i],fontsize=23)\n",
    "    \n",
    "    # manambahakn keterangan pada sumbu x\n",
    "    ax[i].set_ylabel(\"Frekuensi\",fontsize=23)\n",
    "    \n",
    "    ax[i].set_title(\"\")\n",
    "\n",
    "# manambahkan keterangan\n",
    "ax[0].legend(['nondefault','default'],loc='best',fontsize=23)\n",
    "\n",
    "# mengatur jarak pada jendela secara otomatis\n",
    "fig.tight_layout()\n",
    "\n",
    "plt.show()"
   ]
  },
  {
   "cell_type": "markdown",
   "metadata": {},
   "source": [
    "_______________________"
   ]
  },
  {
   "cell_type": "markdown",
   "metadata": {},
   "source": [
    "# PEMODELAN"
   ]
  },
  {
   "cell_type": "markdown",
   "metadata": {},
   "source": [
    "______________________"
   ]
  },
  {
   "cell_type": "markdown",
   "metadata": {},
   "source": [
    "# Membuat Peubah Dummy"
   ]
  },
  {
   "cell_type": "code",
   "execution_count": 11,
   "metadata": {
    "collapsed": false
   },
   "outputs": [
    {
     "name": "stdout",
     "output_type": "stream",
     "text": [
      "peubah awal:\n",
      " ['age', 'ed', 'employ', 'address', 'income', 'debtinc', 'creddebt', 'othdebt', 'default'] \n",
      "\n",
      "peubah setelah dummy dibuat:\n",
      " ['age', 'employ', 'address', 'income', 'debtinc', 'creddebt', 'othdebt', 'default', 'ed_1', 'ed_2', 'ed_3', 'ed_4', 'ed_5'] \n",
      "\n"
     ]
    }
   ],
   "source": [
    "print(\"peubah awal:\\n\", list(bankloan),\"\\n\")\n",
    "bankloan_dummies = pd.get_dummies(bankloan,columns=['ed'])\n",
    "print(\"peubah setelah dummy dibuat:\\n\", list(bankloan_dummies),\"\\n\")"
   ]
  },
  {
   "cell_type": "code",
   "execution_count": 12,
   "metadata": {
    "collapsed": false
   },
   "outputs": [
    {
     "data": {
      "text/plain": [
       "['age',\n",
       " 'employ',\n",
       " 'address',\n",
       " 'income',\n",
       " 'debtinc',\n",
       " 'creddebt',\n",
       " 'othdebt',\n",
       " 'ed_1',\n",
       " 'ed_2',\n",
       " 'ed_3',\n",
       " 'ed_4',\n",
       " 'ed_5']"
      ]
     },
     "execution_count": 12,
     "metadata": {},
     "output_type": "execute_result"
    }
   ],
   "source": [
    "# memilih peubah yang akan digunakan dalam pemodelan \n",
    "FITUR_DUMMIES=list(bankloan_dummies.columns[0:7])+list(bankloan_dummies.columns[8:13])\n",
    "y=bankloan['default']\n",
    "FITUR_DUMMIES"
   ]
  },
  {
   "cell_type": "markdown",
   "metadata": {},
   "source": [
    "# Membagi Data Train Test"
   ]
  },
  {
   "cell_type": "code",
   "execution_count": 13,
   "metadata": {
    "collapsed": false
   },
   "outputs": [],
   "source": [
    "# library untuk membagi data\n",
    "from sklearn.model_selection import train_test_split, cross_val_score \n",
    "from sklearn.model_selection import StratifiedKFold"
   ]
  },
  {
   "cell_type": "code",
   "execution_count": 14,
   "metadata": {
    "collapsed": false
   },
   "outputs": [],
   "source": [
    "x_trainval, x_test, y_trainval, y_test = train_test_split(bankloan_dummies[FITUR_DUMMIES],\n",
    "                                                          y,random_state=0,stratify=y) \n",
    "x_train, x_val, y_train, y_val = train_test_split(x_trainval,\n",
    "                                                  y_trainval,random_state=0,\n",
    "                                                  stratify=y_trainval)"
   ]
  },
  {
   "cell_type": "markdown",
   "metadata": {},
   "source": [
    "# Evaluasi Prediksi"
   ]
  },
  {
   "cell_type": "code",
   "execution_count": 15,
   "metadata": {
    "collapsed": true
   },
   "outputs": [],
   "source": [
    "# library untuk evaluasi hasil prediksi\n",
    "from sklearn.metrics import classification_report, confusion_matrix\n",
    "from imblearn.metrics import geometric_mean_score\n",
    "from sklearn.metrics import make_scorer,precision_score\n",
    "from sklearn.metrics import recall_score,accuracy_score,f1_score\n",
    "\n",
    "# library untuk menghitung skor validasi silang\n",
    "from sklearn.model_selection import cross_val_score\n",
    "\n",
    "# library untuk melakukan validasi silang secara berstrata\n",
    "from sklearn.model_selection import StratifiedKFold"
   ]
  },
  {
   "cell_type": "code",
   "execution_count": 16,
   "metadata": {
    "collapsed": false
   },
   "outputs": [],
   "source": [
    "# menegmbangkan fungsi untuk evaluasi\n",
    "\n",
    "skf = StratifiedKFold(n_splits=5,random_state=10)\n",
    "\n",
    "def eval_cv(alg,X,y):\n",
    "    print(\"akurasi cv : \\n\",\n",
    "          cross_val_score(alg,X,y,scoring=\"accuracy\",cv=skf),\"\\n\",\n",
    "          cross_val_score(alg,X,y,scoring=\"accuracy\",cv=skf).mean(),\"\\n\")\n",
    "    print(\"recall cv : \\n\",\n",
    "          cross_val_score(alg,X,y,scoring=\"recall\",cv=skf),\"\\n\",\n",
    "          cross_val_score(alg,X,y,scoring=\"recall\",cv=skf).mean(),\"\\n\")\n",
    "    print(\"presisi cv : \\n\",\n",
    "          cross_val_score(alg,X,y,scoring=\"precision\",cv=skf),\"\\n\",\n",
    "          cross_val_score(alg,X,y,scoring=\"precision\",cv=skf).mean(),\"\\n\")\n",
    "    print(\"f1 cv : \\n\",\n",
    "          cross_val_score(alg,X,y,scoring=\"f1\",cv=skf),\"\\n\",\n",
    "          cross_val_score(alg,X,y,scoring=\"f1\",cv=skf).mean(),\"\\n\")\n",
    "\n",
    "    \n",
    "def eval(alg,X,y):\n",
    "    alg.fit(x_train,y_train)\n",
    "    print(\"akurasi:\\n\",\n",
    "          accuracy_score(y,alg.predict(X)),\"\\n\")\n",
    "    print(\"confusion matirx test:\\n\",\n",
    "          confusion_matrix(y,alg.predict(X)),\"\\n\")\n",
    "    print(\"classification Report test:\\n\",\n",
    "          classification_report(y,alg.predict(X)),\"\\n\")"
   ]
  },
  {
   "cell_type": "markdown",
   "metadata": {},
   "source": [
    "# 1. Adaptive Boosting"
   ]
  },
  {
   "cell_type": "markdown",
   "metadata": {},
   "source": [
    "#    Regresi Logistik"
   ]
  },
  {
   "cell_type": "code",
   "execution_count": 17,
   "metadata": {
    "collapsed": true
   },
   "outputs": [],
   "source": [
    "# library regresi logistik\n",
    "from sklearn.linear_model import LogisticRegression\n",
    "# library adaptive boosting\n",
    "from sklearn.ensemble import AdaBoostClassifier"
   ]
  },
  {
   "cell_type": "code",
   "execution_count": 18,
   "metadata": {
    "collapsed": false
   },
   "outputs": [],
   "source": [
    "# pemodelan regresi logistik\n",
    "reglog = LogisticRegression()\n",
    "# pemodelan regreso logistik dengan adaptive boosting\n",
    "ada_reglog = AdaBoostClassifier(reglog,\n",
    "                                n_estimators=200,\n",
    "                                learning_rate=0.1,\n",
    "                                random_state=10)"
   ]
  },
  {
   "cell_type": "code",
   "execution_count": 19,
   "metadata": {
    "collapsed": false
   },
   "outputs": [
    {
     "name": "stdout",
     "output_type": "stream",
     "text": [
      "akurasi cv : \n",
      " [ 0.81132075  0.78301887  0.80952381  0.85576923  0.81730769] \n",
      " 0.815388071048 \n",
      "\n",
      "recall cv : \n",
      " [ 0.46428571  0.46428571  0.59259259  0.51851852  0.51851852] \n",
      " 0.51164021164 \n",
      "\n",
      "presisi cv : \n",
      " [ 0.72222222  0.61904762  0.64        0.875       0.7       ] \n",
      " 0.711253968254 \n",
      "\n",
      "f1 cv : \n",
      " [ 0.56521739  0.53061224  0.61538462  0.65116279  0.59574468] \n",
      " 0.591624344627 \n",
      "\n"
     ]
    }
   ],
   "source": [
    "# evaluasi nilai prediksi reglog validasi silang\n",
    "eval_cv(reglog,x_trainval,y_trainval)"
   ]
  },
  {
   "cell_type": "code",
   "execution_count": 20,
   "metadata": {
    "collapsed": false
   },
   "outputs": [
    {
     "name": "stdout",
     "output_type": "stream",
     "text": [
      "akurasi cv : \n",
      " [ 0.81132075  0.79245283  0.8         0.84615385  0.82692308] \n",
      " 0.815370101597 \n",
      "\n",
      "recall cv : \n",
      " [ 0.42857143  0.5         0.55555556  0.51851852  0.51851852] \n",
      " 0.504232804233 \n",
      "\n",
      "presisi cv : \n",
      " [ 0.75        0.63636364  0.625       0.82352941  0.73684211] \n",
      " 0.714347030678 \n",
      "\n",
      "f1 cv : \n",
      " [ 0.54545455  0.56        0.58823529  0.63636364  0.60869565] \n",
      " 0.587749825622 \n",
      "\n"
     ]
    }
   ],
   "source": [
    "# evaluasi nilai prediksi adaboost reglog validasi silang\n",
    "eval_cv(ada_reglog,x_trainval,y_trainval)"
   ]
  },
  {
   "cell_type": "code",
   "execution_count": 21,
   "metadata": {
    "collapsed": false
   },
   "outputs": [
    {
     "name": "stdout",
     "output_type": "stream",
     "text": [
      "akurasi:\n",
      " 0.824427480916 \n",
      "\n",
      "confusion matirx test:\n",
      " [[264  26]\n",
      " [ 43  60]] \n",
      "\n",
      "classification Report test:\n",
      "              precision    recall  f1-score   support\n",
      "\n",
      "          0       0.86      0.91      0.88       290\n",
      "          1       0.70      0.58      0.63       103\n",
      "\n",
      "avg / total       0.82      0.82      0.82       393\n",
      " \n",
      "\n"
     ]
    }
   ],
   "source": [
    "# evaluasi reglog pada data train\n",
    "eval(reglog,x_train,y_train)"
   ]
  },
  {
   "cell_type": "code",
   "execution_count": 22,
   "metadata": {
    "collapsed": false
   },
   "outputs": [
    {
     "name": "stdout",
     "output_type": "stream",
     "text": [
      "akurasi:\n",
      " 0.81679389313 \n",
      "\n",
      "confusion matirx test:\n",
      " [[264  26]\n",
      " [ 46  57]] \n",
      "\n",
      "classification Report test:\n",
      "              precision    recall  f1-score   support\n",
      "\n",
      "          0       0.85      0.91      0.88       290\n",
      "          1       0.69      0.55      0.61       103\n",
      "\n",
      "avg / total       0.81      0.82      0.81       393\n",
      " \n",
      "\n"
     ]
    }
   ],
   "source": [
    "# evaluasi adaboost reglog pada data train\n",
    "eval(ada_reglog,x_train,y_train)"
   ]
  },
  {
   "cell_type": "code",
   "execution_count": 23,
   "metadata": {
    "collapsed": false
   },
   "outputs": [
    {
     "name": "stdout",
     "output_type": "stream",
     "text": [
      "akurasi:\n",
      " 0.765714285714 \n",
      "\n",
      "confusion matirx test:\n",
      " [[115  14]\n",
      " [ 27  19]] \n",
      "\n",
      "classification Report test:\n",
      "              precision    recall  f1-score   support\n",
      "\n",
      "          0       0.81      0.89      0.85       129\n",
      "          1       0.58      0.41      0.48        46\n",
      "\n",
      "avg / total       0.75      0.77      0.75       175\n",
      " \n",
      "\n"
     ]
    }
   ],
   "source": [
    "# evaluasi reglog pada data test\n",
    "eval(reglog,x_test,y_test)"
   ]
  },
  {
   "cell_type": "code",
   "execution_count": 24,
   "metadata": {
    "collapsed": false
   },
   "outputs": [
    {
     "name": "stdout",
     "output_type": "stream",
     "text": [
      "akurasi:\n",
      " 0.782857142857 \n",
      "\n",
      "confusion matirx test:\n",
      " [[117  12]\n",
      " [ 26  20]] \n",
      "\n",
      "classification Report test:\n",
      "              precision    recall  f1-score   support\n",
      "\n",
      "          0       0.82      0.91      0.86       129\n",
      "          1       0.62      0.43      0.51        46\n",
      "\n",
      "avg / total       0.77      0.78      0.77       175\n",
      " \n",
      "\n"
     ]
    }
   ],
   "source": [
    "# evaluasi pada adaboost reglog data test\n",
    "eval(ada_reglog,x_test,y_test)"
   ]
  },
  {
   "cell_type": "markdown",
   "metadata": {},
   "source": [
    "# Decision Tree"
   ]
  },
  {
   "cell_type": "code",
   "execution_count": 25,
   "metadata": {
    "collapsed": true
   },
   "outputs": [],
   "source": [
    "# library decision tree\n",
    "from sklearn.tree import DecisionTreeClassifier"
   ]
  },
  {
   "cell_type": "code",
   "execution_count": 26,
   "metadata": {
    "collapsed": false
   },
   "outputs": [
    {
     "data": {
      "text/plain": [
       "AdaBoostClassifier(algorithm='SAMME.R',\n",
       "          base_estimator=DecisionTreeClassifier(class_weight=None, criterion='gini', max_depth=5,\n",
       "            max_features=None, max_leaf_nodes=None,\n",
       "            min_impurity_decrease=0.0, min_impurity_split=None,\n",
       "            min_samples_leaf=1, min_samples_split=2,\n",
       "            min_weight_fraction_leaf=0.0, presort=False, random_state=None,\n",
       "            splitter='best'),\n",
       "          learning_rate=0.5, n_estimators=200, random_state=10)"
      ]
     },
     "execution_count": 26,
     "metadata": {},
     "output_type": "execute_result"
    }
   ],
   "source": [
    "# pemodelan regresi logistik\n",
    "tree = DecisionTreeClassifier(random_state=10)\n",
    "tree.fit(x_trainval,y_trainval)\n",
    "# pemodelan regreso logistik dengan adaptive boosting\n",
    "ada_tree = AdaBoostClassifier(DecisionTreeClassifier(max_depth=5),\n",
    "                                n_estimators=200,\n",
    "                                learning_rate=0.5,\n",
    "                                random_state=10)\n",
    "ada_tree.fit(x_trainval,y_trainval)"
   ]
  },
  {
   "cell_type": "code",
   "execution_count": 27,
   "metadata": {
    "collapsed": true
   },
   "outputs": [],
   "source": [
    "# mengembangkan fungsi untuk membuat plot peubah penting\n",
    "def plot_peubah_penting(model,FITUR):\n",
    "    n_features = len(list(model.feature_importances_))\n",
    "    plt.barh(range(n_features),model.feature_importances_,align=\"center\")\n",
    "    plt.yticks(np.arange(n_features),FITUR,fontsize=14)\n",
    "    plt.xlabel(\"Tingkat Kepentingan Peubah\",fontsize=23)\n",
    "    plt.ylabel(\"Peubah\",fontsize=23)\n",
    "    plt.show()"
   ]
  },
  {
   "cell_type": "code",
   "execution_count": 28,
   "metadata": {
    "collapsed": false
   },
   "outputs": [
    {
     "data": {
      "image/png": "[encoded data removed]",
      "text/plain": [
       "<matplotlib.figure.Figure at 0x164eee1ab38>"
      ]
     },
     "metadata": {},
     "output_type": "display_data"
    }
   ],
   "source": [
    "# plot peubah penting\n",
    "plot_peubah_penting(tree,FITUR_DUMMIES)"
   ]
  },
  {
   "cell_type": "code",
   "execution_count": 29,
   "metadata": {
    "collapsed": false
   },
   "outputs": [
    {
     "data": {
      "image/png": "[encoded data removed]",
      "text/plain": [
       "<matplotlib.figure.Figure at 0x164ef0d1208>"
      ]
     },
     "metadata": {},
     "output_type": "display_data"
    }
   ],
   "source": [
    "# plot peubah penting\n",
    "plot_peubah_penting(ada_tree,FITUR_DUMMIES)"
   ]
  },
  {
   "cell_type": "code",
   "execution_count": 30,
   "metadata": {
    "collapsed": false
   },
   "outputs": [
    {
     "name": "stdout",
     "output_type": "stream",
     "text": [
      "akurasi cv : \n",
      " [ 0.71698113  0.72641509  0.60952381  0.75961538  0.77884615] \n",
      " 0.71827631488 \n",
      "\n",
      "recall cv : \n",
      " [ 0.53571429  0.5         0.40740741  0.48148148  0.48148148] \n",
      " 0.481216931217 \n",
      "\n",
      "presisi cv : \n",
      " [ 0.46875     0.48275862  0.30555556  0.54166667  0.59090909] \n",
      " 0.477927986764 \n",
      "\n",
      "f1 cv : \n",
      " [ 0.5         0.49122807  0.34920635  0.50980392  0.53061224] \n",
      " 0.47617011717 \n",
      "\n"
     ]
    }
   ],
   "source": [
    "# evaluasi nilai prediksi decision tree validasi silang\n",
    "eval_cv(tree,x_trainval,y_trainval)"
   ]
  },
  {
   "cell_type": "code",
   "execution_count": 31,
   "metadata": {
    "collapsed": false
   },
   "outputs": [
    {
     "name": "stdout",
     "output_type": "stream",
     "text": [
      "akurasi cv : \n",
      " [ 0.78301887  0.77358491  0.76190476  0.73076923  0.76923077] \n",
      " 0.763701707098 \n",
      "\n",
      "recall cv : \n",
      " [ 0.5         0.39285714  0.55555556  0.33333333  0.51851852] \n",
      " 0.460052910053 \n",
      "\n",
      "presisi cv : \n",
      " [ 0.60869565  0.61111111  0.53571429  0.47368421  0.56      ] \n",
      " 0.557841051905 \n",
      "\n",
      "f1 cv : \n",
      " [ 0.54901961  0.47826087  0.54545455  0.39130435  0.53846154] \n",
      " 0.50050018183 \n",
      "\n"
     ]
    }
   ],
   "source": [
    "# evaluasi nilai prediksi adaboost decision tree validasi silang\n",
    "eval_cv(ada_tree,x_trainval,y_trainval)"
   ]
  },
  {
   "cell_type": "code",
   "execution_count": 32,
   "metadata": {
    "collapsed": false
   },
   "outputs": [
    {
     "name": "stdout",
     "output_type": "stream",
     "text": [
      "akurasi:\n",
      " 1.0 \n",
      "\n",
      "confusion matirx test:\n",
      " [[290   0]\n",
      " [  0 103]] \n",
      "\n",
      "classification Report test:\n",
      "              precision    recall  f1-score   support\n",
      "\n",
      "          0       1.00      1.00      1.00       290\n",
      "          1       1.00      1.00      1.00       103\n",
      "\n",
      "avg / total       1.00      1.00      1.00       393\n",
      " \n",
      "\n"
     ]
    }
   ],
   "source": [
    "# evaluasi tree pada data train\n",
    "eval(tree,x_train,y_train)"
   ]
  },
  {
   "cell_type": "code",
   "execution_count": 33,
   "metadata": {
    "collapsed": false
   },
   "outputs": [
    {
     "name": "stdout",
     "output_type": "stream",
     "text": [
      "akurasi:\n",
      " 1.0 \n",
      "\n",
      "confusion matirx test:\n",
      " [[290   0]\n",
      " [  0 103]] \n",
      "\n",
      "classification Report test:\n",
      "              precision    recall  f1-score   support\n",
      "\n",
      "          0       1.00      1.00      1.00       290\n",
      "          1       1.00      1.00      1.00       103\n",
      "\n",
      "avg / total       1.00      1.00      1.00       393\n",
      " \n",
      "\n"
     ]
    }
   ],
   "source": [
    "# evaluasi adaboost tree pada data train\n",
    "eval(ada_tree,x_train,y_train)"
   ]
  },
  {
   "cell_type": "code",
   "execution_count": 34,
   "metadata": {
    "collapsed": false
   },
   "outputs": [
    {
     "name": "stdout",
     "output_type": "stream",
     "text": [
      "akurasi:\n",
      " 0.754285714286 \n",
      "\n",
      "confusion matirx test:\n",
      " [[108  21]\n",
      " [ 22  24]] \n",
      "\n",
      "classification Report test:\n",
      "              precision    recall  f1-score   support\n",
      "\n",
      "          0       0.83      0.84      0.83       129\n",
      "          1       0.53      0.52      0.53        46\n",
      "\n",
      "avg / total       0.75      0.75      0.75       175\n",
      " \n",
      "\n"
     ]
    }
   ],
   "source": [
    "# evaluasi tree pada data test\n",
    "eval(tree,x_test,y_test)"
   ]
  },
  {
   "cell_type": "code",
   "execution_count": 35,
   "metadata": {
    "collapsed": false
   },
   "outputs": [
    {
     "name": "stdout",
     "output_type": "stream",
     "text": [
      "akurasi:\n",
      " 0.725714285714 \n",
      "\n",
      "confusion matirx test:\n",
      " [[110  19]\n",
      " [ 29  17]] \n",
      "\n",
      "classification Report test:\n",
      "              precision    recall  f1-score   support\n",
      "\n",
      "          0       0.79      0.85      0.82       129\n",
      "          1       0.47      0.37      0.41        46\n",
      "\n",
      "avg / total       0.71      0.73      0.71       175\n",
      " \n",
      "\n"
     ]
    }
   ],
   "source": [
    "# evaluasi adaboost tree pada data test\n",
    "eval(ada_tree,x_test,y_test)"
   ]
  },
  {
   "cell_type": "markdown",
   "metadata": {},
   "source": [
    "# 2. Gradient Boosting"
   ]
  },
  {
   "cell_type": "code",
   "execution_count": 36,
   "metadata": {
    "collapsed": true
   },
   "outputs": [],
   "source": [
    "# library gradient boosting\n",
    "from sklearn.ensemble import GradientBoostingClassifier"
   ]
  },
  {
   "cell_type": "code",
   "execution_count": 37,
   "metadata": {
    "collapsed": true
   },
   "outputs": [],
   "source": [
    "# model gradient boosting\n",
    "gbc = GradientBoostingClassifier()"
   ]
  },
  {
   "cell_type": "code",
   "execution_count": 38,
   "metadata": {
    "collapsed": false
   },
   "outputs": [
    {
     "name": "stdout",
     "output_type": "stream",
     "text": [
      "akurasi cv : \n",
      " [ 0.72641509  0.80188679  0.78095238  0.78846154  0.79807692] \n",
      " 0.781045338309 \n",
      "\n",
      "recall cv : \n",
      " [ 0.35714286  0.5         0.55555556  0.37037037  0.44444444] \n",
      " 0.445238095238 \n",
      "\n",
      "presisi cv : \n",
      " [ 0.47826087  0.66666667  0.64        0.66666667  0.66666667] \n",
      " 0.611463046757 \n",
      "\n",
      "f1 cv : \n",
      " [ 0.40816327  0.57142857  0.61538462  0.47619048  0.53333333] \n",
      " 0.515672533164 \n",
      "\n"
     ]
    }
   ],
   "source": [
    "#evaluasi nilai prediksi gradient boosting validasi silang\n",
    "eval_cv(gbc,x_trainval,y_trainval)"
   ]
  },
  {
   "cell_type": "code",
   "execution_count": 39,
   "metadata": {
    "collapsed": false
   },
   "outputs": [
    {
     "name": "stdout",
     "output_type": "stream",
     "text": [
      "akurasi:\n",
      " 0.979643765903 \n",
      "\n",
      "confusion matirx test:\n",
      " [[289   1]\n",
      " [  7  96]] \n",
      "\n",
      "classification Report test:\n",
      "              precision    recall  f1-score   support\n",
      "\n",
      "          0       0.98      1.00      0.99       290\n",
      "          1       0.99      0.93      0.96       103\n",
      "\n",
      "avg / total       0.98      0.98      0.98       393\n",
      " \n",
      "\n"
     ]
    }
   ],
   "source": [
    "#evaluasi nilai prediksi gradient boosting train\n",
    "eval(gbc,x_train,y_train)"
   ]
  },
  {
   "cell_type": "code",
   "execution_count": 40,
   "metadata": {
    "collapsed": false
   },
   "outputs": [
    {
     "name": "stdout",
     "output_type": "stream",
     "text": [
      "akurasi:\n",
      " 0.765714285714 \n",
      "\n",
      "confusion matirx test:\n",
      " [[116  13]\n",
      " [ 28  18]] \n",
      "\n",
      "classification Report test:\n",
      "              precision    recall  f1-score   support\n",
      "\n",
      "          0       0.81      0.90      0.85       129\n",
      "          1       0.58      0.39      0.47        46\n",
      "\n",
      "avg / total       0.75      0.77      0.75       175\n",
      " \n",
      "\n"
     ]
    }
   ],
   "source": [
    "#evaluasi nilai prediksi gradient boosting test\n",
    "eval(gbc,x_test,y_test)"
   ]
  },
  {
   "cell_type": "markdown",
   "metadata": {},
   "source": [
    "# 3. Extreme Gradient Boosting"
   ]
  },
  {
   "cell_type": "code",
   "execution_count": 41,
   "metadata": {
    "collapsed": true
   },
   "outputs": [],
   "source": [
    "# library extreme gradient boosting\n",
    "from xgboost.sklearn import XGBClassifier"
   ]
  },
  {
   "cell_type": "code",
   "execution_count": 42,
   "metadata": {
    "collapsed": false
   },
   "outputs": [],
   "source": [
    "# model xgboost\n",
    "exgb = XGBClassifier(min_child_weight=1,\n",
    "                    max_depth=5,\n",
    "                    gamma=0.12,\n",
    "                    subsample=0.8,\n",
    "                    learning_rate=0.1,\n",
    "                    n_estimators=1000)"
   ]
  },
  {
   "cell_type": "code",
   "execution_count": 43,
   "metadata": {
    "collapsed": false
   },
   "outputs": [
    {
     "name": "stdout",
     "output_type": "stream",
     "text": [
      "akurasi cv : \n",
      " [ 0.77358491  0.80188679  0.73333333  0.81730769  0.82692308] \n",
      " 0.790607160135 \n",
      "\n",
      "recall cv : \n",
      " [ 0.53571429  0.57142857  0.51851852  0.48148148  0.51851852] \n",
      " 0.525132275132 \n",
      "\n",
      "presisi cv : \n",
      " [ 0.57692308  0.64        0.48275862  0.72222222  0.73684211] \n",
      " 0.63174920502 \n",
      "\n",
      "f1 cv : \n",
      " [ 0.55555556  0.60377358  0.5         0.57777778  0.60869565] \n",
      " 0.569160514083 \n",
      "\n"
     ]
    }
   ],
   "source": [
    "# evaluasi nilai prediksi gradient boosting validasi silang\n",
    "eval_cv(exgb,x_trainval,y_trainval)"
   ]
  },
  {
   "cell_type": "code",
   "execution_count": 44,
   "metadata": {
    "collapsed": false
   },
   "outputs": [
    {
     "name": "stdout",
     "output_type": "stream",
     "text": [
      "akurasi:\n",
      " 1.0 \n",
      "\n",
      "confusion matirx test:\n",
      " [[290   0]\n",
      " [  0 103]] \n",
      "\n",
      "classification Report test:\n",
      "              precision    recall  f1-score   support\n",
      "\n",
      "          0       1.00      1.00      1.00       290\n",
      "          1       1.00      1.00      1.00       103\n",
      "\n",
      "avg / total       1.00      1.00      1.00       393\n",
      " \n",
      "\n"
     ]
    }
   ],
   "source": [
    "# evaluasi nilai prediksi gradient boosting test\n",
    "eval(exgb,x_train,y_train)"
   ]
  },
  {
   "cell_type": "code",
   "execution_count": 45,
   "metadata": {
    "collapsed": false
   },
   "outputs": [
    {
     "name": "stdout",
     "output_type": "stream",
     "text": [
      "akurasi:\n",
      " 0.742857142857 \n",
      "\n",
      "confusion matirx test:\n",
      " [[109  20]\n",
      " [ 25  21]] \n",
      "\n",
      "classification Report test:\n",
      "              precision    recall  f1-score   support\n",
      "\n",
      "          0       0.81      0.84      0.83       129\n",
      "          1       0.51      0.46      0.48        46\n",
      "\n",
      "avg / total       0.73      0.74      0.74       175\n",
      " \n",
      "\n"
     ]
    }
   ],
   "source": [
    "# evaluasi nilai prediksi gradient boosting test\n",
    "eval(exgb,x_test,y_test)"
   ]
  },
  {
   "cell_type": "markdown",
   "metadata": {},
   "source": [
    "# GridSearchCV untuk Memilih Metode Boosting (tanpa tunning parameter)"
   ]
  },
  {
   "cell_type": "code",
   "execution_count": 46,
   "metadata": {
    "collapsed": true
   },
   "outputs": [],
   "source": [
    "# library untuk tunning parameter\n",
    "from sklearn.model_selection import GridSearchCV\n",
    "\n",
    "# library untuk menggabungkan beberapa algoritme\n",
    "from imblearn.pipeline import Pipeline"
   ]
  },
  {
   "cell_type": "code",
   "execution_count": 47,
   "metadata": {
    "collapsed": false
   },
   "outputs": [],
   "source": [
    "# menyiapkan beberapa metode bosting\n",
    "\n",
    "pipe_boost = Pipeline([('clf',AdaBoostClassifier())])\n",
    "\n",
    "grid = [\n",
    "    {'clf':[AdaBoostClassifier()],\n",
    "        'clf__base_estimator':[reglog,tree]},\n",
    "    {'clf':[gbc,exgb]}\n",
    "]\n",
    "\n",
    "# fungsi gridsearch CV\n",
    "gsearch_boost = GridSearchCV(pipe_boost,\n",
    "                            # model grid\n",
    "                            param_grid = grid,\n",
    "                            # beberapa ukuran yang ingin dimunculkan\n",
    "                            scoring = ['accuracy','recall','precision', 'f1'],\n",
    "                            # ukuran prediksi yang digunakan untuk tunning\n",
    "                            refit = 'f1',\n",
    "                            # metode validasi silang\n",
    "                            cv=skf)"
   ]
  },
  {
   "cell_type": "code",
   "execution_count": 48,
   "metadata": {
    "collapsed": false
   },
   "outputs": [
    {
     "data": {
      "text/plain": [
       "GridSearchCV(cv=StratifiedKFold(n_splits=5, random_state=10, shuffle=False),\n",
       "       error_score='raise',\n",
       "       estimator=Pipeline(memory=None,\n",
       "     steps=[('clf', AdaBoostClassifier(algorithm='SAMME.R', base_estimator=None,\n",
       "          learning_rate=1.0, n_estimators=50, random_state=None))]),\n",
       "       fit_params=None, iid=True, n_jobs=1,\n",
       "       param_grid=[{'clf': [AdaBoostClassifier(algorithm='SAMME.R',\n",
       "          base_estimator=LogisticRegression(C=1.0, class_weight=None, dual=False, fit_intercept=True,\n",
       "          intercept_scaling=1, max_iter=100, multi_class='ovr', n_jobs=1,\n",
       "          penalty='l2', random_state=None, solver='liblinear', ...     reg_alpha=0, reg_lambda=1, scale_pos_weight=1, seed=None,\n",
       "       silent=True, subsample=0.8)]}],\n",
       "       pre_dispatch='2*n_jobs', refit='f1', return_train_score=True,\n",
       "       scoring=['accuracy', 'recall', 'precision', 'f1'], verbose=0)"
      ]
     },
     "execution_count": 48,
     "metadata": {},
     "output_type": "execute_result"
    }
   ],
   "source": [
    "# proses pemodelan\n",
    "gsearch_boost.fit(x_trainval,y_trainval)"
   ]
  },
  {
   "cell_type": "code",
   "execution_count": 49,
   "metadata": {
    "collapsed": false
   },
   "outputs": [],
   "source": [
    "# selurh rekapan hasil pemodelan\n",
    "hasil_boosting=pd.DataFrame(gsearch_boost.cv_results_)"
   ]
  },
  {
   "cell_type": "code",
   "execution_count": 50,
   "metadata": {
    "collapsed": false
   },
   "outputs": [
    {
     "data": {
      "text/plain": [
       "['mean_fit_time',\n",
       " 'mean_score_time',\n",
       " 'mean_test_accuracy',\n",
       " 'mean_test_f1',\n",
       " 'mean_test_precision',\n",
       " 'mean_test_recall',\n",
       " 'mean_train_accuracy',\n",
       " 'mean_train_f1',\n",
       " 'mean_train_precision',\n",
       " 'mean_train_recall',\n",
       " 'param_clf',\n",
       " 'param_clf__base_estimator',\n",
       " 'params',\n",
       " 'rank_test_accuracy',\n",
       " 'rank_test_f1',\n",
       " 'rank_test_precision',\n",
       " 'rank_test_recall',\n",
       " 'split0_test_accuracy',\n",
       " 'split0_test_f1',\n",
       " 'split0_test_precision',\n",
       " 'split0_test_recall',\n",
       " 'split0_train_accuracy',\n",
       " 'split0_train_f1',\n",
       " 'split0_train_precision',\n",
       " 'split0_train_recall',\n",
       " 'split1_test_accuracy',\n",
       " 'split1_test_f1',\n",
       " 'split1_test_precision',\n",
       " 'split1_test_recall',\n",
       " 'split1_train_accuracy',\n",
       " 'split1_train_f1',\n",
       " 'split1_train_precision',\n",
       " 'split1_train_recall',\n",
       " 'split2_test_accuracy',\n",
       " 'split2_test_f1',\n",
       " 'split2_test_precision',\n",
       " 'split2_test_recall',\n",
       " 'split2_train_accuracy',\n",
       " 'split2_train_f1',\n",
       " 'split2_train_precision',\n",
       " 'split2_train_recall',\n",
       " 'split3_test_accuracy',\n",
       " 'split3_test_f1',\n",
       " 'split3_test_precision',\n",
       " 'split3_test_recall',\n",
       " 'split3_train_accuracy',\n",
       " 'split3_train_f1',\n",
       " 'split3_train_precision',\n",
       " 'split3_train_recall',\n",
       " 'split4_test_accuracy',\n",
       " 'split4_test_f1',\n",
       " 'split4_test_precision',\n",
       " 'split4_test_recall',\n",
       " 'split4_train_accuracy',\n",
       " 'split4_train_f1',\n",
       " 'split4_train_precision',\n",
       " 'split4_train_recall',\n",
       " 'std_fit_time',\n",
       " 'std_score_time',\n",
       " 'std_test_accuracy',\n",
       " 'std_test_f1',\n",
       " 'std_test_precision',\n",
       " 'std_test_recall',\n",
       " 'std_train_accuracy',\n",
       " 'std_train_f1',\n",
       " 'std_train_precision',\n",
       " 'std_train_recall']"
      ]
     },
     "execution_count": 50,
     "metadata": {},
     "output_type": "execute_result"
    }
   ],
   "source": [
    "# daftar informasi yang tersedia dari hasil pemodelan \n",
    "list(hasil_boosting)"
   ]
  },
  {
   "cell_type": "code",
   "execution_count": 51,
   "metadata": {
    "collapsed": false
   },
   "outputs": [
    {
     "data": {
      "text/html": [
       "<div>\n",
       "<table border=\"1\" class=\"dataframe\">\n",
       "  <thead>\n",
       "    <tr style=\"text-align: right;\">\n",
       "      <th></th>\n",
       "      <th>params</th>\n",
       "      <th>mean_test_accuracy</th>\n",
       "      <th>mean_test_f1</th>\n",
       "      <th>mean_test_precision</th>\n",
       "      <th>mean_test_recall</th>\n",
       "    </tr>\n",
       "  </thead>\n",
       "  <tbody>\n",
       "    <tr>\n",
       "      <th>0</th>\n",
       "      <td>Adaptive Boosting Reglog</td>\n",
       "      <td>0.817143</td>\n",
       "      <td>0.589721</td>\n",
       "      <td>0.724316</td>\n",
       "      <td>0.504097</td>\n",
       "    </tr>\n",
       "    <tr>\n",
       "      <th>1</th>\n",
       "      <td>Adaptive Boosting Tree</td>\n",
       "      <td>0.727619</td>\n",
       "      <td>0.498492</td>\n",
       "      <td>0.492202</td>\n",
       "      <td>0.510451</td>\n",
       "    </tr>\n",
       "    <tr>\n",
       "      <th>2</th>\n",
       "      <td>Gradient Boosting</td>\n",
       "      <td>0.782857</td>\n",
       "      <td>0.523718</td>\n",
       "      <td>0.618543</td>\n",
       "      <td>0.460131</td>\n",
       "    </tr>\n",
       "    <tr>\n",
       "      <th>3</th>\n",
       "      <td>Extreme Gradient Boosing</td>\n",
       "      <td>0.790476</td>\n",
       "      <td>0.569109</td>\n",
       "      <td>0.631288</td>\n",
       "      <td>0.525336</td>\n",
       "    </tr>\n",
       "  </tbody>\n",
       "</table>\n",
       "</div>"
      ],
      "text/plain": [
       "                     params  mean_test_accuracy  mean_test_f1  \\\n",
       "0  Adaptive Boosting Reglog            0.817143      0.589721   \n",
       "1    Adaptive Boosting Tree            0.727619      0.498492   \n",
       "2         Gradient Boosting            0.782857      0.523718   \n",
       "3  Extreme Gradient Boosing            0.790476      0.569109   \n",
       "\n",
       "   mean_test_precision  mean_test_recall  \n",
       "0             0.724316          0.504097  \n",
       "1             0.492202          0.510451  \n",
       "2             0.618543          0.460131  \n",
       "3             0.631288          0.525336  "
      ]
     },
     "execution_count": 51,
     "metadata": {},
     "output_type": "execute_result"
    }
   ],
   "source": [
    "# menampilkan rekapan hasil\n",
    "\n",
    "# memilih kolom\n",
    "lihat = ['params',\n",
    "         'mean_test_accuracy',\n",
    "         'mean_test_f1',\n",
    "         'mean_test_precision',\n",
    "         'mean_test_recall'\n",
    "]\n",
    "\n",
    "# mendefinsikan nama parameter\n",
    "hasil_boosting['params']=['Adaptive Boosting Reglog',\n",
    "                          'Adaptive Boosting Tree',\n",
    "                          'Gradient Boosting',\n",
    "                          'Extreme Gradient Boosing']\n",
    "\n",
    "# menampilkan rekapan hasil\n",
    "hasil_boosting[lihat]"
   ]
  },
  {
   "cell_type": "code",
   "execution_count": 52,
   "metadata": {
    "collapsed": true
   },
   "outputs": [],
   "source": [
    "# library seaborn\n",
    "import seaborn as sns"
   ]
  },
  {
   "cell_type": "code",
   "execution_count": 53,
   "metadata": {
    "collapsed": false
   },
   "outputs": [
    {
     "data": {
      "image/png": "[encoded data removed]",
      "text/plain": [
       "<matplotlib.figure.Figure at 0x164f6415cf8>"
      ]
     },
     "metadata": {},
     "output_type": "display_data"
    }
   ],
   "source": [
    "    # barplot hasil\n",
    "    ax=sns.barplot(y='params',\n",
    "               x='mean_test_accuracy',\n",
    "               data=hasil_boosting,\n",
    "               orient='h')\n",
    "\n",
    "    # mengatur label pada sumbu y\n",
    "    plt.ylabel('Model')\n",
    "\n",
    "    # mengatur label pada sumbu x\n",
    "    plt.xlabel('Rata-rata akurasi validasi silang')\n",
    "\n",
    "    plt.show()"
   ]
  },
  {
   "cell_type": "code",
   "execution_count": 54,
   "metadata": {
    "collapsed": false
   },
   "outputs": [
    {
     "data": {
      "text/plain": [
       "Pipeline(memory=None,\n",
       "     steps=[('clf', AdaBoostClassifier(algorithm='SAMME.R',\n",
       "          base_estimator=LogisticRegression(C=1.0, class_weight=None, dual=False, fit_intercept=True,\n",
       "          intercept_scaling=1, max_iter=100, multi_class='ovr', n_jobs=1,\n",
       "          penalty='l2', random_state=None, solver='liblinear', tol=0.0001,\n",
       "          verbose=0, warm_start=False),\n",
       "          learning_rate=1.0, n_estimators=50, random_state=None))])"
      ]
     },
     "execution_count": 54,
     "metadata": {},
     "output_type": "execute_result"
    }
   ],
   "source": [
    "# metode terbaik\n",
    "gsearch_boost.best_estimator_"
   ]
  },
  {
   "cell_type": "code",
   "execution_count": 55,
   "metadata": {
    "collapsed": false
   },
   "outputs": [
    {
     "data": {
      "text/plain": [
       "0.58972073439050188"
      ]
     },
     "execution_count": 55,
     "metadata": {},
     "output_type": "execute_result"
    }
   ],
   "source": [
    "# skor f1 tertinggi\n",
    "gsearch_boost.best_score_"
   ]
  },
  {
   "cell_type": "markdown",
   "metadata": {},
   "source": [
    "# GridSearchCV untuk Memilih Metode Boosting (dengan tunning parameter)"
   ]
  },
  {
   "cell_type": "markdown",
   "metadata": {},
   "source": [
    "# AdaBoost Tunning"
   ]
  },
  {
   "cell_type": "code",
   "execution_count": 56,
   "metadata": {
    "collapsed": true
   },
   "outputs": [],
   "source": [
    "# model yang disiapkan\n",
    "ADA = AdaBoostClassifier(random_state=10)\n",
    "\n",
    "# parameter yang disiapkan\n",
    "param_ada = {\n",
    "    'base_estimator':[LogisticRegression(),DecisionTreeClassifier()],\n",
    "    'n_estimators':[20,40,60,100,120,300],\n",
    "    'learning_rate':[0.01,0.05,0.1]}\n",
    "\n",
    "ada_grid = GridSearchCV(ADA,\n",
    "                       param_grid=param_ada,\n",
    "                       # beberapa ukuran yang ingin dimunculkan\n",
    "                       scoring = ['accuracy','recall','precision', 'f1'],\n",
    "                       # ukuran prediksi yang digunakan untuk tunning\n",
    "                       refit = 'f1',\n",
    "                       # metode validasi silang\n",
    "                       cv=skf)"
   ]
  },
  {
   "cell_type": "code",
   "execution_count": 57,
   "metadata": {
    "collapsed": false
   },
   "outputs": [
    {
     "data": {
      "text/plain": [
       "GridSearchCV(cv=StratifiedKFold(n_splits=5, random_state=10, shuffle=False),\n",
       "       error_score='raise',\n",
       "       estimator=AdaBoostClassifier(algorithm='SAMME.R', base_estimator=None,\n",
       "          learning_rate=1.0, n_estimators=50, random_state=10),\n",
       "       fit_params=None, iid=True, n_jobs=1,\n",
       "       param_grid={'base_estimator': [LogisticRegression(C=1.0, class_weight=None, dual=False, fit_intercept=True,\n",
       "          intercept_scaling=1, max_iter=100, multi_class='ovr', n_jobs=1,\n",
       "          penalty='l2', random_state=None, solver='liblinear', tol=0.0001,\n",
       "          verbose=0, warm_start=False), Dec... splitter='best')], 'n_estimators': [20, 40, 60, 100, 120, 300], 'learning_rate': [0.01, 0.05, 0.1]},\n",
       "       pre_dispatch='2*n_jobs', refit='f1', return_train_score=True,\n",
       "       scoring=['accuracy', 'recall', 'precision', 'f1'], verbose=0)"
      ]
     },
     "execution_count": 57,
     "metadata": {},
     "output_type": "execute_result"
    }
   ],
   "source": [
    "ada_grid.fit(x_trainval,y_trainval)"
   ]
  },
  {
   "cell_type": "code",
   "execution_count": 58,
   "metadata": {
    "collapsed": false
   },
   "outputs": [
    {
     "data": {
      "text/plain": [
       "{'base_estimator': LogisticRegression(C=1.0, class_weight=None, dual=False, fit_intercept=True,\n",
       "           intercept_scaling=1, max_iter=100, multi_class='ovr', n_jobs=1,\n",
       "           penalty='l2', random_state=None, solver='liblinear', tol=0.0001,\n",
       "           verbose=0, warm_start=False),\n",
       " 'learning_rate': 0.05,\n",
       " 'n_estimators': 100}"
      ]
     },
     "execution_count": 58,
     "metadata": {},
     "output_type": "execute_result"
    }
   ],
   "source": [
    "ada_grid.best_params_"
   ]
  },
  {
   "cell_type": "code",
   "execution_count": 59,
   "metadata": {
    "collapsed": false
   },
   "outputs": [
    {
     "data": {
      "text/plain": [
       "0.60268604944130966"
      ]
     },
     "execution_count": 59,
     "metadata": {},
     "output_type": "execute_result"
    }
   ],
   "source": [
    "ada_grid.best_score_"
   ]
  },
  {
   "cell_type": "markdown",
   "metadata": {},
   "source": [
    "# Gradient Boosting Tunning"
   ]
  },
  {
   "cell_type": "markdown",
   "metadata": {},
   "source": [
    "# Tunning 1 : learning rate dan n estimators"
   ]
  },
  {
   "cell_type": "code",
   "execution_count": 60,
   "metadata": {
    "collapsed": false
   },
   "outputs": [
    {
     "data": {
      "text/plain": [
       "GridSearchCV(cv=StratifiedKFold(n_splits=5, random_state=10, shuffle=False),\n",
       "       error_score='raise',\n",
       "       estimator=GradientBoostingClassifier(criterion='friedman_mse', init=None,\n",
       "              learning_rate=0.2, loss='deviance', max_depth=4,\n",
       "              max_features=3, max_leaf_nodes=None,\n",
       "              min_impurity_decrease=0.0, min_impurity_split=None,\n",
       "              min_samples_leaf=20, min_samples_split=20,\n",
       "              min_weight_fraction_leaf=0.0, n_estimators=100,\n",
       "              presort='auto', random_state=10, subsample=0.8, verbose=0,\n",
       "              warm_start=False),\n",
       "       fit_params=None, iid=True, n_jobs=1,\n",
       "       param_grid={'n_estimators': [20, 40, 60, 100, 120, 140]},\n",
       "       pre_dispatch='2*n_jobs', refit='f1', return_train_score=True,\n",
       "       scoring=['accuracy', 'recall', 'precision', 'f1'], verbose=0)"
      ]
     },
     "execution_count": 60,
     "metadata": {},
     "output_type": "execute_result"
    }
   ],
   "source": [
    "# model yang disiapkan\n",
    "gb_tune = GradientBoostingClassifier(max_depth=4,\n",
    "                                    max_features=3,\n",
    "                                    min_samples_split=20,\n",
    "                                    min_samples_leaf=20,\n",
    "                                    learning_rate=0.2,\n",
    "                                    subsample = 0.8,\n",
    "                                    random_state=10)\n",
    "\n",
    "# parameter yang disiapkan\n",
    "param_gb = {\n",
    "    'n_estimators':[20,40,60,100,120,140]\n",
    "}\n",
    "\n",
    "gb_grid = GridSearchCV(gb_tune,\n",
    "                       param_grid=param_gb,\n",
    "                       # beberapa ukuran yang ingin dimunculkan\n",
    "                       scoring = ['accuracy','recall','precision', 'f1'],\n",
    "                       # ukuran prediksi yang digunakan untuk tunning\n",
    "                       refit = 'f1',\n",
    "                       # metode validasi silang\n",
    "                       cv=skf)\n",
    "\n",
    "gb_grid.fit(x_trainval,y_trainval)"
   ]
  },
  {
   "cell_type": "code",
   "execution_count": 61,
   "metadata": {
    "collapsed": false
   },
   "outputs": [],
   "source": [
    "def hasil_tunning(tune):\n",
    "    print(\"Parameter Terbaik : \\n\",tune.best_params_,\"\\n\")\n",
    "    print(\"Skor f1 tertinggi : \\n\",tune.best_score_,\"\\n\")\n",
    "    print(\"model terbaik : \\n\",tune.best_estimator_,\"\\n\")"
   ]
  },
  {
   "cell_type": "code",
   "execution_count": 62,
   "metadata": {
    "collapsed": false
   },
   "outputs": [
    {
     "name": "stdout",
     "output_type": "stream",
     "text": [
      "Parameter Terbaik : \n",
      " {'n_estimators': 40} \n",
      "\n",
      "Skor f1 tertinggi : \n",
      " 0.601568275602 \n",
      "\n",
      "model terbaik : \n",
      " GradientBoostingClassifier(criterion='friedman_mse', init=None,\n",
      "              learning_rate=0.2, loss='deviance', max_depth=4,\n",
      "              max_features=3, max_leaf_nodes=None,\n",
      "              min_impurity_decrease=0.0, min_impurity_split=None,\n",
      "              min_samples_leaf=20, min_samples_split=20,\n",
      "              min_weight_fraction_leaf=0.0, n_estimators=40,\n",
      "              presort='auto', random_state=10, subsample=0.8, verbose=0,\n",
      "              warm_start=False) \n",
      "\n",
      "akurasi:\n",
      " 0.76 \n",
      "\n",
      "confusion matirx test:\n",
      " [[117  12]\n",
      " [ 30  16]] \n",
      "\n",
      "classification Report test:\n",
      "              precision    recall  f1-score   support\n",
      "\n",
      "          0       0.80      0.91      0.85       129\n",
      "          1       0.57      0.35      0.43        46\n",
      "\n",
      "avg / total       0.74      0.76      0.74       175\n",
      " \n",
      "\n"
     ]
    }
   ],
   "source": [
    "hasil_tunning(gb_grid)\n",
    "eval(gb_grid,x_test,y_test)"
   ]
  },
  {
   "cell_type": "markdown",
   "metadata": {},
   "source": [
    "# Tunning 2 : Tree Specific (max_depth,min_samples_split)"
   ]
  },
  {
   "cell_type": "code",
   "execution_count": 63,
   "metadata": {
    "collapsed": false
   },
   "outputs": [
    {
     "data": {
      "text/plain": [
       "GridSearchCV(cv=StratifiedKFold(n_splits=5, random_state=10, shuffle=False),\n",
       "       error_score='raise',\n",
       "       estimator=GradientBoostingClassifier(criterion='friedman_mse', init=None,\n",
       "              learning_rate=0.2, loss='deviance', max_depth=3,\n",
       "              max_features=3, max_leaf_nodes=None,\n",
       "              min_impurity_decrease=0.0, min_impurity_split=None,\n",
       "              min_samples_leaf=20, min_samples_split=2,\n",
       "              min_weight_fraction_leaf=0.0, n_estimators=40,\n",
       "              presort='auto', random_state=10, subsample=0.8, verbose=0,\n",
       "              warm_start=False),\n",
       "       fit_params=None, iid=True, n_jobs=1,\n",
       "       param_grid={'max_depth': range(3, 13), 'min_samples_split': [2, 20, 50, 75, 100]},\n",
       "       pre_dispatch='2*n_jobs', refit='f1', return_train_score=True,\n",
       "       scoring=['accuracy', 'recall', 'precision', 'f1'], verbose=0)"
      ]
     },
     "execution_count": 63,
     "metadata": {},
     "output_type": "execute_result"
    }
   ],
   "source": [
    "# model yang disiapkan\n",
    "gb_tune2 = GradientBoostingClassifier(#max_depth=4,\n",
    "                                    max_features=3,\n",
    "                                    n_estimators=40,\n",
    "                                    #min_samples_split=20,\n",
    "                                    min_samples_leaf=20,\n",
    "                                    learning_rate=0.2,\n",
    "                                    subsample = 0.8,\n",
    "                                    random_state=10)\n",
    "\n",
    "# parameter yang disiapkan\n",
    "param_gb2 = {\n",
    "    'max_depth':range(3,13),\n",
    "    'min_samples_split':[2,20,50,75,100]\n",
    "}\n",
    "\n",
    "gb_grid2 = GridSearchCV(gb_tune2,\n",
    "                       param_grid=param_gb2,\n",
    "                       # beberapa ukuran yang ingin dimunculkan\n",
    "                       scoring = ['accuracy','recall','precision', 'f1'],\n",
    "                       # ukuran prediksi yang digunakan untuk tunning\n",
    "                       refit = 'f1',\n",
    "                       # metode validasi silang\n",
    "                       cv=skf)\n",
    "\n",
    "gb_grid2.fit(x_trainval,y_trainval)"
   ]
  },
  {
   "cell_type": "code",
   "execution_count": 64,
   "metadata": {
    "collapsed": false
   },
   "outputs": [
    {
     "name": "stdout",
     "output_type": "stream",
     "text": [
      "Parameter Terbaik : \n",
      " {'max_depth': 10, 'min_samples_split': 50} \n",
      "\n",
      "Skor f1 tertinggi : \n",
      " 0.630225743786 \n",
      "\n",
      "model terbaik : \n",
      " GradientBoostingClassifier(criterion='friedman_mse', init=None,\n",
      "              learning_rate=0.2, loss='deviance', max_depth=10,\n",
      "              max_features=3, max_leaf_nodes=None,\n",
      "              min_impurity_decrease=0.0, min_impurity_split=None,\n",
      "              min_samples_leaf=20, min_samples_split=50,\n",
      "              min_weight_fraction_leaf=0.0, n_estimators=40,\n",
      "              presort='auto', random_state=10, subsample=0.8, verbose=0,\n",
      "              warm_start=False) \n",
      "\n",
      "akurasi:\n",
      " 0.76 \n",
      "\n",
      "confusion matirx test:\n",
      " [[111  18]\n",
      " [ 24  22]] \n",
      "\n",
      "classification Report test:\n",
      "              precision    recall  f1-score   support\n",
      "\n",
      "          0       0.82      0.86      0.84       129\n",
      "          1       0.55      0.48      0.51        46\n",
      "\n",
      "avg / total       0.75      0.76      0.75       175\n",
      " \n",
      "\n"
     ]
    }
   ],
   "source": [
    "hasil_tunning(gb_grid2)\n",
    "eval(gb_grid2,x_test,y_test)"
   ]
  },
  {
   "cell_type": "markdown",
   "metadata": {},
   "source": [
    "# Tunning 3 : Tree Specific (min_samples_leaf)"
   ]
  },
  {
   "cell_type": "code",
   "execution_count": 65,
   "metadata": {
    "collapsed": false
   },
   "outputs": [
    {
     "data": {
      "text/plain": [
       "GridSearchCV(cv=StratifiedKFold(n_splits=5, random_state=10, shuffle=False),\n",
       "       error_score='raise',\n",
       "       estimator=GradientBoostingClassifier(criterion='friedman_mse', init=None,\n",
       "              learning_rate=0.2, loss='deviance', max_depth=10,\n",
       "              max_features=3, max_leaf_nodes=None,\n",
       "              min_impurity_decrease=0.0, min_impurity_split=None,\n",
       "              min_samples_leaf=1, min_samples_split=50,\n",
       "              min_weight_fraction_leaf=0.0, n_estimators=40,\n",
       "              presort='auto', random_state=10, subsample=0.8, verbose=0,\n",
       "              warm_start=False),\n",
       "       fit_params=None, iid=True, n_jobs=1,\n",
       "       param_grid={'min_samples_leaf': [2, 20, 50, 75, 100]},\n",
       "       pre_dispatch='2*n_jobs', refit='f1', return_train_score=True,\n",
       "       scoring=['accuracy', 'recall', 'precision', 'f1'], verbose=0)"
      ]
     },
     "execution_count": 65,
     "metadata": {},
     "output_type": "execute_result"
    }
   ],
   "source": [
    "# model yang disiapkan\n",
    "gb_tune3 = GradientBoostingClassifier(max_depth=10,\n",
    "                                    max_features=3,\n",
    "                                    n_estimators=40,\n",
    "                                    min_samples_split=50,\n",
    "                                    #min_samples_leaf=20,\n",
    "                                    learning_rate=0.2,\n",
    "                                    subsample = 0.8,\n",
    "                                    random_state=10)\n",
    "\n",
    "# parameter yang disiapkan\n",
    "param_gb3 = {\n",
    "    'min_samples_leaf':[2,20,50,75,100]\n",
    "}\n",
    "\n",
    "gb_grid3 = GridSearchCV(gb_tune3,\n",
    "                       param_grid=param_gb3,\n",
    "                       # beberapa ukuran yang ingin dimunculkan\n",
    "                       scoring = ['accuracy','recall','precision', 'f1'],\n",
    "                       # ukuran prediksi yang digunakan untuk tunning\n",
    "                       refit = 'f1',\n",
    "                       # metode validasi silang\n",
    "                       cv=skf)\n",
    "\n",
    "gb_grid3.fit(x_trainval,y_trainval)"
   ]
  },
  {
   "cell_type": "code",
   "execution_count": 66,
   "metadata": {
    "collapsed": false
   },
   "outputs": [
    {
     "name": "stdout",
     "output_type": "stream",
     "text": [
      "Parameter Terbaik : \n",
      " {'min_samples_leaf': 20} \n",
      "\n",
      "Skor f1 tertinggi : \n",
      " 0.630225743786 \n",
      "\n",
      "model terbaik : \n",
      " GradientBoostingClassifier(criterion='friedman_mse', init=None,\n",
      "              learning_rate=0.2, loss='deviance', max_depth=10,\n",
      "              max_features=3, max_leaf_nodes=None,\n",
      "              min_impurity_decrease=0.0, min_impurity_split=None,\n",
      "              min_samples_leaf=20, min_samples_split=50,\n",
      "              min_weight_fraction_leaf=0.0, n_estimators=40,\n",
      "              presort='auto', random_state=10, subsample=0.8, verbose=0,\n",
      "              warm_start=False) \n",
      "\n",
      "akurasi:\n",
      " 0.748571428571 \n",
      "\n",
      "confusion matirx test:\n",
      " [[112  17]\n",
      " [ 27  19]] \n",
      "\n",
      "classification Report test:\n",
      "              precision    recall  f1-score   support\n",
      "\n",
      "          0       0.81      0.87      0.84       129\n",
      "          1       0.53      0.41      0.46        46\n",
      "\n",
      "avg / total       0.73      0.75      0.74       175\n",
      " \n",
      "\n"
     ]
    }
   ],
   "source": [
    "hasil_tunning(gb_grid3)\n",
    "eval(gb_grid3,x_test,y_test)"
   ]
  },
  {
   "cell_type": "code",
   "execution_count": 67,
   "metadata": {
    "collapsed": false
   },
   "outputs": [
    {
     "data": {
      "image/png": "[encoded data removed]",
      "text/plain": [
       "<matplotlib.figure.Figure at 0x164f64db4e0>"
      ]
     },
     "metadata": {},
     "output_type": "display_data"
    }
   ],
   "source": [
    "# plot peubah penting\n",
    "gb_grid3.best_estimator_.fit(x_trainval,y_trainval)\n",
    "plot_peubah_penting(gb_grid3.best_estimator_,FITUR_DUMMIES)"
   ]
  },
  {
   "cell_type": "markdown",
   "metadata": {},
   "source": [
    "# Tunning 4 : Tree Specific (max_features)"
   ]
  },
  {
   "cell_type": "code",
   "execution_count": 68,
   "metadata": {
    "collapsed": false
   },
   "outputs": [
    {
     "data": {
      "text/plain": [
       "GridSearchCV(cv=StratifiedKFold(n_splits=5, random_state=10, shuffle=False),\n",
       "       error_score='raise',\n",
       "       estimator=GradientBoostingClassifier(criterion='friedman_mse', init=None,\n",
       "              learning_rate=0.2, loss='deviance', max_depth=10,\n",
       "              max_features=None, max_leaf_nodes=None,\n",
       "              min_impurity_decrease=0.0, min_impurity_split=None,\n",
       "              min_samples_leaf=20, min_samples_split=50,\n",
       "              min_weight_fraction_leaf=0.0, n_estimators=40,\n",
       "              presort='auto', random_state=10, subsample=0.8, verbose=0,\n",
       "              warm_start=False),\n",
       "       fit_params=None, iid=True, n_jobs=1,\n",
       "       param_grid={'max_features': [3, 4, 5, 6, 7, 8, 9]},\n",
       "       pre_dispatch='2*n_jobs', refit='f1', return_train_score=True,\n",
       "       scoring=['accuracy', 'recall', 'precision', 'f1'], verbose=0)"
      ]
     },
     "execution_count": 68,
     "metadata": {},
     "output_type": "execute_result"
    }
   ],
   "source": [
    "# model yang disiapkan\n",
    "gb_tune4 = GradientBoostingClassifier(max_depth=10,\n",
    "                                    #max_features=3,\n",
    "                                    n_estimators=40,\n",
    "                                    min_samples_split=50,\n",
    "                                    min_samples_leaf=20,\n",
    "                                    learning_rate=0.2,\n",
    "                                    subsample = 0.8,\n",
    "                                    random_state=10)\n",
    "\n",
    "# parameter yang disiapkan\n",
    "param_gb4 = {\n",
    "    'max_features':[3,4,5,6,7,8,9]\n",
    "}\n",
    "\n",
    "gb_grid4 = GridSearchCV(gb_tune4,\n",
    "                       param_grid=param_gb4,\n",
    "                       # beberapa ukuran yang ingin dimunculkan\n",
    "                       scoring = ['accuracy','recall','precision', 'f1'],\n",
    "                       # ukuran prediksi yang digunakan untuk tunning\n",
    "                       refit = 'f1',\n",
    "                       # metode validasi silang\n",
    "                       cv=skf)\n",
    "\n",
    "gb_grid4.fit(x_trainval,y_trainval)"
   ]
  },
  {
   "cell_type": "code",
   "execution_count": 69,
   "metadata": {
    "collapsed": false
   },
   "outputs": [
    {
     "name": "stdout",
     "output_type": "stream",
     "text": [
      "Parameter Terbaik : \n",
      " {'max_features': 3} \n",
      "\n",
      "Skor f1 tertinggi : \n",
      " 0.630225743786 \n",
      "\n",
      "model terbaik : \n",
      " GradientBoostingClassifier(criterion='friedman_mse', init=None,\n",
      "              learning_rate=0.2, loss='deviance', max_depth=10,\n",
      "              max_features=3, max_leaf_nodes=None,\n",
      "              min_impurity_decrease=0.0, min_impurity_split=None,\n",
      "              min_samples_leaf=20, min_samples_split=50,\n",
      "              min_weight_fraction_leaf=0.0, n_estimators=40,\n",
      "              presort='auto', random_state=10, subsample=0.8, verbose=0,\n",
      "              warm_start=False) \n",
      "\n",
      "akurasi:\n",
      " 0.76 \n",
      "\n",
      "confusion matirx test:\n",
      " [[113  16]\n",
      " [ 26  20]] \n",
      "\n",
      "classification Report test:\n",
      "              precision    recall  f1-score   support\n",
      "\n",
      "          0       0.81      0.88      0.84       129\n",
      "          1       0.56      0.43      0.49        46\n",
      "\n",
      "avg / total       0.75      0.76      0.75       175\n",
      " \n",
      "\n"
     ]
    }
   ],
   "source": [
    "hasil_tunning(gb_grid4)\n",
    "eval(gb_grid4,x_test,y_test)"
   ]
  },
  {
   "cell_type": "markdown",
   "metadata": {},
   "source": [
    "# Tunning 5 :  lower the learning rate"
   ]
  },
  {
   "cell_type": "code",
   "execution_count": 70,
   "metadata": {
    "collapsed": false
   },
   "outputs": [
    {
     "data": {
      "text/plain": [
       "GridSearchCV(cv=StratifiedKFold(n_splits=5, random_state=10, shuffle=False),\n",
       "       error_score='raise',\n",
       "       estimator=GradientBoostingClassifier(criterion='friedman_mse', init=None,\n",
       "              learning_rate=0.1, loss='deviance', max_depth=10,\n",
       "              max_features=3, max_leaf_nodes=None,\n",
       "              min_impurity_decrease=0.0, min_impurity_split=None,\n",
       "              min_samples_leaf=20, min_samples_split=50,\n",
       "              min_weight_fraction_leaf=0.0, n_estimators=100,\n",
       "              presort='auto', random_state=10, subsample=0.8, verbose=0,\n",
       "              warm_start=False),\n",
       "       fit_params=None, iid=True, n_jobs=1,\n",
       "       param_grid=[{'learning_rate': [0.2], 'n_estimators': [40]}, {'learning_rate': [0.1], 'n_estimators': [80]}, {'learning_rate': [0.05], 'n_estimators': [160]}, {'learning_rate': [0.01], 'n_estimators': [800]}, {'learning_rate': [0.005], 'n_estimators': [1600]}],\n",
       "       pre_dispatch='2*n_jobs', refit='f1', return_train_score=True,\n",
       "       scoring=['accuracy', 'recall', 'precision', 'f1'], verbose=0)"
      ]
     },
     "execution_count": 70,
     "metadata": {},
     "output_type": "execute_result"
    }
   ],
   "source": [
    "# model yang disiapkan\n",
    "gb_tune5 = GradientBoostingClassifier(max_depth=10,\n",
    "                                    max_features=3,\n",
    "                                    #n_estimators=40,\n",
    "                                    min_samples_split=50,\n",
    "                                    min_samples_leaf=20,\n",
    "                                    #learning_rate=0.2,\n",
    "                                    subsample = 0.8,\n",
    "                                    random_state=10)\n",
    "\n",
    "# parameter yang disiapkan\n",
    "param_gb5 = [\n",
    "    {'learning_rate':[0.2],'n_estimators':[40]},\n",
    "    {'learning_rate':[0.1],'n_estimators':[80]},\n",
    "    {'learning_rate':[0.05],'n_estimators':[160]},\n",
    "    {'learning_rate':[0.01],'n_estimators':[800]},\n",
    "    {'learning_rate':[0.005],'n_estimators':[1600]}\n",
    "]\n",
    "\n",
    "gb_grid5 = GridSearchCV(gb_tune5,\n",
    "                       param_grid=param_gb5,\n",
    "                       # beberapa ukuran yang ingin dimunculkan\n",
    "                       scoring = ['accuracy','recall','precision', 'f1'],\n",
    "                       # ukuran prediksi yang digunakan untuk tunning\n",
    "                       refit = 'f1',\n",
    "                       # metode validasi silang\n",
    "                       cv=skf)\n",
    "\n",
    "gb_grid5.fit(x_trainval,y_trainval)"
   ]
  },
  {
   "cell_type": "code",
   "execution_count": 71,
   "metadata": {
    "collapsed": false
   },
   "outputs": [
    {
     "name": "stdout",
     "output_type": "stream",
     "text": [
      "Parameter Terbaik : \n",
      " {'learning_rate': 0.2, 'n_estimators': 40} \n",
      "\n",
      "Skor f1 tertinggi : \n",
      " 0.630225743786 \n",
      "\n",
      "model terbaik : \n",
      " GradientBoostingClassifier(criterion='friedman_mse', init=None,\n",
      "              learning_rate=0.2, loss='deviance', max_depth=10,\n",
      "              max_features=3, max_leaf_nodes=None,\n",
      "              min_impurity_decrease=0.0, min_impurity_split=None,\n",
      "              min_samples_leaf=20, min_samples_split=50,\n",
      "              min_weight_fraction_leaf=0.0, n_estimators=40,\n",
      "              presort='auto', random_state=10, subsample=0.8, verbose=0,\n",
      "              warm_start=False) \n",
      "\n",
      "akurasi:\n",
      " 0.76 \n",
      "\n",
      "confusion matirx test:\n",
      " [[114  15]\n",
      " [ 27  19]] \n",
      "\n",
      "classification Report test:\n",
      "              precision    recall  f1-score   support\n",
      "\n",
      "          0       0.81      0.88      0.84       129\n",
      "          1       0.56      0.41      0.47        46\n",
      "\n",
      "avg / total       0.74      0.76      0.75       175\n",
      " \n",
      "\n"
     ]
    }
   ],
   "source": [
    "hasil_tunning(gb_grid5)\n",
    "eval(gb_grid5,x_test,y_test)"
   ]
  },
  {
   "cell_type": "markdown",
   "metadata": {},
   "source": [
    "# Extreme Gradient Boosting Tunning"
   ]
  },
  {
   "cell_type": "markdown",
   "metadata": {},
   "source": [
    "# Tunning 1 : learning rate dan n estimators"
   ]
  },
  {
   "cell_type": "code",
   "execution_count": 72,
   "metadata": {
    "collapsed": false
   },
   "outputs": [],
   "source": [
    "# model yang disiapkan\n",
    "exgb_tune = XGBClassifier(min_child_weight=1,\n",
    "                    max_depth=5,\n",
    "                    gamma=0.12,\n",
    "                    subsample=0.8,\n",
    "                    colsample_bytree=1,\n",
    "                    learning_rate=0.8,\n",
    "                    #n_estimators=1000,\n",
    "                    random_state=10)\n",
    "\n",
    "# parameter yang disiapkan\n",
    "param_gb = {\n",
    "    'n_estimators':[20,40,60,100,120,140]}\n",
    "\n",
    "exgb_grid = GridSearchCV(exgb_tune,\n",
    "                       param_grid=param_gb,\n",
    "                       # beberapa ukuran yang ingin dimunculkan\n",
    "                       scoring = ['accuracy','recall','precision', 'f1'],\n",
    "                       # ukuran prediksi yang digunakan untuk tunning\n",
    "                       refit = 'f1',\n",
    "                       # metode validasi silang\n",
    "                       cv=skf)"
   ]
  },
  {
   "cell_type": "code",
   "execution_count": 73,
   "metadata": {
    "collapsed": false
   },
   "outputs": [
    {
     "data": {
      "text/plain": [
       "GridSearchCV(cv=StratifiedKFold(n_splits=5, random_state=10, shuffle=False),\n",
       "       error_score='raise',\n",
       "       estimator=XGBClassifier(base_score=0.5, booster='gbtree', colsample_bylevel=1,\n",
       "       colsample_bytree=1, gamma=0.12, learning_rate=0.8, max_delta_step=0,\n",
       "       max_depth=5, min_child_weight=1, missing=None, n_estimators=100,\n",
       "       n_jobs=1, nthread=None, objective='binary:logistic',\n",
       "       random_state=10, reg_alpha=0, reg_lambda=1, scale_pos_weight=1,\n",
       "       seed=None, silent=True, subsample=0.8),\n",
       "       fit_params=None, iid=True, n_jobs=1,\n",
       "       param_grid={'n_estimators': [20, 40, 60, 100, 120, 140]},\n",
       "       pre_dispatch='2*n_jobs', refit='f1', return_train_score=True,\n",
       "       scoring=['accuracy', 'recall', 'precision', 'f1'], verbose=0)"
      ]
     },
     "execution_count": 73,
     "metadata": {},
     "output_type": "execute_result"
    }
   ],
   "source": [
    "exgb_grid.fit(x_trainval,y_trainval)"
   ]
  },
  {
   "cell_type": "code",
   "execution_count": 74,
   "metadata": {
    "collapsed": false
   },
   "outputs": [
    {
     "name": "stdout",
     "output_type": "stream",
     "text": [
      "Parameter Terbaik : \n",
      " {'n_estimators': 40} \n",
      "\n",
      "Skor f1 tertinggi : \n",
      " 0.547200421884 \n",
      "\n",
      "model terbaik : \n",
      " XGBClassifier(base_score=0.5, booster='gbtree', colsample_bylevel=1,\n",
      "       colsample_bytree=1, gamma=0.12, learning_rate=0.8, max_delta_step=0,\n",
      "       max_depth=5, min_child_weight=1, missing=None, n_estimators=40,\n",
      "       n_jobs=1, nthread=None, objective='binary:logistic',\n",
      "       random_state=10, reg_alpha=0, reg_lambda=1, scale_pos_weight=1,\n",
      "       seed=None, silent=True, subsample=0.8) \n",
      "\n",
      "akurasi:\n",
      " 0.742857142857 \n",
      "\n",
      "confusion matirx test:\n",
      " [[110  19]\n",
      " [ 26  20]] \n",
      "\n",
      "classification Report test:\n",
      "              precision    recall  f1-score   support\n",
      "\n",
      "          0       0.81      0.85      0.83       129\n",
      "          1       0.51      0.43      0.47        46\n",
      "\n",
      "avg / total       0.73      0.74      0.74       175\n",
      " \n",
      "\n"
     ]
    }
   ],
   "source": [
    "hasil_tunning(exgb_grid)\n",
    "eval(exgb_grid,x_test,y_test)"
   ]
  },
  {
   "cell_type": "markdown",
   "metadata": {},
   "source": [
    "# Tunning 2 : max depth dan min child weight"
   ]
  },
  {
   "cell_type": "code",
   "execution_count": 75,
   "metadata": {
    "collapsed": false
   },
   "outputs": [
    {
     "data": {
      "text/plain": [
       "GridSearchCV(cv=StratifiedKFold(n_splits=5, random_state=10, shuffle=False),\n",
       "       error_score='raise',\n",
       "       estimator=XGBClassifier(base_score=0.5, booster='gbtree', colsample_bylevel=1,\n",
       "       colsample_bytree=1, gamma=0.12, learning_rate=0.8, max_delta_step=0,\n",
       "       max_depth=3, min_child_weight=1, missing=None, n_estimators=40,\n",
       "       n_jobs=1, nthread=None, objective='binary:logistic',\n",
       "       random_state=10, reg_alpha=0, reg_lambda=1, scale_pos_weight=1,\n",
       "       seed=None, silent=True, subsample=0.8),\n",
       "       fit_params=None, iid=True, n_jobs=1,\n",
       "       param_grid={'max_depth': range(3, 10, 2), 'min_child_weight': range(1, 6, 2)},\n",
       "       pre_dispatch='2*n_jobs', refit='f1', return_train_score=True,\n",
       "       scoring=['accuracy', 'recall', 'precision', 'f1'], verbose=0)"
      ]
     },
     "execution_count": 75,
     "metadata": {},
     "output_type": "execute_result"
    }
   ],
   "source": [
    "# model yang disiapkan\n",
    "exgb_tune2 = XGBClassifier(#min_child_weight=1,\n",
    "                    #max_depth=5,\n",
    "                    gamma=0.12,\n",
    "                    subsample=0.8,\n",
    "                    colsample_bytree=1,\n",
    "                    learning_rate=0.8,\n",
    "                    n_estimators=40,\n",
    "                    random_state=10)\n",
    "\n",
    "# parameter yang disiapkan\n",
    "param_gb2 = {\n",
    "    'max_depth':range(3,10,2),\n",
    "    'min_child_weight':range(1,6,2)\n",
    "}\n",
    "\n",
    "exgb_grid2 = GridSearchCV(exgb_tune2,\n",
    "                       param_grid=param_gb2,\n",
    "                       # beberapa ukuran yang ingin dimunculkan\n",
    "                       scoring = ['accuracy','recall','precision', 'f1'],\n",
    "                       # ukuran prediksi yang digunakan untuk tunning\n",
    "                       refit = 'f1',\n",
    "                       # metode validasi silang\n",
    "                       cv=skf)\n",
    "\n",
    "exgb_grid2.fit(x_trainval,y_trainval)"
   ]
  },
  {
   "cell_type": "code",
   "execution_count": 76,
   "metadata": {
    "collapsed": false
   },
   "outputs": [
    {
     "name": "stdout",
     "output_type": "stream",
     "text": [
      "Parameter Terbaik : \n",
      " {'max_depth': 3, 'min_child_weight': 1} \n",
      "\n",
      "Skor f1 tertinggi : \n",
      " 0.579931274822 \n",
      "\n",
      "model terbaik : \n",
      " XGBClassifier(base_score=0.5, booster='gbtree', colsample_bylevel=1,\n",
      "       colsample_bytree=1, gamma=0.12, learning_rate=0.8, max_delta_step=0,\n",
      "       max_depth=3, min_child_weight=1, missing=None, n_estimators=40,\n",
      "       n_jobs=1, nthread=None, objective='binary:logistic',\n",
      "       random_state=10, reg_alpha=0, reg_lambda=1, scale_pos_weight=1,\n",
      "       seed=None, silent=True, subsample=0.8) \n",
      "\n",
      "akurasi:\n",
      " 0.76 \n",
      "\n",
      "confusion matirx test:\n",
      " [[112  17]\n",
      " [ 25  21]] \n",
      "\n",
      "classification Report test:\n",
      "              precision    recall  f1-score   support\n",
      "\n",
      "          0       0.82      0.87      0.84       129\n",
      "          1       0.55      0.46      0.50        46\n",
      "\n",
      "avg / total       0.75      0.76      0.75       175\n",
      " \n",
      "\n"
     ]
    }
   ],
   "source": [
    "hasil_tunning(exgb_grid2)\n",
    "eval(exgb_grid2,x_test,y_test)"
   ]
  },
  {
   "cell_type": "markdown",
   "metadata": {},
   "source": [
    "# Tunning 3 : max depth dan min child weight"
   ]
  },
  {
   "cell_type": "code",
   "execution_count": 77,
   "metadata": {
    "collapsed": false
   },
   "outputs": [
    {
     "data": {
      "text/plain": [
       "GridSearchCV(cv=StratifiedKFold(n_splits=5, random_state=10, shuffle=False),\n",
       "       error_score='raise',\n",
       "       estimator=XGBClassifier(base_score=0.5, booster='gbtree', colsample_bylevel=1,\n",
       "       colsample_bytree=1, gamma=0.12, learning_rate=0.8, max_delta_step=0,\n",
       "       max_depth=3, min_child_weight=1, missing=None, n_estimators=40,\n",
       "       n_jobs=1, nthread=None, objective='binary:logistic',\n",
       "       random_state=10, reg_alpha=0, reg_lambda=1, scale_pos_weight=1,\n",
       "       seed=None, silent=True, subsample=0.8),\n",
       "       fit_params=None, iid=True, n_jobs=1,\n",
       "       param_grid={'max_depth': [2, 3, 4, 5, 6], 'min_child_weight': [1, 2, 3]},\n",
       "       pre_dispatch='2*n_jobs', refit='f1', return_train_score=True,\n",
       "       scoring=['accuracy', 'recall', 'precision', 'f1'], verbose=0)"
      ]
     },
     "execution_count": 77,
     "metadata": {},
     "output_type": "execute_result"
    }
   ],
   "source": [
    "# model yang disiapkan\n",
    "exgb_tune3 = XGBClassifier(#min_child_weight=1,\n",
    "                    #max_depth=5,\n",
    "                    gamma=0.12,\n",
    "                    subsample=0.8,\n",
    "                    colsample_bytree=1,\n",
    "                    learning_rate=0.8,\n",
    "                    n_estimators=40,\n",
    "                    random_state=10)\n",
    "\n",
    "# parameter yang disiapkan\n",
    "param_gb3 = {\n",
    "    'max_depth':[2,3,4,5,6],\n",
    "    'min_child_weight':[1,2,3]\n",
    "}\n",
    "\n",
    "exgb_grid3 = GridSearchCV(exgb_tune3,\n",
    "                       param_grid=param_gb3,\n",
    "                       # beberapa ukuran yang ingin dimunculkan\n",
    "                       scoring = ['accuracy','recall','precision', 'f1'],\n",
    "                       # ukuran prediksi yang digunakan untuk tunning\n",
    "                       refit = 'f1',\n",
    "                       # metode validasi silang\n",
    "                       cv=skf)\n",
    "\n",
    "exgb_grid3.fit(x_trainval,y_trainval)"
   ]
  },
  {
   "cell_type": "code",
   "execution_count": 78,
   "metadata": {
    "collapsed": false
   },
   "outputs": [
    {
     "name": "stdout",
     "output_type": "stream",
     "text": [
      "Parameter Terbaik : \n",
      " {'max_depth': 3, 'min_child_weight': 1} \n",
      "\n",
      "Skor f1 tertinggi : \n",
      " 0.579931274822 \n",
      "\n",
      "model terbaik : \n",
      " XGBClassifier(base_score=0.5, booster='gbtree', colsample_bylevel=1,\n",
      "       colsample_bytree=1, gamma=0.12, learning_rate=0.8, max_delta_step=0,\n",
      "       max_depth=3, min_child_weight=1, missing=None, n_estimators=40,\n",
      "       n_jobs=1, nthread=None, objective='binary:logistic',\n",
      "       random_state=10, reg_alpha=0, reg_lambda=1, scale_pos_weight=1,\n",
      "       seed=None, silent=True, subsample=0.8) \n",
      "\n",
      "akurasi:\n",
      " 0.765714285714 \n",
      "\n",
      "confusion matirx test:\n",
      " [[113  16]\n",
      " [ 25  21]] \n",
      "\n",
      "classification Report test:\n",
      "              precision    recall  f1-score   support\n",
      "\n",
      "          0       0.82      0.88      0.85       129\n",
      "          1       0.57      0.46      0.51        46\n",
      "\n",
      "avg / total       0.75      0.77      0.76       175\n",
      " \n",
      "\n"
     ]
    }
   ],
   "source": [
    "hasil_tunning(exgb_grid3)\n",
    "eval(exgb_grid3,x_test,y_test)"
   ]
  },
  {
   "cell_type": "markdown",
   "metadata": {},
   "source": [
    "# Tunning 4 : gamma"
   ]
  },
  {
   "cell_type": "code",
   "execution_count": 79,
   "metadata": {
    "collapsed": false
   },
   "outputs": [
    {
     "data": {
      "text/plain": [
       "GridSearchCV(cv=StratifiedKFold(n_splits=5, random_state=10, shuffle=False),\n",
       "       error_score='raise',\n",
       "       estimator=XGBClassifier(base_score=0.5, booster='gbtree', colsample_bylevel=1,\n",
       "       colsample_bytree=1, gamma=0, learning_rate=0.8, max_delta_step=0,\n",
       "       max_depth=3, min_child_weight=1, missing=None, n_estimators=40,\n",
       "       n_jobs=1, nthread=None, objective='binary:logistic',\n",
       "       random_state=10, reg_alpha=0, reg_lambda=1, scale_pos_weight=1,\n",
       "       seed=None, silent=True, subsample=0.8),\n",
       "       fit_params=None, iid=True, n_jobs=1,\n",
       "       param_grid={'gamma': [0.0, 0.1, 0.2, 0.3, 0.4, 0.12]},\n",
       "       pre_dispatch='2*n_jobs', refit='f1', return_train_score=True,\n",
       "       scoring=['accuracy', 'recall', 'precision', 'f1'], verbose=0)"
      ]
     },
     "execution_count": 79,
     "metadata": {},
     "output_type": "execute_result"
    }
   ],
   "source": [
    "# model yang disiapkan\n",
    "exgb_tune4 = XGBClassifier(min_child_weight=1,\n",
    "                    max_depth=3,\n",
    "                    #gamma=0.12,\n",
    "                    subsample=0.8,\n",
    "                    colsample_bytree=1,\n",
    "                    learning_rate=0.8,\n",
    "                    n_estimators=40,\n",
    "                    random_state=10)\n",
    "\n",
    "# parameter yang disiapkan\n",
    "param_gb4 = {\n",
    "    'gamma':[i/10.0 for i in range(0,5)]+[0.12]\n",
    "}\n",
    "\n",
    "exgb_grid4 = GridSearchCV(exgb_tune4,\n",
    "                       param_grid=param_gb4,\n",
    "                       # beberapa ukuran yang ingin dimunculkan\n",
    "                       scoring = ['accuracy','recall','precision', 'f1'],\n",
    "                       # ukuran prediksi yang digunakan untuk tunning\n",
    "                       refit = 'f1',\n",
    "                       # metode validasi silang\n",
    "                       cv=skf)\n",
    "\n",
    "exgb_grid4.fit(x_trainval,y_trainval)"
   ]
  },
  {
   "cell_type": "code",
   "execution_count": 80,
   "metadata": {
    "collapsed": false
   },
   "outputs": [
    {
     "name": "stdout",
     "output_type": "stream",
     "text": [
      "Parameter Terbaik : \n",
      " {'gamma': 0.12} \n",
      "\n",
      "Skor f1 tertinggi : \n",
      " 0.579931274822 \n",
      "\n",
      "model terbaik : \n",
      " XGBClassifier(base_score=0.5, booster='gbtree', colsample_bylevel=1,\n",
      "       colsample_bytree=1, gamma=0.12, learning_rate=0.8, max_delta_step=0,\n",
      "       max_depth=3, min_child_weight=1, missing=None, n_estimators=40,\n",
      "       n_jobs=1, nthread=None, objective='binary:logistic',\n",
      "       random_state=10, reg_alpha=0, reg_lambda=1, scale_pos_weight=1,\n",
      "       seed=None, silent=True, subsample=0.8) \n",
      "\n",
      "akurasi:\n",
      " 0.702857142857 \n",
      "\n",
      "confusion matirx test:\n",
      " [[105  24]\n",
      " [ 28  18]] \n",
      "\n",
      "classification Report test:\n",
      "              precision    recall  f1-score   support\n",
      "\n",
      "          0       0.79      0.81      0.80       129\n",
      "          1       0.43      0.39      0.41        46\n",
      "\n",
      "avg / total       0.69      0.70      0.70       175\n",
      " \n",
      "\n"
     ]
    }
   ],
   "source": [
    "hasil_tunning(exgb_grid4)\n",
    "eval(exgb_grid4,x_test,y_test)"
   ]
  },
  {
   "cell_type": "markdown",
   "metadata": {},
   "source": [
    "# Tunning 5 : Subsample and colsample_bytree"
   ]
  },
  {
   "cell_type": "code",
   "execution_count": 81,
   "metadata": {
    "collapsed": false
   },
   "outputs": [
    {
     "data": {
      "text/plain": [
       "GridSearchCV(cv=StratifiedKFold(n_splits=5, random_state=10, shuffle=False),\n",
       "       error_score='raise',\n",
       "       estimator=XGBClassifier(base_score=0.5, booster='gbtree', colsample_bylevel=1,\n",
       "       colsample_bytree=1, gamma=0.12, learning_rate=0.8, max_delta_step=0,\n",
       "       max_depth=3, min_child_weight=1, missing=None, n_estimators=40,\n",
       "       n_jobs=1, nthread=None, objective='binary:logistic',\n",
       "       random_state=10, reg_alpha=0, reg_lambda=1, scale_pos_weight=1,\n",
       "       seed=None, silent=True, subsample=1),\n",
       "       fit_params=None, iid=True, n_jobs=1,\n",
       "       param_grid={'subsample': [0.6, 0.7, 0.8, 0.9], 'colsample_bytree': [0.6, 0.7, 0.8, 0.9, 1]},\n",
       "       pre_dispatch='2*n_jobs', refit='f1', return_train_score=True,\n",
       "       scoring=['accuracy', 'recall', 'precision', 'f1'], verbose=0)"
      ]
     },
     "execution_count": 81,
     "metadata": {},
     "output_type": "execute_result"
    }
   ],
   "source": [
    "# model yang disiapkan\n",
    "exgb_tune5 = XGBClassifier(min_child_weight=1,\n",
    "                    max_depth=3,\n",
    "                    gamma=0.12,\n",
    "                    #subsample=0.8,\n",
    "                    #colsample_bytree=1,\n",
    "                    learning_rate=0.8,\n",
    "                    n_estimators=40,\n",
    "                    random_state=10)\n",
    "\n",
    "# parameter yang disiapkan\n",
    "param_gb5 = {\n",
    "    'subsample':[i/10.0 for i in range(6,10)],\n",
    "    'colsample_bytree':[i/10 for i in range(6,10)]+[1]\n",
    "}\n",
    "\n",
    "exgb_grid5 = GridSearchCV(exgb_tune5,\n",
    "                       param_grid=param_gb5,\n",
    "                       # beberapa ukuran yang ingin dimunculkan\n",
    "                       scoring = ['accuracy','recall','precision', 'f1'],\n",
    "                       # ukuran prediksi yang digunakan untuk tunning\n",
    "                       refit = 'f1',\n",
    "                       # metode validasi silang\n",
    "                       cv=skf)\n",
    "\n",
    "exgb_grid5.fit(x_trainval,y_trainval)"
   ]
  },
  {
   "cell_type": "code",
   "execution_count": 82,
   "metadata": {
    "collapsed": false
   },
   "outputs": [
    {
     "name": "stdout",
     "output_type": "stream",
     "text": [
      "Parameter Terbaik : \n",
      " {'colsample_bytree': 1, 'subsample': 0.8} \n",
      "\n",
      "Skor f1 tertinggi : \n",
      " 0.579931274822 \n",
      "\n",
      "model terbaik : \n",
      " XGBClassifier(base_score=0.5, booster='gbtree', colsample_bylevel=1,\n",
      "       colsample_bytree=1, gamma=0.12, learning_rate=0.8, max_delta_step=0,\n",
      "       max_depth=3, min_child_weight=1, missing=None, n_estimators=40,\n",
      "       n_jobs=1, nthread=None, objective='binary:logistic',\n",
      "       random_state=10, reg_alpha=0, reg_lambda=1, scale_pos_weight=1,\n",
      "       seed=None, silent=True, subsample=0.8) \n",
      "\n",
      "akurasi:\n",
      " 0.76 \n",
      "\n",
      "confusion matirx test:\n",
      " [[107  22]\n",
      " [ 20  26]] \n",
      "\n",
      "classification Report test:\n",
      "              precision    recall  f1-score   support\n",
      "\n",
      "          0       0.84      0.83      0.84       129\n",
      "          1       0.54      0.57      0.55        46\n",
      "\n",
      "avg / total       0.76      0.76      0.76       175\n",
      " \n",
      "\n"
     ]
    }
   ],
   "source": [
    "hasil_tunning(exgb_grid5)\n",
    "eval(exgb_grid5,x_test,y_test)"
   ]
  },
  {
   "cell_type": "markdown",
   "metadata": {},
   "source": [
    "# Tunning 6 : Regularization Parameters"
   ]
  },
  {
   "cell_type": "code",
   "execution_count": 83,
   "metadata": {
    "collapsed": false
   },
   "outputs": [
    {
     "data": {
      "text/plain": [
       "GridSearchCV(cv=StratifiedKFold(n_splits=5, random_state=10, shuffle=False),\n",
       "       error_score='raise',\n",
       "       estimator=XGBClassifier(base_score=0.5, booster='gbtree', colsample_bylevel=1,\n",
       "       colsample_bytree=1, gamma=0.12, learning_rate=0.8, max_delta_step=0,\n",
       "       max_depth=3, min_child_weight=1, missing=None, n_estimators=40,\n",
       "       n_jobs=1, nthread=None, objective='binary:logistic',\n",
       "       random_state=10, reg_alpha=0, reg_lambda=1, scale_pos_weight=1,\n",
       "       seed=None, silent=True, subsample=0.8),\n",
       "       fit_params=None, iid=True, n_jobs=1,\n",
       "       param_grid={'reg_alpha': [0.01, 0.1, 0, 1, 10], 'reg_lambda': [0.01, 0.1, 0, 1, 10]},\n",
       "       pre_dispatch='2*n_jobs', refit='f1', return_train_score=True,\n",
       "       scoring=['accuracy', 'recall', 'precision', 'f1'], verbose=0)"
      ]
     },
     "execution_count": 83,
     "metadata": {},
     "output_type": "execute_result"
    }
   ],
   "source": [
    "# model yang disiapkan\n",
    "exgb_tune6 = XGBClassifier(min_child_weight=1,\n",
    "                    max_depth=3,\n",
    "                    gamma=0.12,\n",
    "                    subsample=0.8,\n",
    "                    colsample_bytree=1,\n",
    "                    learning_rate=0.8,\n",
    "                    n_estimators=40,\n",
    "                    random_state=10)\n",
    "\n",
    "# parameter yang disiapkan\n",
    "param_gb6 = {\n",
    "    'reg_alpha':[0.01,0.1,0,1,10],\n",
    "    'reg_lambda':[0.01,0.1,0,1,10]\n",
    "}\n",
    "\n",
    "exgb_grid6 = GridSearchCV(exgb_tune6,\n",
    "                       param_grid=param_gb6,\n",
    "                       # beberapa ukuran yang ingin dimunculkan\n",
    "                       scoring = ['accuracy','recall','precision', 'f1'],\n",
    "                       # ukuran prediksi yang digunakan untuk tunning\n",
    "                       refit = 'f1',\n",
    "                       # metode validasi silang\n",
    "                       cv=skf)\n",
    "\n",
    "exgb_grid6.fit(x_trainval,y_trainval)"
   ]
  },
  {
   "cell_type": "code",
   "execution_count": 84,
   "metadata": {
    "collapsed": false
   },
   "outputs": [
    {
     "name": "stdout",
     "output_type": "stream",
     "text": [
      "Parameter Terbaik : \n",
      " {'reg_alpha': 0.01, 'reg_lambda': 10} \n",
      "\n",
      "Skor f1 tertinggi : \n",
      " 0.60323461165 \n",
      "\n",
      "model terbaik : \n",
      " XGBClassifier(base_score=0.5, booster='gbtree', colsample_bylevel=1,\n",
      "       colsample_bytree=1, gamma=0.12, learning_rate=0.8, max_delta_step=0,\n",
      "       max_depth=3, min_child_weight=1, missing=None, n_estimators=40,\n",
      "       n_jobs=1, nthread=None, objective='binary:logistic',\n",
      "       random_state=10, reg_alpha=0.01, reg_lambda=10, scale_pos_weight=1,\n",
      "       seed=None, silent=True, subsample=0.8) \n",
      "\n",
      "akurasi:\n",
      " 0.76 \n",
      "\n",
      "confusion matirx test:\n",
      " [[112  17]\n",
      " [ 25  21]] \n",
      "\n",
      "classification Report test:\n",
      "              precision    recall  f1-score   support\n",
      "\n",
      "          0       0.82      0.87      0.84       129\n",
      "          1       0.55      0.46      0.50        46\n",
      "\n",
      "avg / total       0.75      0.76      0.75       175\n",
      " \n",
      "\n"
     ]
    }
   ],
   "source": [
    "hasil_tunning(exgb_grid6)\n",
    "eval(exgb_grid6,x_test,y_test)"
   ]
  },
  {
   "cell_type": "markdown",
   "metadata": {},
   "source": [
    "# Tunning 7 : Learning Rate vs n estimator"
   ]
  },
  {
   "cell_type": "code",
   "execution_count": 85,
   "metadata": {
    "collapsed": false
   },
   "outputs": [
    {
     "data": {
      "text/plain": [
       "GridSearchCV(cv=StratifiedKFold(n_splits=5, random_state=10, shuffle=False),\n",
       "       error_score='raise',\n",
       "       estimator=XGBClassifier(base_score=0.5, booster='gbtree', colsample_bylevel=1,\n",
       "       colsample_bytree=1, gamma=0.12, learning_rate=0.1, max_delta_step=0,\n",
       "       max_depth=3, min_child_weight=1, missing=None, n_estimators=100,\n",
       "       n_jobs=1, nthread=None, objective='binary:logistic',\n",
       "       random_state=10, reg_alpha=0.01, reg_lambda=10, scale_pos_weight=1,\n",
       "       seed=None, silent=True, subsample=0.8),\n",
       "       fit_params=None, iid=True, n_jobs=1,\n",
       "       param_grid=[{'learning_rate': [0.8], 'n_estimators': [40]}, {'learning_rate': [0.4], 'n_estimators': [80]}, {'learning_rate': [0.2], 'n_estimators': [160]}, {'learning_rate': [0.1], 'n_estimators': [320]}, {'learning_rate': [0.05], 'n_estimators': [640]}],\n",
       "       pre_dispatch='2*n_jobs', refit='f1', return_train_score=True,\n",
       "       scoring=['accuracy', 'recall', 'precision', 'f1'], verbose=0)"
      ]
     },
     "execution_count": 85,
     "metadata": {},
     "output_type": "execute_result"
    }
   ],
   "source": [
    "# model yang disiapkan\n",
    "exgb_tune7 = XGBClassifier(min_child_weight=1,\n",
    "                    max_depth=3,\n",
    "                    gamma=0.12,\n",
    "                    subsample=0.8,\n",
    "                    colsample_bytree=1,\n",
    "                    #learning_rate=0.8,\n",
    "                    #n_estimators=40,\n",
    "                    reg_alpha=0.01,\n",
    "                    reg_lambda=10,\n",
    "                    random_state=10)\n",
    "\n",
    "# parameter yang disiapkan\n",
    "param_gb7 = [\n",
    "    {'learning_rate':[0.8],'n_estimators':[40]},\n",
    "    {'learning_rate':[0.4],'n_estimators':[80]},\n",
    "    {'learning_rate':[0.2],'n_estimators':[160]},\n",
    "    {'learning_rate':[0.1],'n_estimators':[320]},\n",
    "    {'learning_rate':[0.05],'n_estimators':[640]}\n",
    "]\n",
    "\n",
    "exgb_grid7 = GridSearchCV(exgb_tune7,\n",
    "                       param_grid=param_gb7,\n",
    "                       # beberapa ukuran yang ingin dimunculkan\n",
    "                       scoring = ['accuracy','recall','precision', 'f1'],\n",
    "                       # ukuran prediksi yang digunakan untuk tunning\n",
    "                       refit = 'f1',\n",
    "                       # metode validasi silang\n",
    "                       cv=skf)\n",
    "\n",
    "exgb_grid7.fit(x_trainval,y_trainval)"
   ]
  },
  {
   "cell_type": "code",
   "execution_count": 86,
   "metadata": {
    "collapsed": false
   },
   "outputs": [
    {
     "name": "stdout",
     "output_type": "stream",
     "text": [
      "Parameter Terbaik : \n",
      " {'learning_rate': 0.2, 'n_estimators': 160} \n",
      "\n",
      "Skor f1 tertinggi : \n",
      " 0.610590797035 \n",
      "\n",
      "model terbaik : \n",
      " XGBClassifier(base_score=0.5, booster='gbtree', colsample_bylevel=1,\n",
      "       colsample_bytree=1, gamma=0.12, learning_rate=0.2, max_delta_step=0,\n",
      "       max_depth=3, min_child_weight=1, missing=None, n_estimators=160,\n",
      "       n_jobs=1, nthread=None, objective='binary:logistic',\n",
      "       random_state=10, reg_alpha=0.01, reg_lambda=10, scale_pos_weight=1,\n",
      "       seed=None, silent=True, subsample=0.8) \n",
      "\n",
      "akurasi:\n",
      " 0.76 \n",
      "\n",
      "confusion matirx test:\n",
      " [[112  17]\n",
      " [ 25  21]] \n",
      "\n",
      "classification Report test:\n",
      "              precision    recall  f1-score   support\n",
      "\n",
      "          0       0.82      0.87      0.84       129\n",
      "          1       0.55      0.46      0.50        46\n",
      "\n",
      "avg / total       0.75      0.76      0.75       175\n",
      " \n",
      "\n"
     ]
    }
   ],
   "source": [
    "hasil_tunning(exgb_grid7)\n",
    "eval(exgb_grid7,x_test,y_test)"
   ]
  },
  {
   "cell_type": "markdown",
   "metadata": {},
   "source": [
    "# Tunning 7b : Learning Rate vs n estimator"
   ]
  },
  {
   "cell_type": "code",
   "execution_count": 87,
   "metadata": {
    "collapsed": false
   },
   "outputs": [
    {
     "data": {
      "text/plain": [
       "GridSearchCV(cv=StratifiedKFold(n_splits=5, random_state=10, shuffle=False),\n",
       "       error_score='raise',\n",
       "       estimator=XGBClassifier(base_score=0.5, booster='gbtree', colsample_bylevel=1,\n",
       "       colsample_bytree=1, gamma=0.12, learning_rate=0.1, max_delta_step=0,\n",
       "       max_depth=3, min_child_weight=1, missing=None, n_estimators=100,\n",
       "       n_jobs=1, nthread=None, objective='binary:logistic',\n",
       "       random_state=10, reg_alpha=0, reg_lambda=1, scale_pos_weight=1,\n",
       "       seed=None, silent=True, subsample=0.8),\n",
       "       fit_params=None, iid=True, n_jobs=1,\n",
       "       param_grid=[{'learning_rate': [0.8], 'n_estimators': [40]}, {'learning_rate': [0.4], 'n_estimators': [80]}, {'learning_rate': [0.2], 'n_estimators': [160]}, {'learning_rate': [0.1], 'n_estimators': [320]}, {'learning_rate': [0.05], 'n_estimators': [640]}, {'learning_rate': [0.025], 'n_estimators': [1280]}],\n",
       "       pre_dispatch='2*n_jobs', refit='f1', return_train_score=True,\n",
       "       scoring=['accuracy', 'recall', 'precision', 'f1'], verbose=0)"
      ]
     },
     "execution_count": 87,
     "metadata": {},
     "output_type": "execute_result"
    }
   ],
   "source": [
    "# model yang disiapkan\n",
    "exgb_tune7 = XGBClassifier(min_child_weight=1,\n",
    "                    max_depth=3,\n",
    "                    gamma=0.12,\n",
    "                    subsample=0.8,\n",
    "                    colsample_bytree=1,\n",
    "                    #learning_rate=0.8,\n",
    "                    #n_estimators=40,\n",
    "                    #reg_alpha=0.01,\n",
    "                    #reg_lambda=10,\n",
    "                    random_state=10)\n",
    "\n",
    "# parameter yang disiapkan\n",
    "param_gb7 = [\n",
    "    {'learning_rate':[0.8],'n_estimators':[40]},\n",
    "    {'learning_rate':[0.4],'n_estimators':[80]},\n",
    "    {'learning_rate':[0.2],'n_estimators':[160]},\n",
    "    {'learning_rate':[0.1],'n_estimators':[320]},\n",
    "    {'learning_rate':[0.05],'n_estimators':[640]},\n",
    "    {'learning_rate':[0.025],'n_estimators':[1280]}\n",
    "]\n",
    "\n",
    "exgb_grid7 = GridSearchCV(exgb_tune7,\n",
    "                       param_grid=param_gb7,\n",
    "                       # beberapa ukuran yang ingin dimunculkan\n",
    "                       scoring = ['accuracy','recall','precision', 'f1'],\n",
    "                       # ukuran prediksi yang digunakan untuk tunning\n",
    "                       refit = 'f1',\n",
    "                       # metode validasi silang\n",
    "                       cv=skf)\n",
    "\n",
    "exgb_grid7.fit(x_trainval,y_trainval)"
   ]
  },
  {
   "cell_type": "code",
   "execution_count": 88,
   "metadata": {
    "collapsed": false
   },
   "outputs": [
    {
     "name": "stdout",
     "output_type": "stream",
     "text": [
      "Parameter Terbaik : \n",
      " {'learning_rate': 0.05, 'n_estimators': 640} \n",
      "\n",
      "Skor f1 tertinggi : \n",
      " 0.597812763201 \n",
      "\n",
      "model terbaik : \n",
      " XGBClassifier(base_score=0.5, booster='gbtree', colsample_bylevel=1,\n",
      "       colsample_bytree=1, gamma=0.12, learning_rate=0.05,\n",
      "       max_delta_step=0, max_depth=3, min_child_weight=1, missing=None,\n",
      "       n_estimators=640, n_jobs=1, nthread=None,\n",
      "       objective='binary:logistic', random_state=10, reg_alpha=0,\n",
      "       reg_lambda=1, scale_pos_weight=1, seed=None, silent=True,\n",
      "       subsample=0.8) \n",
      "\n",
      "akurasi:\n",
      " 0.737142857143 \n",
      "\n",
      "confusion matirx test:\n",
      " [[108  21]\n",
      " [ 25  21]] \n",
      "\n",
      "classification Report test:\n",
      "              precision    recall  f1-score   support\n",
      "\n",
      "          0       0.81      0.84      0.82       129\n",
      "          1       0.50      0.46      0.48        46\n",
      "\n",
      "avg / total       0.73      0.74      0.73       175\n",
      " \n",
      "\n"
     ]
    }
   ],
   "source": [
    "hasil_tunning(exgb_grid7)\n",
    "eval(exgb_grid7,x_test,y_test)"
   ]
  },
  {
   "cell_type": "markdown",
   "metadata": {},
   "source": [
    "_______________"
   ]
  },
  {
   "cell_type": "markdown",
   "metadata": {},
   "source": [
    "# MENYIMPAN DAN MEMUAT MODEL"
   ]
  },
  {
   "cell_type": "markdown",
   "metadata": {},
   "source": [
    "_________________________"
   ]
  },
  {
   "cell_type": "code",
   "execution_count": 89,
   "metadata": {
    "collapsed": true
   },
   "outputs": [],
   "source": [
    "# library untuk menyimpan dan memuat model\n",
    "import pickle"
   ]
  },
  {
   "cell_type": "code",
   "execution_count": 90,
   "metadata": {
    "collapsed": false
   },
   "outputs": [],
   "source": [
    "#menyimpan model\n",
    "filename = 'Model Boosting.sav'\n",
    "pickle.dump(exgb_grid7.best_estimator_,open(filename,'wb'))"
   ]
  },
  {
   "cell_type": "code",
   "execution_count": 91,
   "metadata": {
    "collapsed": true
   },
   "outputs": [],
   "source": [
    "# memuat model\n",
    "loaded_model = pickle.load(open(filename,'rb'))"
   ]
  },
  {
   "cell_type": "code",
   "execution_count": 92,
   "metadata": {
    "collapsed": false
   },
   "outputs": [
    {
     "name": "stdout",
     "output_type": "stream",
     "text": [
      "Akurasi pada model yang telah dimuat 0.737142857143\n"
     ]
    }
   ],
   "source": [
    "# manimplkan skor pada model yang telah dimuat\n",
    "print(\"Akurasi pada model yang telah dimuat\",loaded_model.score(x_test,y_test))"
   ]
  },
  {
   "cell_type": "code",
   "execution_count": 93,
   "metadata": {
    "collapsed": false
   },
   "outputs": [
    {
     "name": "stdout",
     "output_type": "stream",
     "text": [
      "akurasi cv : \n",
      " [ 0.72641509  0.80188679  0.76190476  0.85576923  0.81730769] \n",
      " 0.792656714355 \n",
      "\n",
      "recall cv : \n",
      " [ 0.46428571  0.60714286  0.51851852  0.59259259  0.51851852] \n",
      " 0.540211640212 \n",
      "\n",
      "presisi cv : \n",
      " [ 0.48148148  0.62962963  0.53846154  0.8         0.7       ] \n",
      " 0.629914529915 \n",
      "\n",
      "f1 cv : \n",
      " [ 0.47272727  0.61818182  0.52830189  0.68085106  0.59574468] \n",
      " 0.579161344476 \n",
      "\n"
     ]
    }
   ],
   "source": [
    "# menampilkan evaluasi menggunakan cv\n",
    "eval_cv(loaded_model,x_trainval,y_trainval)"
   ]
  },
  {
   "cell_type": "code",
   "execution_count": 94,
   "metadata": {
    "collapsed": false
   },
   "outputs": [
    {
     "name": "stdout",
     "output_type": "stream",
     "text": [
      "akurasi:\n",
      " 1.0 \n",
      "\n",
      "confusion matirx test:\n",
      " [[290   0]\n",
      " [  0 103]] \n",
      "\n",
      "classification Report test:\n",
      "              precision    recall  f1-score   support\n",
      "\n",
      "          0       1.00      1.00      1.00       290\n",
      "          1       1.00      1.00      1.00       103\n",
      "\n",
      "avg / total       1.00      1.00      1.00       393\n",
      " \n",
      "\n"
     ]
    }
   ],
   "source": [
    "eval(loaded_model,x_train,y_train)"
   ]
  },
  {
   "cell_type": "code",
   "execution_count": 95,
   "metadata": {
    "collapsed": false
   },
   "outputs": [
    {
     "name": "stdout",
     "output_type": "stream",
     "text": [
      "akurasi:\n",
      " 0.737142857143 \n",
      "\n",
      "confusion matirx test:\n",
      " [[108  21]\n",
      " [ 25  21]] \n",
      "\n",
      "classification Report test:\n",
      "              precision    recall  f1-score   support\n",
      "\n",
      "          0       0.81      0.84      0.82       129\n",
      "          1       0.50      0.46      0.48        46\n",
      "\n",
      "avg / total       0.73      0.74      0.73       175\n",
      " \n",
      "\n"
     ]
    }
   ],
   "source": [
    "eval(loaded_model,x_test,y_test)"
   ]
  },
  {
   "cell_type": "code",
   "execution_count": 96,
   "metadata": {
    "collapsed": false
   },
   "outputs": [
    {
     "data": {
      "image/png": "[encoded data removed]",
      "text/plain": [
       "<matplotlib.figure.Figure at 0x164f643a668>"
      ]
     },
     "metadata": {},
     "output_type": "display_data"
    }
   ],
   "source": [
    "# plot peubah penting\n",
    "plot_peubah_penting(loaded_model,FITUR_DUMMIES)"
   ]
  }
 ],
 "metadata": {
  "kernelspec": {
   "display_name": "Python 3",
   "language": "python",
   "name": "python3"
  },
  "language_info": {
   "codemirror_mode": {
    "name": "ipython",
    "version": 3
   },
   "file_extension": ".py",
   "mimetype": "text/x-python",
   "name": "python",
   "nbconvert_exporter": "python",
   "pygments_lexer": "ipython3",
   "version": "3.6.0"
  }
 },
 "nbformat": 4,
 "nbformat_minor": 2
}
