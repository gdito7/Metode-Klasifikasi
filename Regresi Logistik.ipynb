{
 "cells": [
  {
   "cell_type": "markdown",
   "metadata": {},
   "source": [
    "___"
   ]
  },
  {
   "cell_type": "markdown",
   "metadata": {},
   "source": [
    "# REGRESI LOGISTIK"
   ]
  },
  {
   "cell_type": "markdown",
   "metadata": {},
   "source": [
    "___"
   ]
  },
  {
   "cell_type": "code",
   "execution_count": 1,
   "metadata": {
    "collapsed": true
   },
   "outputs": [],
   "source": [
    "import pandas as pd\n",
    "import numpy as np"
   ]
  },
  {
   "cell_type": "code",
   "execution_count": 2,
   "metadata": {
    "collapsed": true
   },
   "outputs": [],
   "source": [
    "# import data dari csv\n",
    "wine = pd.read_csv('white_wine2.csv')"
   ]
  },
  {
   "cell_type": "code",
   "execution_count": 3,
   "metadata": {
    "collapsed": false
   },
   "outputs": [
    {
     "data": {
      "text/html": [
       "<div>\n",
       "<table border=\"1\" class=\"dataframe\">\n",
       "  <thead>\n",
       "    <tr style=\"text-align: right;\">\n",
       "      <th></th>\n",
       "      <th>fixed acidity</th>\n",
       "      <th>volatile acidity</th>\n",
       "      <th>citric acid</th>\n",
       "      <th>residual sugar</th>\n",
       "      <th>chlorides</th>\n",
       "      <th>free sulfur dioxide</th>\n",
       "      <th>total sulfur dioxide</th>\n",
       "      <th>density</th>\n",
       "      <th>pH</th>\n",
       "      <th>sulphates</th>\n",
       "      <th>alcohol</th>\n",
       "      <th>quality</th>\n",
       "    </tr>\n",
       "  </thead>\n",
       "  <tbody>\n",
       "    <tr>\n",
       "      <th>0</th>\n",
       "      <td>7.0</td>\n",
       "      <td>0.27</td>\n",
       "      <td>0.36</td>\n",
       "      <td>20.7</td>\n",
       "      <td>0.045</td>\n",
       "      <td>45.0</td>\n",
       "      <td>170.0</td>\n",
       "      <td>1.0010</td>\n",
       "      <td>3.00</td>\n",
       "      <td>0.45</td>\n",
       "      <td>8.8</td>\n",
       "      <td>6</td>\n",
       "    </tr>\n",
       "    <tr>\n",
       "      <th>1</th>\n",
       "      <td>6.3</td>\n",
       "      <td>0.30</td>\n",
       "      <td>0.34</td>\n",
       "      <td>1.6</td>\n",
       "      <td>0.049</td>\n",
       "      <td>14.0</td>\n",
       "      <td>132.0</td>\n",
       "      <td>0.9940</td>\n",
       "      <td>3.30</td>\n",
       "      <td>0.49</td>\n",
       "      <td>9.5</td>\n",
       "      <td>6</td>\n",
       "    </tr>\n",
       "    <tr>\n",
       "      <th>2</th>\n",
       "      <td>8.1</td>\n",
       "      <td>0.28</td>\n",
       "      <td>0.40</td>\n",
       "      <td>6.9</td>\n",
       "      <td>0.050</td>\n",
       "      <td>30.0</td>\n",
       "      <td>97.0</td>\n",
       "      <td>0.9951</td>\n",
       "      <td>3.26</td>\n",
       "      <td>0.44</td>\n",
       "      <td>10.1</td>\n",
       "      <td>6</td>\n",
       "    </tr>\n",
       "    <tr>\n",
       "      <th>3</th>\n",
       "      <td>7.2</td>\n",
       "      <td>0.23</td>\n",
       "      <td>0.32</td>\n",
       "      <td>8.5</td>\n",
       "      <td>0.058</td>\n",
       "      <td>47.0</td>\n",
       "      <td>186.0</td>\n",
       "      <td>0.9956</td>\n",
       "      <td>3.19</td>\n",
       "      <td>0.40</td>\n",
       "      <td>9.9</td>\n",
       "      <td>6</td>\n",
       "    </tr>\n",
       "    <tr>\n",
       "      <th>4</th>\n",
       "      <td>7.2</td>\n",
       "      <td>0.23</td>\n",
       "      <td>0.32</td>\n",
       "      <td>8.5</td>\n",
       "      <td>0.058</td>\n",
       "      <td>47.0</td>\n",
       "      <td>186.0</td>\n",
       "      <td>0.9956</td>\n",
       "      <td>3.19</td>\n",
       "      <td>0.40</td>\n",
       "      <td>9.9</td>\n",
       "      <td>6</td>\n",
       "    </tr>\n",
       "  </tbody>\n",
       "</table>\n",
       "</div>"
      ],
      "text/plain": [
       "   fixed acidity  volatile acidity  citric acid  residual sugar  chlorides  \\\n",
       "0            7.0              0.27         0.36            20.7      0.045   \n",
       "1            6.3              0.30         0.34             1.6      0.049   \n",
       "2            8.1              0.28         0.40             6.9      0.050   \n",
       "3            7.2              0.23         0.32             8.5      0.058   \n",
       "4            7.2              0.23         0.32             8.5      0.058   \n",
       "\n",
       "   free sulfur dioxide  total sulfur dioxide  density    pH  sulphates  \\\n",
       "0                 45.0                 170.0   1.0010  3.00       0.45   \n",
       "1                 14.0                 132.0   0.9940  3.30       0.49   \n",
       "2                 30.0                  97.0   0.9951  3.26       0.44   \n",
       "3                 47.0                 186.0   0.9956  3.19       0.40   \n",
       "4                 47.0                 186.0   0.9956  3.19       0.40   \n",
       "\n",
       "   alcohol  quality  \n",
       "0      8.8        6  \n",
       "1      9.5        6  \n",
       "2     10.1        6  \n",
       "3      9.9        6  \n",
       "4      9.9        6  "
      ]
     },
     "execution_count": 3,
     "metadata": {},
     "output_type": "execute_result"
    }
   ],
   "source": [
    "# manmpilkan beberapa baris data awal\n",
    "wine.head()"
   ]
  },
  {
   "cell_type": "code",
   "execution_count": 4,
   "metadata": {
    "collapsed": false
   },
   "outputs": [
    {
     "name": "stdout",
     "output_type": "stream",
     "text": [
      "Dimensi Data :  (4898, 12) \n",
      "\n",
      "Tipe Data :\n",
      "  fixed acidity           float64\n",
      "volatile acidity        float64\n",
      "citric acid             float64\n",
      "residual sugar          float64\n",
      "chlorides               float64\n",
      "free sulfur dioxide     float64\n",
      "total sulfur dioxide    float64\n",
      "density                 float64\n",
      "pH                      float64\n",
      "sulphates               float64\n",
      "alcohol                 float64\n",
      "quality                   int64\n",
      "dtype: object \n",
      "\n",
      "Data Hilang :\n",
      "  fixed acidity           0\n",
      "volatile acidity        0\n",
      "citric acid             0\n",
      "residual sugar          0\n",
      "chlorides               0\n",
      "free sulfur dioxide     0\n",
      "total sulfur dioxide    0\n",
      "density                 0\n",
      "pH                      0\n",
      "sulphates               0\n",
      "alcohol                 0\n",
      "quality                 0\n",
      "dtype: int64\n"
     ]
    }
   ],
   "source": [
    "print(\"Dimensi Data : \",wine.shape,\"\\n\")\n",
    "print(\"Tipe Data :\\n \",wine.dtypes,\"\\n\")\n",
    "print(\"Data Hilang :\\n \",wine.isnull().sum())"
   ]
  },
  {
   "cell_type": "code",
   "execution_count": 5,
   "metadata": {
    "collapsed": true
   },
   "outputs": [],
   "source": [
    "# peubah penjelas yang digunakan\n",
    "FITUR=['density','alcohol']"
   ]
  },
  {
   "cell_type": "code",
   "execution_count": 6,
   "metadata": {
    "collapsed": true
   },
   "outputs": [],
   "source": [
    "# definisikan peubah respon (skor>6 memiliki kualitas baik)\n",
    "wine['label']=np.where(wine['quality']>6,1,0)"
   ]
  },
  {
   "cell_type": "markdown",
   "metadata": {},
   "source": [
    "___"
   ]
  },
  {
   "cell_type": "markdown",
   "metadata": {},
   "source": [
    "# EKSPLORASI DATA"
   ]
  },
  {
   "cell_type": "markdown",
   "metadata": {},
   "source": [
    "___"
   ]
  },
  {
   "cell_type": "code",
   "execution_count": 7,
   "metadata": {
    "collapsed": true
   },
   "outputs": [],
   "source": [
    "# library untuk eksplorasi data\n",
    "import matplotlib.pyplot as plt"
   ]
  },
  {
   "cell_type": "markdown",
   "metadata": {},
   "source": [
    "# Peubah Respon"
   ]
  },
  {
   "cell_type": "code",
   "execution_count": 8,
   "metadata": {
    "collapsed": false
   },
   "outputs": [
    {
     "data": {
      "image/png": "[encoded data removed]",
      "text/plain": [
       "<matplotlib.figure.Figure at 0x10d587f7a58>"
      ]
     },
     "metadata": {},
     "output_type": "display_data"
    }
   ],
   "source": [
    "# menghitung ukuran diagram pie\n",
    "ukuran = [sum(wine['label']),len(wine['label'])-sum(wine['label'])]\n",
    "\n",
    "# menentukan label\n",
    "labels = ['bagus','jelek']\n",
    "\n",
    "# memilih warna \n",
    "color = ['lightskyblue','lightcoral']\n",
    "\n",
    "# diagram pie\n",
    "plt.pie(ukuran,labels=labels,colors=color,autopct='%1.1f%%',startangle=140)\n",
    "\n",
    "plt.axis('equal')\n",
    "plt.show()"
   ]
  },
  {
   "cell_type": "markdown",
   "metadata": {},
   "source": [
    "# Peubah Penjelas"
   ]
  },
  {
   "cell_type": "markdown",
   "metadata": {},
   "source": [
    "distribusi peubah"
   ]
  },
  {
   "cell_type": "code",
   "execution_count": 9,
   "metadata": {
    "collapsed": false
   },
   "outputs": [
    {
     "data": {
      "image/png": "[encoded data removed]",
      "text/plain": [
       "<matplotlib.figure.Figure at 0x10d5a91b7b8>"
      ]
     },
     "metadata": {},
     "output_type": "display_data"
    }
   ],
   "source": [
    "# mengatur ukuran gambar\n",
    "plt.figure(figsize=(16,6))\n",
    "\n",
    "# posis gambar pertama untuk peubah density\n",
    "plt.subplot(1,2,1)\n",
    "wine['density'].hist()\n",
    "# mengatur ukuran huruf pada nilai-nilai di smbu x\n",
    "plt.xticks(fontsize=13)\n",
    "# mengatur ukuran huruf pada nilai-nilai di smbu y\n",
    "plt.yticks(fontsize=22)\n",
    "\n",
    "# posis gambar keuda untuk peubah alcohol\n",
    "plt.subplot(1,2,2)\n",
    "wine['alcohol'].hist()\n",
    "# mengatur ukuran huruf pada nilai-nilai di smbu x\n",
    "plt.xticks(fontsize=22)\n",
    "# mengatur ukuran huruf pada nilai-nilai di smbu y\n",
    "plt.yticks(fontsize=22)\n",
    "\n",
    "plt.show()"
   ]
  },
  {
   "cell_type": "markdown",
   "metadata": {},
   "source": [
    "distribusi peubah untuk masing-masing kualitas"
   ]
  },
  {
   "cell_type": "code",
   "execution_count": 10,
   "metadata": {
    "collapsed": false
   },
   "outputs": [
    {
     "data": {
      "image/png": "[encoded data removed]",
      "text/plain": [
       "<matplotlib.figure.Figure at 0x10d5aa6c080>"
      ]
     },
     "metadata": {},
     "output_type": "display_data"
    }
   ],
   "source": [
    "# mengatur ukuran gambar\n",
    "plt.figure(figsize=(16,6))\n",
    "\n",
    "# posis gambar pertama untuk peubah density\n",
    "plt.subplot(1,2,1)\n",
    "wine[wine['label']==0]['density'].hist()\n",
    "wine[wine['label']==1]['density'].hist()\n",
    "# mengatur ukuran huruf pada nilai-nilai di smbu x\n",
    "plt.xticks(fontsize=13)\n",
    "# mengatur ukuran huruf pada nilai-nilai di smbu y\n",
    "plt.yticks(fontsize=22)\n",
    "\n",
    "# posis gambar keuda untuk peubah alcohol\n",
    "plt.subplot(1,2,2)\n",
    "wine[wine['label']==0]['alcohol'].hist()\n",
    "wine[wine['label']==1]['alcohol'].hist()\n",
    "# mengatur ukuran huruf pada nilai-nilai di smbu x\n",
    "plt.xticks(fontsize=22)\n",
    "# mengatur ukuran huruf pada nilai-nilai di smbu y\n",
    "plt.yticks(fontsize=22)\n",
    "\n",
    "plt.show()"
   ]
  },
  {
   "cell_type": "markdown",
   "metadata": {},
   "source": [
    "diagram pencar peubah alcohol dan density"
   ]
  },
  {
   "cell_type": "code",
   "execution_count": 11,
   "metadata": {
    "collapsed": false
   },
   "outputs": [
    {
     "data": {
      "image/png": "[encoded data removed]",
      "text/plain": [
       "<matplotlib.figure.Figure at 0x10d5acc0eb8>"
      ]
     },
     "metadata": {},
     "output_type": "display_data"
    }
   ],
   "source": [
    "# mengatur ukuran gambar\n",
    "plt.figure(figsize=(16,10))\n",
    "\n",
    "# diagram pencar\n",
    "plt.scatter(wine[wine['label']==0]['density'],wine[wine['label']==0]['alcohol'],marker='o',s=50)\n",
    "plt.scatter(wine[wine['label']==1]['density'],wine[wine['label']==1]['alcohol'],marker='o',s=50)\n",
    "\n",
    "# memunculkan keterangan\n",
    "plt.legend(('kurang baik','baik'),loc='best',fontsize=25)\n",
    "\n",
    "# mengatur ukuran huruf pada nilai-nilai di smbu x\n",
    "plt.xticks(fontsize=22)\n",
    "# mengatur ukuran huruf pada nilai-nilai di smbu y\n",
    "plt.yticks(fontsize=22)\n",
    "\n",
    "\n",
    "plt.show()"
   ]
  },
  {
   "cell_type": "markdown",
   "metadata": {},
   "source": [
    "___"
   ]
  },
  {
   "cell_type": "markdown",
   "metadata": {},
   "source": [
    "# PEMODELAN REGRESI LOGISTIK"
   ]
  },
  {
   "cell_type": "markdown",
   "metadata": {},
   "source": [
    "___"
   ]
  },
  {
   "cell_type": "markdown",
   "metadata": {},
   "source": [
    "# Membagi Data Train Test"
   ]
  },
  {
   "cell_type": "code",
   "execution_count": 12,
   "metadata": {
    "collapsed": true
   },
   "outputs": [],
   "source": [
    "# library untuk membagi data\n",
    "from sklearn.model_selection import train_test_split"
   ]
  },
  {
   "cell_type": "code",
   "execution_count": 13,
   "metadata": {
    "collapsed": true
   },
   "outputs": [],
   "source": [
    "# data dibagi menjadi 2 bagian, data traindan data tets\n",
    "x_train,x_test,y_train,y_test = train_test_split(wine[FITUR],wine['label'],test_size=0.3,random_state=0,stratify=wine['label'])"
   ]
  },
  {
   "cell_type": "code",
   "execution_count": 14,
   "metadata": {
    "collapsed": false
   },
   "outputs": [
    {
     "name": "stdout",
     "output_type": "stream",
     "text": [
      "(3428, 2)\n",
      "(1470, 2)\n"
     ]
    }
   ],
   "source": [
    "# memunculkan dimensi masing-masing gugus data\n",
    "print(x_train.shape)\n",
    "print(x_test.shape)"
   ]
  },
  {
   "cell_type": "markdown",
   "metadata": {},
   "source": [
    "# Menampilkan Model Regresi Logistik"
   ]
  },
  {
   "cell_type": "code",
   "execution_count": 15,
   "metadata": {
    "collapsed": false
   },
   "outputs": [
    {
     "name": "stdout",
     "output_type": "stream",
     "text": [
      "Optimization terminated successfully.\n",
      "         Current function value: 0.455400\n",
      "         Iterations 6\n",
      "                           Logit Regression Results                           \n",
      "==============================================================================\n",
      "Dep. Variable:                  label   No. Observations:                 4898\n",
      "Model:                          Logit   Df Residuals:                     4896\n",
      "Method:                           MLE   Df Model:                            1\n",
      "Date:                Fri, 28 Dec 2018   Pseudo R-squ.:                  0.1281\n",
      "Time:                        17:22:31   Log-Likelihood:                -2230.6\n",
      "converged:                       True   LL-Null:                       -2558.4\n",
      "                                        LLR p-value:                1.306e-144\n",
      "==============================================================================\n",
      "                 coef    std err          z      P>|z|      [95.0% Conf. Int.]\n",
      "------------------------------------------------------------------------------\n",
      "density       -9.3348      0.347    -26.930      0.000       -10.014    -8.655\n",
      "alcohol        0.7404      0.031     23.897      0.000         0.680     0.801\n",
      "==============================================================================\n"
     ]
    }
   ],
   "source": [
    "# library untuk membangun regresi logistik\n",
    "import statsmodels.api as sm\n",
    "\n",
    "# membangun model regresi logistik\n",
    "logit_model = sm.Logit(wine['label'],wine[FITUR])\n",
    "result = logit_model.fit()\n",
    "\n",
    "# menampilkan model regresi logistik\n",
    "print(result.summary())"
   ]
  },
  {
   "cell_type": "markdown",
   "metadata": {},
   "source": [
    "# Melihat Performa Regresi Logistik"
   ]
  },
  {
   "cell_type": "code",
   "execution_count": 16,
   "metadata": {
    "collapsed": false
   },
   "outputs": [],
   "source": [
    "# library Regresi Logistik\n",
    "from sklearn.linear_model import LogisticRegression\n",
    "\n",
    "# library untuk evaluasi hasil prediksi\n",
    "from sklearn.metrics import accuracy_score, recall_score \n",
    "from sklearn.metrics import confusion_matrix, classification_report \n",
    "from sklearn.metrics import f1_score, precision_score"
   ]
  },
  {
   "cell_type": "code",
   "execution_count": 17,
   "metadata": {
    "collapsed": false
   },
   "outputs": [
    {
     "data": {
      "text/plain": [
       "LogisticRegression(C=1.0, class_weight=None, dual=False, fit_intercept=True,\n",
       "          intercept_scaling=1, max_iter=100, multi_class='ovr', n_jobs=1,\n",
       "          penalty='l2', random_state=None, solver='liblinear', tol=0.0001,\n",
       "          verbose=0, warm_start=False)"
      ]
     },
     "execution_count": 17,
     "metadata": {},
     "output_type": "execute_result"
    }
   ],
   "source": [
    "# membangun model regresi logistik\n",
    "logreg = LogisticRegression()\n",
    "logreg.fit(x_train,y_train)"
   ]
  },
  {
   "cell_type": "code",
   "execution_count": 18,
   "metadata": {
    "collapsed": false
   },
   "outputs": [
    {
     "name": "stdout",
     "output_type": "stream",
     "text": [
      "Akurasi :\n",
      " 0.795799299883 \n",
      "\n",
      "precision :\n",
      " 0.612903225806 \n",
      "\n",
      "Recall :\n",
      " 0.153638814016 \n",
      "\n",
      "f1 score :\n",
      " 0.245689655172 \n",
      "\n",
      "Confusion Matrix :\n",
      " [[2614   72]\n",
      " [ 628  114]] \n",
      "\n",
      "Classification Report :\n",
      "              precision    recall  f1-score   support\n",
      "\n",
      "          0       0.81      0.97      0.88      2686\n",
      "          1       0.61      0.15      0.25       742\n",
      "\n",
      "avg / total       0.76      0.80      0.74      3428\n",
      " \n",
      "\n"
     ]
    }
   ],
   "source": [
    "# menampilan beberapa ukuran prediksi pada data train/latih\n",
    "print(\"Akurasi :\\n\", \n",
    "      accuracy_score(y_train,logreg.predict(x_train)),\"\\n\")\n",
    "print(\"precision :\\n\", \n",
    "      precision_score(y_train,logreg.predict(x_train)),\"\\n\")\n",
    "print(\"Recall :\\n\", \n",
    "      recall_score(y_train,logreg.predict(x_train)),\"\\n\")\n",
    "print(\"f1 score :\\n\", \n",
    "      f1_score(y_train,logreg.predict(x_train)),\"\\n\")\n",
    "print(\"Confusion Matrix :\\n\", \n",
    "      confusion_matrix(y_train,logreg.predict(x_train)),\"\\n\")\n",
    "print(\"Classification Report :\\n\", \n",
    "      classification_report(y_train,logreg.predict(x_train)),\"\\n\")"
   ]
  },
  {
   "cell_type": "code",
   "execution_count": 19,
   "metadata": {
    "collapsed": false
   },
   "outputs": [
    {
     "name": "stdout",
     "output_type": "stream",
     "text": [
      "Akurasi :\n",
      " 0.805442176871 \n",
      "\n",
      "precision :\n",
      " 0.650943396226 \n",
      "\n",
      "Recall :\n",
      " 0.216981132075 \n",
      "\n",
      "f1 score :\n",
      " 0.325471698113 \n",
      "\n",
      "Confusion Matrix :\n",
      " [[1115   37]\n",
      " [ 249   69]] \n",
      "\n",
      "Classification Report :\n",
      "              precision    recall  f1-score   support\n",
      "\n",
      "          0       0.82      0.97      0.89      1152\n",
      "          1       0.65      0.22      0.33       318\n",
      "\n",
      "avg / total       0.78      0.81      0.76      1470\n",
      " \n",
      "\n"
     ]
    }
   ],
   "source": [
    "# menampilan beberapa ukuran prediksi pada data test/uji\n",
    "print(\"Akurasi :\\n\", accuracy_score(y_test,logreg.predict(x_test)),\"\\n\")\n",
    "print(\"precision :\\n\", precision_score(y_test,logreg.predict(x_test)),\"\\n\")\n",
    "print(\"Recall :\\n\", recall_score(y_test,logreg.predict(x_test)),\"\\n\")\n",
    "print(\"f1 score :\\n\", f1_score(y_test,logreg.predict(x_test)),\"\\n\")\n",
    "print(\"Confusion Matrix :\\n\", confusion_matrix(y_test,logreg.predict(x_test)),\"\\n\")\n",
    "print(\"Classification Report :\\n\", classification_report(y_test,logreg.predict(x_test)),\"\\n\")"
   ]
  },
  {
   "cell_type": "code",
   "execution_count": 20,
   "metadata": {
    "collapsed": true
   },
   "outputs": [],
   "source": [
    "# library untuk melakukan perintaha validasi silang secara bertsrata\n",
    "from sklearn.model_selection import StratifiedKFold\n",
    "# library untuk menghitung skor validasi silang\n",
    "from sklearn.model_selection import cross_val_score"
   ]
  },
  {
   "cell_type": "code",
   "execution_count": 21,
   "metadata": {
    "collapsed": false
   },
   "outputs": [
    {
     "name": "stdout",
     "output_type": "stream",
     "text": [
      "Akurasi \n",
      " 0.792315070226 \n",
      "\n",
      "Recall \n",
      " 0.137585585586 \n",
      "\n",
      "presisi \n",
      " 0.59563505466 \n",
      "\n",
      "f1-score \n",
      " 0.221815366612 \n",
      "\n"
     ]
    }
   ],
   "source": [
    "# menampilkan ukuran prediksi menggunakan validasi silang berstrata\n",
    "skfold = StratifiedKFold(n_splits=10)\n",
    "print(\"Akurasi \\n\",\n",
    "      cross_val_score(logreg,x_train,\n",
    "                      y_train,scoring=\"accuracy\",cv=skfold).mean(),\"\\n\")\n",
    "print(\"Recall \\n\",\n",
    "      cross_val_score(logreg,x_train,\n",
    "                      y_train,scoring=\"recall\",cv=skfold).mean(),\"\\n\")\n",
    "print(\"presisi \\n\",\n",
    "      cross_val_score(logreg,x_train,\n",
    "                      y_train,scoring=\"precision\",cv=skfold).mean(),\"\\n\")\n",
    "print(\"f1-score \\n\",\n",
    "      cross_val_score(logreg,x_train,\n",
    "                      y_train,scoring=\"f1\",cv=skfold).mean(),\"\\n\")"
   ]
  },
  {
   "cell_type": "markdown",
   "metadata": {},
   "source": [
    "___"
   ]
  },
  {
   "cell_type": "markdown",
   "metadata": {},
   "source": [
    "# Regresi Logistik dengan Interaksi dan Fitur Polinomial"
   ]
  },
  {
   "cell_type": "markdown",
   "metadata": {},
   "source": [
    "___"
   ]
  },
  {
   "cell_type": "code",
   "execution_count": 22,
   "metadata": {
    "collapsed": false
   },
   "outputs": [],
   "source": [
    "# library untuk menambahkan interaksi dan peubah polynomial\n",
    "from sklearn.preprocessing import PolynomialFeatures"
   ]
  },
  {
   "cell_type": "markdown",
   "metadata": {},
   "source": [
    "# Interaksi"
   ]
  },
  {
   "cell_type": "code",
   "execution_count": 23,
   "metadata": {
    "collapsed": false
   },
   "outputs": [
    {
     "data": {
      "text/plain": [
       "PolynomialFeatures(degree=2, include_bias=False, interaction_only=True)"
      ]
     },
     "execution_count": 23,
     "metadata": {},
     "output_type": "execute_result"
    }
   ],
   "source": [
    "# menambahkan interaksi\n",
    "inter = PolynomialFeatures(interaction_only=True,include_bias=False) \n",
    "inter.fit(wine[FITUR])"
   ]
  },
  {
   "cell_type": "code",
   "execution_count": 24,
   "metadata": {
    "collapsed": true
   },
   "outputs": [],
   "source": [
    "x_inter = pd.DataFrame(inter.transform(wine[FITUR]),columns=inter.get_feature_names())"
   ]
  },
  {
   "cell_type": "code",
   "execution_count": 25,
   "metadata": {
    "collapsed": false
   },
   "outputs": [
    {
     "data": {
      "text/html": [
       "<div>\n",
       "<table border=\"1\" class=\"dataframe\">\n",
       "  <thead>\n",
       "    <tr style=\"text-align: right;\">\n",
       "      <th></th>\n",
       "      <th>x0</th>\n",
       "      <th>x1</th>\n",
       "      <th>x0 x1</th>\n",
       "    </tr>\n",
       "  </thead>\n",
       "  <tbody>\n",
       "    <tr>\n",
       "      <th>0</th>\n",
       "      <td>1.0010</td>\n",
       "      <td>8.8</td>\n",
       "      <td>8.80880</td>\n",
       "    </tr>\n",
       "    <tr>\n",
       "      <th>1</th>\n",
       "      <td>0.9940</td>\n",
       "      <td>9.5</td>\n",
       "      <td>9.44300</td>\n",
       "    </tr>\n",
       "    <tr>\n",
       "      <th>2</th>\n",
       "      <td>0.9951</td>\n",
       "      <td>10.1</td>\n",
       "      <td>10.05051</td>\n",
       "    </tr>\n",
       "    <tr>\n",
       "      <th>3</th>\n",
       "      <td>0.9956</td>\n",
       "      <td>9.9</td>\n",
       "      <td>9.85644</td>\n",
       "    </tr>\n",
       "    <tr>\n",
       "      <th>4</th>\n",
       "      <td>0.9956</td>\n",
       "      <td>9.9</td>\n",
       "      <td>9.85644</td>\n",
       "    </tr>\n",
       "  </tbody>\n",
       "</table>\n",
       "</div>"
      ],
      "text/plain": [
       "       x0    x1     x0 x1\n",
       "0  1.0010   8.8   8.80880\n",
       "1  0.9940   9.5   9.44300\n",
       "2  0.9951  10.1  10.05051\n",
       "3  0.9956   9.9   9.85644\n",
       "4  0.9956   9.9   9.85644"
      ]
     },
     "execution_count": 25,
     "metadata": {},
     "output_type": "execute_result"
    }
   ],
   "source": [
    "x_inter.head()"
   ]
  },
  {
   "cell_type": "markdown",
   "metadata": {},
   "source": [
    "# Polynomial"
   ]
  },
  {
   "cell_type": "code",
   "execution_count": 26,
   "metadata": {
    "collapsed": false
   },
   "outputs": [
    {
     "data": {
      "text/plain": [
       "PolynomialFeatures(degree=3, include_bias=False, interaction_only=False)"
      ]
     },
     "execution_count": 26,
     "metadata": {},
     "output_type": "execute_result"
    }
   ],
   "source": [
    "# menambahkan hingga polynomial derajat 3\n",
    "poly = PolynomialFeatures(degree=3,include_bias=False,interaction_only=False) \n",
    "poly.fit(wine[FITUR])"
   ]
  },
  {
   "cell_type": "code",
   "execution_count": 27,
   "metadata": {
    "collapsed": false
   },
   "outputs": [],
   "source": [
    "x_poly3=pd.DataFrame(poly.transform(wine[FITUR]),columns=poly.get_feature_names())"
   ]
  },
  {
   "cell_type": "code",
   "execution_count": 28,
   "metadata": {
    "collapsed": false
   },
   "outputs": [
    {
     "data": {
      "text/html": [
       "<div>\n",
       "<table border=\"1\" class=\"dataframe\">\n",
       "  <thead>\n",
       "    <tr style=\"text-align: right;\">\n",
       "      <th></th>\n",
       "      <th>x0</th>\n",
       "      <th>x1</th>\n",
       "      <th>x0^2</th>\n",
       "      <th>x0 x1</th>\n",
       "      <th>x1^2</th>\n",
       "      <th>x0^3</th>\n",
       "      <th>x0^2 x1</th>\n",
       "      <th>x0 x1^2</th>\n",
       "      <th>x1^3</th>\n",
       "    </tr>\n",
       "  </thead>\n",
       "  <tbody>\n",
       "    <tr>\n",
       "      <th>0</th>\n",
       "      <td>1.0010</td>\n",
       "      <td>8.8</td>\n",
       "      <td>1.002001</td>\n",
       "      <td>8.80880</td>\n",
       "      <td>77.44</td>\n",
       "      <td>1.003003</td>\n",
       "      <td>8.817609</td>\n",
       "      <td>77.517440</td>\n",
       "      <td>681.472</td>\n",
       "    </tr>\n",
       "    <tr>\n",
       "      <th>1</th>\n",
       "      <td>0.9940</td>\n",
       "      <td>9.5</td>\n",
       "      <td>0.988036</td>\n",
       "      <td>9.44300</td>\n",
       "      <td>90.25</td>\n",
       "      <td>0.982108</td>\n",
       "      <td>9.386342</td>\n",
       "      <td>89.708500</td>\n",
       "      <td>857.375</td>\n",
       "    </tr>\n",
       "    <tr>\n",
       "      <th>2</th>\n",
       "      <td>0.9951</td>\n",
       "      <td>10.1</td>\n",
       "      <td>0.990224</td>\n",
       "      <td>10.05051</td>\n",
       "      <td>102.01</td>\n",
       "      <td>0.985372</td>\n",
       "      <td>10.001263</td>\n",
       "      <td>101.510151</td>\n",
       "      <td>1030.301</td>\n",
       "    </tr>\n",
       "    <tr>\n",
       "      <th>3</th>\n",
       "      <td>0.9956</td>\n",
       "      <td>9.9</td>\n",
       "      <td>0.991219</td>\n",
       "      <td>9.85644</td>\n",
       "      <td>98.01</td>\n",
       "      <td>0.986858</td>\n",
       "      <td>9.813072</td>\n",
       "      <td>97.578756</td>\n",
       "      <td>970.299</td>\n",
       "    </tr>\n",
       "    <tr>\n",
       "      <th>4</th>\n",
       "      <td>0.9956</td>\n",
       "      <td>9.9</td>\n",
       "      <td>0.991219</td>\n",
       "      <td>9.85644</td>\n",
       "      <td>98.01</td>\n",
       "      <td>0.986858</td>\n",
       "      <td>9.813072</td>\n",
       "      <td>97.578756</td>\n",
       "      <td>970.299</td>\n",
       "    </tr>\n",
       "  </tbody>\n",
       "</table>\n",
       "</div>"
      ],
      "text/plain": [
       "       x0    x1      x0^2     x0 x1    x1^2      x0^3    x0^2 x1     x0 x1^2  \\\n",
       "0  1.0010   8.8  1.002001   8.80880   77.44  1.003003   8.817609   77.517440   \n",
       "1  0.9940   9.5  0.988036   9.44300   90.25  0.982108   9.386342   89.708500   \n",
       "2  0.9951  10.1  0.990224  10.05051  102.01  0.985372  10.001263  101.510151   \n",
       "3  0.9956   9.9  0.991219   9.85644   98.01  0.986858   9.813072   97.578756   \n",
       "4  0.9956   9.9  0.991219   9.85644   98.01  0.986858   9.813072   97.578756   \n",
       "\n",
       "       x1^3  \n",
       "0   681.472  \n",
       "1   857.375  \n",
       "2  1030.301  \n",
       "3   970.299  \n",
       "4   970.299  "
      ]
     },
     "execution_count": 28,
     "metadata": {},
     "output_type": "execute_result"
    }
   ],
   "source": [
    "x_poly3.head()"
   ]
  },
  {
   "cell_type": "code",
   "execution_count": 29,
   "metadata": {
    "collapsed": false
   },
   "outputs": [],
   "source": [
    "# mengembangkan fungsi untuk evaluasi\n",
    "def eval(logreg,x_test,y_test):\n",
    "    # menampilan beberapa ukuran prediksi pada data test/uji\n",
    "    print(\"Akurasi :\\n\", accuracy_score(y_test,logreg.predict(x_test)),\"\\n\")\n",
    "    print(\"precision :\\n\", precision_score(y_test,logreg.predict(x_test)),\"\\n\")\n",
    "    print(\"Recall :\\n\", recall_score(y_test,logreg.predict(x_test)),\"\\n\")\n",
    "    print(\"f1 score :\\n\", f1_score(y_test,logreg.predict(x_test)),\"\\n\")\n",
    "    print(\"Confusion Matrix :\\n\", confusion_matrix(y_test,logreg.predict(x_test)),\"\\n\")\n",
    "    print(\"Classification Report :\\n\", classification_report(y_test,logreg.predict(x_test)),\"\\n\")"
   ]
  },
  {
   "cell_type": "code",
   "execution_count": 30,
   "metadata": {
    "collapsed": false
   },
   "outputs": [],
   "source": [
    "# data dibagi menjadi 2 bagian, data traindan data tets\n",
    "x_train_inter,x_test_inter,y_train,y_test = train_test_split(x_inter,wine['label'],test_size=0.3,random_state=0,stratify=wine['label'])\n",
    "x_train_poly3,x_test_poly3,y_train,y_test = train_test_split(x_poly3,wine['label'],test_size=0.3,random_state=0,stratify=wine['label'])"
   ]
  },
  {
   "cell_type": "code",
   "execution_count": 31,
   "metadata": {
    "collapsed": false
   },
   "outputs": [
    {
     "name": "stdout",
     "output_type": "stream",
     "text": [
      "Akurasi :\n",
      " 0.863945578231 \n",
      "\n",
      "precision :\n",
      " 0.94696969697 \n",
      "\n",
      "Recall :\n",
      " 0.393081761006 \n",
      "\n",
      "f1 score :\n",
      " 0.555555555556 \n",
      "\n",
      "Confusion Matrix :\n",
      " [[1145    7]\n",
      " [ 193  125]] \n",
      "\n",
      "Classification Report :\n",
      "              precision    recall  f1-score   support\n",
      "\n",
      "          0       0.86      0.99      0.92      1152\n",
      "          1       0.95      0.39      0.56       318\n",
      "\n",
      "avg / total       0.88      0.86      0.84      1470\n",
      " \n",
      "\n"
     ]
    }
   ],
   "source": [
    "# pemodelan regresi logistik dengan interaksi\n",
    "logreg_inter = LogisticRegression()\n",
    "logreg_inter.fit(x_train_inter,y_train)\n",
    "eval(logreg_inter,x_test_inter,y_test)"
   ]
  },
  {
   "cell_type": "code",
   "execution_count": 32,
   "metadata": {
    "collapsed": false
   },
   "outputs": [
    {
     "name": "stdout",
     "output_type": "stream",
     "text": [
      "Akurasi :\n",
      " 0.966666666667 \n",
      "\n",
      "precision :\n",
      " 0.952861952862 \n",
      "\n",
      "Recall :\n",
      " 0.889937106918 \n",
      "\n",
      "f1 score :\n",
      " 0.920325203252 \n",
      "\n",
      "Confusion Matrix :\n",
      " [[1138   14]\n",
      " [  35  283]] \n",
      "\n",
      "Classification Report :\n",
      "              precision    recall  f1-score   support\n",
      "\n",
      "          0       0.97      0.99      0.98      1152\n",
      "          1       0.95      0.89      0.92       318\n",
      "\n",
      "avg / total       0.97      0.97      0.97      1470\n",
      " \n",
      "\n"
     ]
    }
   ],
   "source": [
    "# pemodelan regresi logistik dengan polynomial\n",
    "logreg_poly3 = LogisticRegression()\n",
    "logreg_poly3.fit(x_train_poly3,y_train)\n",
    "eval(logreg_poly3,x_test_poly3,y_test)"
   ]
  },
  {
   "cell_type": "markdown",
   "metadata": {},
   "source": [
    "# Menampilkan Model Regresi Logistik Polynomial 3"
   ]
  },
  {
   "cell_type": "code",
   "execution_count": 33,
   "metadata": {
    "collapsed": false
   },
   "outputs": [
    {
     "data": {
      "text/html": [
       "<div>\n",
       "<table border=\"1\" class=\"dataframe\">\n",
       "  <thead>\n",
       "    <tr style=\"text-align: right;\">\n",
       "      <th></th>\n",
       "      <th>x0</th>\n",
       "      <th>x1</th>\n",
       "      <th>x0^2</th>\n",
       "      <th>x0 x1</th>\n",
       "      <th>x1^2</th>\n",
       "      <th>x0^3</th>\n",
       "      <th>x0^2 x1</th>\n",
       "      <th>x0 x1^2</th>\n",
       "      <th>x1^3</th>\n",
       "      <th>label</th>\n",
       "    </tr>\n",
       "  </thead>\n",
       "  <tbody>\n",
       "    <tr>\n",
       "      <th>0</th>\n",
       "      <td>1.0010</td>\n",
       "      <td>8.8</td>\n",
       "      <td>1.002001</td>\n",
       "      <td>8.80880</td>\n",
       "      <td>77.44</td>\n",
       "      <td>1.003003</td>\n",
       "      <td>8.817609</td>\n",
       "      <td>77.517440</td>\n",
       "      <td>681.472</td>\n",
       "      <td>0</td>\n",
       "    </tr>\n",
       "    <tr>\n",
       "      <th>1</th>\n",
       "      <td>0.9940</td>\n",
       "      <td>9.5</td>\n",
       "      <td>0.988036</td>\n",
       "      <td>9.44300</td>\n",
       "      <td>90.25</td>\n",
       "      <td>0.982108</td>\n",
       "      <td>9.386342</td>\n",
       "      <td>89.708500</td>\n",
       "      <td>857.375</td>\n",
       "      <td>0</td>\n",
       "    </tr>\n",
       "    <tr>\n",
       "      <th>2</th>\n",
       "      <td>0.9951</td>\n",
       "      <td>10.1</td>\n",
       "      <td>0.990224</td>\n",
       "      <td>10.05051</td>\n",
       "      <td>102.01</td>\n",
       "      <td>0.985372</td>\n",
       "      <td>10.001263</td>\n",
       "      <td>101.510151</td>\n",
       "      <td>1030.301</td>\n",
       "      <td>0</td>\n",
       "    </tr>\n",
       "    <tr>\n",
       "      <th>3</th>\n",
       "      <td>0.9956</td>\n",
       "      <td>9.9</td>\n",
       "      <td>0.991219</td>\n",
       "      <td>9.85644</td>\n",
       "      <td>98.01</td>\n",
       "      <td>0.986858</td>\n",
       "      <td>9.813072</td>\n",
       "      <td>97.578756</td>\n",
       "      <td>970.299</td>\n",
       "      <td>0</td>\n",
       "    </tr>\n",
       "    <tr>\n",
       "      <th>4</th>\n",
       "      <td>0.9956</td>\n",
       "      <td>9.9</td>\n",
       "      <td>0.991219</td>\n",
       "      <td>9.85644</td>\n",
       "      <td>98.01</td>\n",
       "      <td>0.986858</td>\n",
       "      <td>9.813072</td>\n",
       "      <td>97.578756</td>\n",
       "      <td>970.299</td>\n",
       "      <td>0</td>\n",
       "    </tr>\n",
       "  </tbody>\n",
       "</table>\n",
       "</div>"
      ],
      "text/plain": [
       "       x0    x1      x0^2     x0 x1    x1^2      x0^3    x0^2 x1     x0 x1^2  \\\n",
       "0  1.0010   8.8  1.002001   8.80880   77.44  1.003003   8.817609   77.517440   \n",
       "1  0.9940   9.5  0.988036   9.44300   90.25  0.982108   9.386342   89.708500   \n",
       "2  0.9951  10.1  0.990224  10.05051  102.01  0.985372  10.001263  101.510151   \n",
       "3  0.9956   9.9  0.991219   9.85644   98.01  0.986858   9.813072   97.578756   \n",
       "4  0.9956   9.9  0.991219   9.85644   98.01  0.986858   9.813072   97.578756   \n",
       "\n",
       "       x1^3  label  \n",
       "0   681.472      0  \n",
       "1   857.375      0  \n",
       "2  1030.301      0  \n",
       "3   970.299      0  \n",
       "4   970.299      0  "
      ]
     },
     "execution_count": 33,
     "metadata": {},
     "output_type": "execute_result"
    }
   ],
   "source": [
    "x_poly3['label']=wine['label']\n",
    "x_poly3.head()"
   ]
  },
  {
   "cell_type": "code",
   "execution_count": 34,
   "metadata": {
    "collapsed": false
   },
   "outputs": [
    {
     "data": {
      "text/plain": [
       "['x0', 'x1', 'x0^2', 'x0 x1', 'x1^2', 'x0^3', 'x0^2 x1', 'x0 x1^2', 'x1^3']"
      ]
     },
     "execution_count": 34,
     "metadata": {},
     "output_type": "execute_result"
    }
   ],
   "source": [
    "FITUR_POLY=list(x_poly3.columns[:9])\n",
    "FITUR_POLY"
   ]
  },
  {
   "cell_type": "code",
   "execution_count": 35,
   "metadata": {
    "collapsed": false
   },
   "outputs": [
    {
     "name": "stdout",
     "output_type": "stream",
     "text": [
      "Warning: Maximum number of iterations has been exceeded.\n",
      "         Current function value: 0.124397\n",
      "         Iterations: 35\n",
      "                           Logit Regression Results                           \n",
      "==============================================================================\n",
      "Dep. Variable:                  label   No. Observations:                 4898\n",
      "Model:                          Logit   Df Residuals:                     4889\n",
      "Method:                           MLE   Df Model:                            8\n",
      "Date:                Fri, 28 Dec 2018   Pseudo R-squ.:                  0.7618\n",
      "Time:                        17:22:34   Log-Likelihood:                -609.30\n",
      "converged:                      False   LL-Null:                       -2558.4\n",
      "                                        LLR p-value:                     0.000\n",
      "==============================================================================\n",
      "                 coef    std err          z      P>|z|      [95.0% Conf. Int.]\n",
      "------------------------------------------------------------------------------\n",
      "x0         -5.696e+04   7.64e+05     -0.075      0.941     -1.55e+06  1.44e+06\n",
      "x1           1.97e+04    7.1e+04      0.277      0.782      -1.2e+05  1.59e+05\n",
      "x0^2       -1935.7952    1.5e+06     -0.001      0.999     -2.94e+06  2.94e+06\n",
      "x0 x1      -1.746e+04   1.37e+05     -0.128      0.898     -2.85e+05   2.5e+05\n",
      "x1^2       -1060.5265    330.587     -3.208      0.001     -1708.465  -412.588\n",
      "x0^3        5.703e+04   7.38e+05      0.077      0.938     -1.39e+06   1.5e+06\n",
      "x0^2 x1    -1691.2778   6.56e+04     -0.026      0.979      -1.3e+05  1.27e+05\n",
      "x0 x1^2     1007.6876    319.587      3.153      0.002       381.309  1634.066\n",
      "x1^3           1.7334      0.404      4.293      0.000         0.942     2.525\n",
      "==============================================================================\n",
      "\n",
      "Possibly complete quasi-separation: A fraction 0.39 of observations can be\n",
      "perfectly predicted. This might indicate that there is complete\n",
      "quasi-separation. In this case some parameters will not be identified.\n"
     ]
    },
    {
     "name": "stderr",
     "output_type": "stream",
     "text": [
      "C:\\Users\\Muy\\Anaconda3\\lib\\site-packages\\statsmodels\\base\\model.py:466: ConvergenceWarning: Maximum Likelihood optimization failed to converge. Check mle_retvals\n",
      "  \"Check mle_retvals\", ConvergenceWarning)\n"
     ]
    }
   ],
   "source": [
    "# library untuk membangun regresi logistik\n",
    "import statsmodels.api as sm\n",
    "\n",
    "# membangun model regresi logistik\n",
    "logit_model_poly3 = sm.Logit(x_poly3['label'],x_poly3[FITUR_POLY])\n",
    "result_poly3 = logit_model_poly3.fit()\n",
    "\n",
    "# menampilkan model regresi logistik\n",
    "print(result_poly3.summary())"
   ]
  },
  {
   "cell_type": "markdown",
   "metadata": {},
   "source": [
    "__________"
   ]
  },
  {
   "cell_type": "markdown",
   "metadata": {},
   "source": [
    "# MENYIMPAN MODEL"
   ]
  },
  {
   "cell_type": "markdown",
   "metadata": {},
   "source": [
    "_______________"
   ]
  },
  {
   "cell_type": "code",
   "execution_count": 36,
   "metadata": {
    "collapsed": true
   },
   "outputs": [],
   "source": [
    "# library untuk menyimpan dan memuat model\n",
    "import pickle"
   ]
  },
  {
   "cell_type": "code",
   "execution_count": 37,
   "metadata": {
    "collapsed": true
   },
   "outputs": [],
   "source": [
    "#menyimpan model\n",
    "filename = 'Model Regresi Logistik Polynomial 3.sav'\n",
    "pickle.dump(logreg_poly3, open(filename, 'wb'))"
   ]
  },
  {
   "cell_type": "code",
   "execution_count": 38,
   "metadata": {
    "collapsed": true
   },
   "outputs": [],
   "source": [
    "# memuat model\n",
    "loaded_model = pickle.load(open(filename, 'rb'))"
   ]
  },
  {
   "cell_type": "code",
   "execution_count": 39,
   "metadata": {
    "collapsed": false
   },
   "outputs": [
    {
     "name": "stdout",
     "output_type": "stream",
     "text": [
      "Akurasi :\n",
      " 0.966666666667 \n",
      "\n",
      "precision :\n",
      " 0.952861952862 \n",
      "\n",
      "Recall :\n",
      " 0.889937106918 \n",
      "\n",
      "f1 score :\n",
      " 0.920325203252 \n",
      "\n",
      "Confusion Matrix :\n",
      " [[1138   14]\n",
      " [  35  283]] \n",
      "\n",
      "Classification Report :\n",
      "              precision    recall  f1-score   support\n",
      "\n",
      "          0       0.97      0.99      0.98      1152\n",
      "          1       0.95      0.89      0.92       318\n",
      "\n",
      "avg / total       0.97      0.97      0.97      1470\n",
      " \n",
      "\n"
     ]
    }
   ],
   "source": [
    "# menampilan beberapa ukuran prediksi dari model yang telah dimuat \n",
    "eval(loaded_model,x_test_poly3,y_test)"
   ]
  }
 ],
 "metadata": {
  "kernelspec": {
   "display_name": "Python 3",
   "language": "python",
   "name": "python3"
  },
  "language_info": {
   "codemirror_mode": {
    "name": "ipython",
    "version": 3
   },
   "file_extension": ".py",
   "mimetype": "text/x-python",
   "name": "python",
   "nbconvert_exporter": "python",
   "pygments_lexer": "ipython3",
   "version": "3.6.0"
  }
 },
 "nbformat": 4,
 "nbformat_minor": 2
}
