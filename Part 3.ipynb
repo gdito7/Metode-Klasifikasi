{
 "cells": [
  {
   "cell_type": "markdown",
   "metadata": {},
   "source": [
    "# Outline\n",
    "1. import data\n",
    "2. Pembuatan Peubah Dummy\n",
    "3. Pembagian data (training testing)\n",
    "4. Modeling\n",
    "5. Prediksi Data Test"
   ]
  },
  {
   "cell_type": "markdown",
   "metadata": {},
   "source": [
    "## 1. Import Data"
   ]
  },
  {
   "cell_type": "code",
   "execution_count": 105,
   "metadata": {
    "collapsed": true
   },
   "outputs": [],
   "source": [
    "import pandas as pd\n",
    "import numpy as np"
   ]
  },
  {
   "cell_type": "code",
   "execution_count": 106,
   "metadata": {
    "collapsed": true
   },
   "outputs": [],
   "source": [
    "datatree_label = pd.read_csv('datatree_label.csv')\n",
    "datatree_nolabel = pd.read_csv('datatree_nolabel.csv') "
   ]
  },
  {
   "cell_type": "code",
   "execution_count": 107,
   "metadata": {
    "collapsed": false
   },
   "outputs": [
    {
     "data": {
      "text/html": [
       "<div>\n",
       "<table border=\"1\" class=\"dataframe\">\n",
       "  <thead>\n",
       "    <tr style=\"text-align: right;\">\n",
       "      <th></th>\n",
       "      <th>ID Nasabah</th>\n",
       "      <th>Jenis Kelamin</th>\n",
       "      <th>Single</th>\n",
       "      <th>Tinggal di Kota</th>\n",
       "      <th>usia</th>\n",
       "      <th>Perokok</th>\n",
       "      <th>Budget</th>\n",
       "      <th>Kesukaan</th>\n",
       "      <th>Tertarik Beli?</th>\n",
       "    </tr>\n",
       "  </thead>\n",
       "  <tbody>\n",
       "    <tr>\n",
       "      <th>0</th>\n",
       "      <td>609</td>\n",
       "      <td>1</td>\n",
       "      <td>1</td>\n",
       "      <td>0</td>\n",
       "      <td>39</td>\n",
       "      <td>0</td>\n",
       "      <td>medium</td>\n",
       "      <td>Tekno</td>\n",
       "      <td>1</td>\n",
       "    </tr>\n",
       "    <tr>\n",
       "      <th>1</th>\n",
       "      <td>424</td>\n",
       "      <td>1</td>\n",
       "      <td>1</td>\n",
       "      <td>0</td>\n",
       "      <td>39</td>\n",
       "      <td>0</td>\n",
       "      <td>medium</td>\n",
       "      <td>Tekno</td>\n",
       "      <td>1</td>\n",
       "    </tr>\n",
       "    <tr>\n",
       "      <th>2</th>\n",
       "      <td>983</td>\n",
       "      <td>0</td>\n",
       "      <td>1</td>\n",
       "      <td>1</td>\n",
       "      <td>39</td>\n",
       "      <td>0</td>\n",
       "      <td>low</td>\n",
       "      <td>Seni</td>\n",
       "      <td>0</td>\n",
       "    </tr>\n",
       "    <tr>\n",
       "      <th>3</th>\n",
       "      <td>520</td>\n",
       "      <td>1</td>\n",
       "      <td>1</td>\n",
       "      <td>0</td>\n",
       "      <td>32</td>\n",
       "      <td>1</td>\n",
       "      <td>low</td>\n",
       "      <td>Seni</td>\n",
       "      <td>1</td>\n",
       "    </tr>\n",
       "    <tr>\n",
       "      <th>4</th>\n",
       "      <td>868</td>\n",
       "      <td>1</td>\n",
       "      <td>1</td>\n",
       "      <td>0</td>\n",
       "      <td>38</td>\n",
       "      <td>0</td>\n",
       "      <td>low</td>\n",
       "      <td>Tekno</td>\n",
       "      <td>0</td>\n",
       "    </tr>\n",
       "  </tbody>\n",
       "</table>\n",
       "</div>"
      ],
      "text/plain": [
       "   ID Nasabah  Jenis Kelamin  Single  Tinggal di Kota  usia  Perokok  Budget  \\\n",
       "0         609              1       1                0    39        0  medium   \n",
       "1         424              1       1                0    39        0  medium   \n",
       "2         983              0       1                1    39        0     low   \n",
       "3         520              1       1                0    32        1     low   \n",
       "4         868              1       1                0    38        0     low   \n",
       "\n",
       "  Kesukaan  Tertarik Beli?  \n",
       "0    Tekno               1  \n",
       "1    Tekno               1  \n",
       "2     Seni               0  \n",
       "3     Seni               1  \n",
       "4    Tekno               0  "
      ]
     },
     "execution_count": 107,
     "metadata": {},
     "output_type": "execute_result"
    }
   ],
   "source": [
    "datatree_label.head()"
   ]
  },
  {
   "cell_type": "code",
   "execution_count": 108,
   "metadata": {
    "collapsed": false
   },
   "outputs": [
    {
     "data": {
      "text/html": [
       "<div>\n",
       "<table border=\"1\" class=\"dataframe\">\n",
       "  <thead>\n",
       "    <tr style=\"text-align: right;\">\n",
       "      <th></th>\n",
       "      <th>ID Nasabah</th>\n",
       "      <th>Jenis Kelamin</th>\n",
       "      <th>Single</th>\n",
       "      <th>Tinggal di Kota</th>\n",
       "      <th>usia</th>\n",
       "      <th>Perokok</th>\n",
       "      <th>Budget</th>\n",
       "      <th>Kesukaan</th>\n",
       "    </tr>\n",
       "  </thead>\n",
       "  <tbody>\n",
       "    <tr>\n",
       "      <th>0</th>\n",
       "      <td>436</td>\n",
       "      <td>1</td>\n",
       "      <td>1</td>\n",
       "      <td>1</td>\n",
       "      <td>34</td>\n",
       "      <td>0</td>\n",
       "      <td>medium</td>\n",
       "      <td>Busana</td>\n",
       "    </tr>\n",
       "    <tr>\n",
       "      <th>1</th>\n",
       "      <td>403</td>\n",
       "      <td>0</td>\n",
       "      <td>1</td>\n",
       "      <td>0</td>\n",
       "      <td>33</td>\n",
       "      <td>0</td>\n",
       "      <td>low</td>\n",
       "      <td>Tekno</td>\n",
       "    </tr>\n",
       "    <tr>\n",
       "      <th>2</th>\n",
       "      <td>119</td>\n",
       "      <td>0</td>\n",
       "      <td>1</td>\n",
       "      <td>0</td>\n",
       "      <td>38</td>\n",
       "      <td>1</td>\n",
       "      <td>low</td>\n",
       "      <td>Tekno</td>\n",
       "    </tr>\n",
       "    <tr>\n",
       "      <th>3</th>\n",
       "      <td>565</td>\n",
       "      <td>1</td>\n",
       "      <td>1</td>\n",
       "      <td>1</td>\n",
       "      <td>32</td>\n",
       "      <td>0</td>\n",
       "      <td>medium</td>\n",
       "      <td>Seni</td>\n",
       "    </tr>\n",
       "    <tr>\n",
       "      <th>4</th>\n",
       "      <td>281</td>\n",
       "      <td>0</td>\n",
       "      <td>0</td>\n",
       "      <td>0</td>\n",
       "      <td>29</td>\n",
       "      <td>0</td>\n",
       "      <td>low</td>\n",
       "      <td>Tekno</td>\n",
       "    </tr>\n",
       "  </tbody>\n",
       "</table>\n",
       "</div>"
      ],
      "text/plain": [
       "   ID Nasabah  Jenis Kelamin  Single  Tinggal di Kota  usia  Perokok  Budget  \\\n",
       "0         436              1       1                1    34        0  medium   \n",
       "1         403              0       1                0    33        0     low   \n",
       "2         119              0       1                0    38        1     low   \n",
       "3         565              1       1                1    32        0  medium   \n",
       "4         281              0       0                0    29        0     low   \n",
       "\n",
       "  Kesukaan  \n",
       "0   Busana  \n",
       "1    Tekno  \n",
       "2    Tekno  \n",
       "3     Seni  \n",
       "4    Tekno  "
      ]
     },
     "execution_count": 108,
     "metadata": {},
     "output_type": "execute_result"
    }
   ],
   "source": [
    "datatree_nolabel.head()"
   ]
  },
  {
   "cell_type": "markdown",
   "metadata": {},
   "source": [
    "## 2. Pembuatan Pubah dummy"
   ]
  },
  {
   "cell_type": "markdown",
   "metadata": {},
   "source": [
    "samakan struktur"
   ]
  },
  {
   "cell_type": "code",
   "execution_count": 109,
   "metadata": {
    "collapsed": false
   },
   "outputs": [],
   "source": [
    "datatree_nolabel['Tertarik Beli?'] = 9999"
   ]
  },
  {
   "cell_type": "code",
   "execution_count": 110,
   "metadata": {
    "collapsed": false
   },
   "outputs": [
    {
     "data": {
      "text/html": [
       "<div>\n",
       "<table border=\"1\" class=\"dataframe\">\n",
       "  <thead>\n",
       "    <tr style=\"text-align: right;\">\n",
       "      <th></th>\n",
       "      <th>ID Nasabah</th>\n",
       "      <th>Jenis Kelamin</th>\n",
       "      <th>Single</th>\n",
       "      <th>Tinggal di Kota</th>\n",
       "      <th>usia</th>\n",
       "      <th>Perokok</th>\n",
       "      <th>Budget</th>\n",
       "      <th>Kesukaan</th>\n",
       "      <th>Tertarik Beli?</th>\n",
       "    </tr>\n",
       "  </thead>\n",
       "  <tbody>\n",
       "    <tr>\n",
       "      <th>0</th>\n",
       "      <td>436</td>\n",
       "      <td>1</td>\n",
       "      <td>1</td>\n",
       "      <td>1</td>\n",
       "      <td>34</td>\n",
       "      <td>0</td>\n",
       "      <td>medium</td>\n",
       "      <td>Busana</td>\n",
       "      <td>9999</td>\n",
       "    </tr>\n",
       "    <tr>\n",
       "      <th>1</th>\n",
       "      <td>403</td>\n",
       "      <td>0</td>\n",
       "      <td>1</td>\n",
       "      <td>0</td>\n",
       "      <td>33</td>\n",
       "      <td>0</td>\n",
       "      <td>low</td>\n",
       "      <td>Tekno</td>\n",
       "      <td>9999</td>\n",
       "    </tr>\n",
       "    <tr>\n",
       "      <th>2</th>\n",
       "      <td>119</td>\n",
       "      <td>0</td>\n",
       "      <td>1</td>\n",
       "      <td>0</td>\n",
       "      <td>38</td>\n",
       "      <td>1</td>\n",
       "      <td>low</td>\n",
       "      <td>Tekno</td>\n",
       "      <td>9999</td>\n",
       "    </tr>\n",
       "    <tr>\n",
       "      <th>3</th>\n",
       "      <td>565</td>\n",
       "      <td>1</td>\n",
       "      <td>1</td>\n",
       "      <td>1</td>\n",
       "      <td>32</td>\n",
       "      <td>0</td>\n",
       "      <td>medium</td>\n",
       "      <td>Seni</td>\n",
       "      <td>9999</td>\n",
       "    </tr>\n",
       "    <tr>\n",
       "      <th>4</th>\n",
       "      <td>281</td>\n",
       "      <td>0</td>\n",
       "      <td>0</td>\n",
       "      <td>0</td>\n",
       "      <td>29</td>\n",
       "      <td>0</td>\n",
       "      <td>low</td>\n",
       "      <td>Tekno</td>\n",
       "      <td>9999</td>\n",
       "    </tr>\n",
       "  </tbody>\n",
       "</table>\n",
       "</div>"
      ],
      "text/plain": [
       "   ID Nasabah  Jenis Kelamin  Single  Tinggal di Kota  usia  Perokok  Budget  \\\n",
       "0         436              1       1                1    34        0  medium   \n",
       "1         403              0       1                0    33        0     low   \n",
       "2         119              0       1                0    38        1     low   \n",
       "3         565              1       1                1    32        0  medium   \n",
       "4         281              0       0                0    29        0     low   \n",
       "\n",
       "  Kesukaan  Tertarik Beli?  \n",
       "0   Busana            9999  \n",
       "1    Tekno            9999  \n",
       "2    Tekno            9999  \n",
       "3     Seni            9999  \n",
       "4    Tekno            9999  "
      ]
     },
     "execution_count": 110,
     "metadata": {},
     "output_type": "execute_result"
    }
   ],
   "source": [
    "datatree_nolabel.head()"
   ]
  },
  {
   "cell_type": "markdown",
   "metadata": {},
   "source": [
    "gabungkan kedua data"
   ]
  },
  {
   "cell_type": "code",
   "execution_count": 111,
   "metadata": {
    "collapsed": true
   },
   "outputs": [],
   "source": [
    "datatree = datatree_label.append(datatree_nolabel)"
   ]
  },
  {
   "cell_type": "code",
   "execution_count": 112,
   "metadata": {
    "collapsed": false
   },
   "outputs": [
    {
     "data": {
      "text/html": [
       "<div>\n",
       "<table border=\"1\" class=\"dataframe\">\n",
       "  <thead>\n",
       "    <tr style=\"text-align: right;\">\n",
       "      <th></th>\n",
       "      <th>ID Nasabah</th>\n",
       "      <th>Jenis Kelamin</th>\n",
       "      <th>Single</th>\n",
       "      <th>Tinggal di Kota</th>\n",
       "      <th>usia</th>\n",
       "      <th>Perokok</th>\n",
       "      <th>Budget</th>\n",
       "      <th>Kesukaan</th>\n",
       "      <th>Tertarik Beli?</th>\n",
       "    </tr>\n",
       "  </thead>\n",
       "  <tbody>\n",
       "    <tr>\n",
       "      <th>104</th>\n",
       "      <td>960</td>\n",
       "      <td>0</td>\n",
       "      <td>1</td>\n",
       "      <td>1</td>\n",
       "      <td>28</td>\n",
       "      <td>0</td>\n",
       "      <td>medium</td>\n",
       "      <td>Busana</td>\n",
       "      <td>9999</td>\n",
       "    </tr>\n",
       "    <tr>\n",
       "      <th>105</th>\n",
       "      <td>501</td>\n",
       "      <td>1</td>\n",
       "      <td>1</td>\n",
       "      <td>0</td>\n",
       "      <td>39</td>\n",
       "      <td>0</td>\n",
       "      <td>low</td>\n",
       "      <td>Lainnya</td>\n",
       "      <td>9999</td>\n",
       "    </tr>\n",
       "    <tr>\n",
       "      <th>106</th>\n",
       "      <td>231</td>\n",
       "      <td>0</td>\n",
       "      <td>1</td>\n",
       "      <td>0</td>\n",
       "      <td>34</td>\n",
       "      <td>0</td>\n",
       "      <td>high</td>\n",
       "      <td>Seni</td>\n",
       "      <td>9999</td>\n",
       "    </tr>\n",
       "    <tr>\n",
       "      <th>107</th>\n",
       "      <td>292</td>\n",
       "      <td>1</td>\n",
       "      <td>1</td>\n",
       "      <td>0</td>\n",
       "      <td>35</td>\n",
       "      <td>0</td>\n",
       "      <td>medium</td>\n",
       "      <td>Tekno</td>\n",
       "      <td>9999</td>\n",
       "    </tr>\n",
       "    <tr>\n",
       "      <th>108</th>\n",
       "      <td>481</td>\n",
       "      <td>1</td>\n",
       "      <td>1</td>\n",
       "      <td>0</td>\n",
       "      <td>37</td>\n",
       "      <td>0</td>\n",
       "      <td>low</td>\n",
       "      <td>Seni</td>\n",
       "      <td>9999</td>\n",
       "    </tr>\n",
       "  </tbody>\n",
       "</table>\n",
       "</div>"
      ],
      "text/plain": [
       "     ID Nasabah  Jenis Kelamin  Single  Tinggal di Kota  usia  Perokok  \\\n",
       "104         960              0       1                1    28        0   \n",
       "105         501              1       1                0    39        0   \n",
       "106         231              0       1                0    34        0   \n",
       "107         292              1       1                0    35        0   \n",
       "108         481              1       1                0    37        0   \n",
       "\n",
       "     Budget Kesukaan  Tertarik Beli?  \n",
       "104  medium   Busana            9999  \n",
       "105     low  Lainnya            9999  \n",
       "106    high     Seni            9999  \n",
       "107  medium    Tekno            9999  \n",
       "108     low     Seni            9999  "
      ]
     },
     "execution_count": 112,
     "metadata": {},
     "output_type": "execute_result"
    }
   ],
   "source": [
    "datatree.tail()"
   ]
  },
  {
   "cell_type": "markdown",
   "metadata": {},
   "source": [
    "pendefinisian data"
   ]
  },
  {
   "cell_type": "code",
   "execution_count": 113,
   "metadata": {
    "collapsed": true
   },
   "outputs": [],
   "source": [
    "## definisikan nilai-nilai pada peubah\n",
    "datatree['Jenis Kelamin'] = datatree['Jenis Kelamin'].map({1:'Laki-Laki',\n",
    "                                                           0:'Perempuan'})\n",
    "datatree['Single'] = datatree['Single'].map({1:'Single',\n",
    "                                             0:'Tidak Single'})\n",
    "datatree['Tinggal di Kota'] = datatree['Tinggal di Kota'].map({1:'Tinggal di kota',\n",
    "                                                               0:'Tinggal di pedesaan'})\n",
    "datatree['Perokok'] = datatree['Perokok'].map({1:'Perokok',\n",
    "                                               0:'Bukan Perokok'})"
   ]
  },
  {
   "cell_type": "code",
   "execution_count": 114,
   "metadata": {
    "collapsed": false
   },
   "outputs": [
    {
     "data": {
      "text/html": [
       "<div>\n",
       "<table border=\"1\" class=\"dataframe\">\n",
       "  <thead>\n",
       "    <tr style=\"text-align: right;\">\n",
       "      <th></th>\n",
       "      <th>ID Nasabah</th>\n",
       "      <th>Jenis Kelamin</th>\n",
       "      <th>Single</th>\n",
       "      <th>Tinggal di Kota</th>\n",
       "      <th>usia</th>\n",
       "      <th>Perokok</th>\n",
       "      <th>Budget</th>\n",
       "      <th>Kesukaan</th>\n",
       "      <th>Tertarik Beli?</th>\n",
       "    </tr>\n",
       "  </thead>\n",
       "  <tbody>\n",
       "    <tr>\n",
       "      <th>0</th>\n",
       "      <td>609</td>\n",
       "      <td>Laki-Laki</td>\n",
       "      <td>Single</td>\n",
       "      <td>Tinggal di pedesaan</td>\n",
       "      <td>39</td>\n",
       "      <td>Bukan Perokok</td>\n",
       "      <td>medium</td>\n",
       "      <td>Tekno</td>\n",
       "      <td>1</td>\n",
       "    </tr>\n",
       "    <tr>\n",
       "      <th>1</th>\n",
       "      <td>424</td>\n",
       "      <td>Laki-Laki</td>\n",
       "      <td>Single</td>\n",
       "      <td>Tinggal di pedesaan</td>\n",
       "      <td>39</td>\n",
       "      <td>Bukan Perokok</td>\n",
       "      <td>medium</td>\n",
       "      <td>Tekno</td>\n",
       "      <td>1</td>\n",
       "    </tr>\n",
       "    <tr>\n",
       "      <th>2</th>\n",
       "      <td>983</td>\n",
       "      <td>Perempuan</td>\n",
       "      <td>Single</td>\n",
       "      <td>Tinggal di kota</td>\n",
       "      <td>39</td>\n",
       "      <td>Bukan Perokok</td>\n",
       "      <td>low</td>\n",
       "      <td>Seni</td>\n",
       "      <td>0</td>\n",
       "    </tr>\n",
       "    <tr>\n",
       "      <th>3</th>\n",
       "      <td>520</td>\n",
       "      <td>Laki-Laki</td>\n",
       "      <td>Single</td>\n",
       "      <td>Tinggal di pedesaan</td>\n",
       "      <td>32</td>\n",
       "      <td>Perokok</td>\n",
       "      <td>low</td>\n",
       "      <td>Seni</td>\n",
       "      <td>1</td>\n",
       "    </tr>\n",
       "    <tr>\n",
       "      <th>4</th>\n",
       "      <td>868</td>\n",
       "      <td>Laki-Laki</td>\n",
       "      <td>Single</td>\n",
       "      <td>Tinggal di pedesaan</td>\n",
       "      <td>38</td>\n",
       "      <td>Bukan Perokok</td>\n",
       "      <td>low</td>\n",
       "      <td>Tekno</td>\n",
       "      <td>0</td>\n",
       "    </tr>\n",
       "  </tbody>\n",
       "</table>\n",
       "</div>"
      ],
      "text/plain": [
       "   ID Nasabah Jenis Kelamin  Single      Tinggal di Kota  usia        Perokok  \\\n",
       "0         609     Laki-Laki  Single  Tinggal di pedesaan    39  Bukan Perokok   \n",
       "1         424     Laki-Laki  Single  Tinggal di pedesaan    39  Bukan Perokok   \n",
       "2         983     Perempuan  Single      Tinggal di kota    39  Bukan Perokok   \n",
       "3         520     Laki-Laki  Single  Tinggal di pedesaan    32        Perokok   \n",
       "4         868     Laki-Laki  Single  Tinggal di pedesaan    38  Bukan Perokok   \n",
       "\n",
       "   Budget Kesukaan  Tertarik Beli?  \n",
       "0  medium    Tekno               1  \n",
       "1  medium    Tekno               1  \n",
       "2     low     Seni               0  \n",
       "3     low     Seni               1  \n",
       "4     low    Tekno               0  "
      ]
     },
     "execution_count": 114,
     "metadata": {},
     "output_type": "execute_result"
    }
   ],
   "source": [
    "datatree.head()"
   ]
  },
  {
   "cell_type": "markdown",
   "metadata": {},
   "source": [
    "pembuatan dummy"
   ]
  },
  {
   "cell_type": "code",
   "execution_count": 115,
   "metadata": {
    "collapsed": false
   },
   "outputs": [
    {
     "name": "stdout",
     "output_type": "stream",
     "text": [
      "peubah awal:\n",
      " ['ID Nasabah', 'Jenis Kelamin', 'Single', 'Tinggal di Kota', 'usia', 'Perokok', 'Budget', 'Kesukaan', 'Tertarik Beli?'] \n",
      "\n"
     ]
    }
   ],
   "source": [
    "print(\"peubah awal:\\n\", list(datatree),\"\\n\")"
   ]
  },
  {
   "cell_type": "code",
   "execution_count": 116,
   "metadata": {
    "collapsed": false
   },
   "outputs": [
    {
     "data": {
      "text/plain": [
       "['Jenis Kelamin', 'Single', 'Tinggal di Kota', 'Perokok', 'Budget', 'Kesukaan']"
      ]
     },
     "execution_count": 116,
     "metadata": {},
     "output_type": "execute_result"
    }
   ],
   "source": [
    "peubah = list(datatree)[1:4]+list(datatree)[5:8]\n",
    "peubah"
   ]
  },
  {
   "cell_type": "code",
   "execution_count": 117,
   "metadata": {
    "collapsed": false
   },
   "outputs": [
    {
     "name": "stdout",
     "output_type": "stream",
     "text": [
      "peubah setelah dummy dibuat:\n",
      " ['ID Nasabah', 'usia', 'Tertarik Beli?', 'Jenis Kelamin_Perempuan', 'Single_Tidak Single', 'Tinggal di Kota_Tinggal di pedesaan', 'Perokok_Perokok', 'Budget_low', 'Budget_medium', 'Kesukaan_Lainnya', 'Kesukaan_Seni', 'Kesukaan_Tekno'] \n",
      "\n"
     ]
    }
   ],
   "source": [
    "# pembuatan peubah boneka secara otomatis untuk semua peubah kategorik\n",
    "datatree_dummies = pd.get_dummies(datatree,drop_first=True,columns=peubah)\n",
    "print(\"peubah setelah dummy dibuat:\\n\", list(datatree_dummies),\"\\n\")"
   ]
  },
  {
   "cell_type": "markdown",
   "metadata": {},
   "source": [
    "pemisahan kembali"
   ]
  },
  {
   "cell_type": "code",
   "execution_count": 145,
   "metadata": {
    "collapsed": false
   },
   "outputs": [],
   "source": [
    "datatree_label = datatree_dummies[datatree_dummies['Tertarik Beli?'] != 9999]\n",
    "datatree_nolabel = datatree_dummies[datatree_dummies['Tertarik Beli?'] == 9999]"
   ]
  },
  {
   "cell_type": "code",
   "execution_count": 146,
   "metadata": {
    "collapsed": false
   },
   "outputs": [
    {
     "data": {
      "text/html": [
       "<div>\n",
       "<table border=\"1\" class=\"dataframe\">\n",
       "  <thead>\n",
       "    <tr style=\"text-align: right;\">\n",
       "      <th></th>\n",
       "      <th>ID Nasabah</th>\n",
       "      <th>usia</th>\n",
       "      <th>Tertarik Beli?</th>\n",
       "      <th>Jenis Kelamin_Perempuan</th>\n",
       "      <th>Single_Tidak Single</th>\n",
       "      <th>Tinggal di Kota_Tinggal di pedesaan</th>\n",
       "      <th>Perokok_Perokok</th>\n",
       "      <th>Budget_low</th>\n",
       "      <th>Budget_medium</th>\n",
       "      <th>Kesukaan_Lainnya</th>\n",
       "      <th>Kesukaan_Seni</th>\n",
       "      <th>Kesukaan_Tekno</th>\n",
       "    </tr>\n",
       "  </thead>\n",
       "  <tbody>\n",
       "    <tr>\n",
       "      <th>0</th>\n",
       "      <td>609</td>\n",
       "      <td>39</td>\n",
       "      <td>1</td>\n",
       "      <td>0</td>\n",
       "      <td>0</td>\n",
       "      <td>1</td>\n",
       "      <td>0</td>\n",
       "      <td>0</td>\n",
       "      <td>1</td>\n",
       "      <td>0</td>\n",
       "      <td>0</td>\n",
       "      <td>1</td>\n",
       "    </tr>\n",
       "    <tr>\n",
       "      <th>1</th>\n",
       "      <td>424</td>\n",
       "      <td>39</td>\n",
       "      <td>1</td>\n",
       "      <td>0</td>\n",
       "      <td>0</td>\n",
       "      <td>1</td>\n",
       "      <td>0</td>\n",
       "      <td>0</td>\n",
       "      <td>1</td>\n",
       "      <td>0</td>\n",
       "      <td>0</td>\n",
       "      <td>1</td>\n",
       "    </tr>\n",
       "    <tr>\n",
       "      <th>2</th>\n",
       "      <td>983</td>\n",
       "      <td>39</td>\n",
       "      <td>0</td>\n",
       "      <td>1</td>\n",
       "      <td>0</td>\n",
       "      <td>0</td>\n",
       "      <td>0</td>\n",
       "      <td>1</td>\n",
       "      <td>0</td>\n",
       "      <td>0</td>\n",
       "      <td>1</td>\n",
       "      <td>0</td>\n",
       "    </tr>\n",
       "    <tr>\n",
       "      <th>3</th>\n",
       "      <td>520</td>\n",
       "      <td>32</td>\n",
       "      <td>1</td>\n",
       "      <td>0</td>\n",
       "      <td>0</td>\n",
       "      <td>1</td>\n",
       "      <td>1</td>\n",
       "      <td>1</td>\n",
       "      <td>0</td>\n",
       "      <td>0</td>\n",
       "      <td>1</td>\n",
       "      <td>0</td>\n",
       "    </tr>\n",
       "    <tr>\n",
       "      <th>4</th>\n",
       "      <td>868</td>\n",
       "      <td>38</td>\n",
       "      <td>0</td>\n",
       "      <td>0</td>\n",
       "      <td>0</td>\n",
       "      <td>1</td>\n",
       "      <td>0</td>\n",
       "      <td>1</td>\n",
       "      <td>0</td>\n",
       "      <td>0</td>\n",
       "      <td>0</td>\n",
       "      <td>1</td>\n",
       "    </tr>\n",
       "  </tbody>\n",
       "</table>\n",
       "</div>"
      ],
      "text/plain": [
       "   ID Nasabah  usia  Tertarik Beli?  Jenis Kelamin_Perempuan  \\\n",
       "0         609    39               1                        0   \n",
       "1         424    39               1                        0   \n",
       "2         983    39               0                        1   \n",
       "3         520    32               1                        0   \n",
       "4         868    38               0                        0   \n",
       "\n",
       "   Single_Tidak Single  Tinggal di Kota_Tinggal di pedesaan  Perokok_Perokok  \\\n",
       "0                    0                                    1                0   \n",
       "1                    0                                    1                0   \n",
       "2                    0                                    0                0   \n",
       "3                    0                                    1                1   \n",
       "4                    0                                    1                0   \n",
       "\n",
       "   Budget_low  Budget_medium  Kesukaan_Lainnya  Kesukaan_Seni  Kesukaan_Tekno  \n",
       "0           0              1                 0              0               1  \n",
       "1           0              1                 0              0               1  \n",
       "2           1              0                 0              1               0  \n",
       "3           1              0                 0              1               0  \n",
       "4           1              0                 0              0               1  "
      ]
     },
     "execution_count": 146,
     "metadata": {},
     "output_type": "execute_result"
    }
   ],
   "source": [
    "datatree_label.head()"
   ]
  },
  {
   "cell_type": "code",
   "execution_count": 147,
   "metadata": {
    "collapsed": false
   },
   "outputs": [
    {
     "data": {
      "text/html": [
       "<div>\n",
       "<table border=\"1\" class=\"dataframe\">\n",
       "  <thead>\n",
       "    <tr style=\"text-align: right;\">\n",
       "      <th></th>\n",
       "      <th>ID Nasabah</th>\n",
       "      <th>usia</th>\n",
       "      <th>Tertarik Beli?</th>\n",
       "      <th>Jenis Kelamin_Perempuan</th>\n",
       "      <th>Single_Tidak Single</th>\n",
       "      <th>Tinggal di Kota_Tinggal di pedesaan</th>\n",
       "      <th>Perokok_Perokok</th>\n",
       "      <th>Budget_low</th>\n",
       "      <th>Budget_medium</th>\n",
       "      <th>Kesukaan_Lainnya</th>\n",
       "      <th>Kesukaan_Seni</th>\n",
       "      <th>Kesukaan_Tekno</th>\n",
       "    </tr>\n",
       "  </thead>\n",
       "  <tbody>\n",
       "    <tr>\n",
       "      <th>0</th>\n",
       "      <td>436</td>\n",
       "      <td>34</td>\n",
       "      <td>9999</td>\n",
       "      <td>0</td>\n",
       "      <td>0</td>\n",
       "      <td>0</td>\n",
       "      <td>0</td>\n",
       "      <td>0</td>\n",
       "      <td>1</td>\n",
       "      <td>0</td>\n",
       "      <td>0</td>\n",
       "      <td>0</td>\n",
       "    </tr>\n",
       "    <tr>\n",
       "      <th>1</th>\n",
       "      <td>403</td>\n",
       "      <td>33</td>\n",
       "      <td>9999</td>\n",
       "      <td>1</td>\n",
       "      <td>0</td>\n",
       "      <td>1</td>\n",
       "      <td>0</td>\n",
       "      <td>1</td>\n",
       "      <td>0</td>\n",
       "      <td>0</td>\n",
       "      <td>0</td>\n",
       "      <td>1</td>\n",
       "    </tr>\n",
       "    <tr>\n",
       "      <th>2</th>\n",
       "      <td>119</td>\n",
       "      <td>38</td>\n",
       "      <td>9999</td>\n",
       "      <td>1</td>\n",
       "      <td>0</td>\n",
       "      <td>1</td>\n",
       "      <td>1</td>\n",
       "      <td>1</td>\n",
       "      <td>0</td>\n",
       "      <td>0</td>\n",
       "      <td>0</td>\n",
       "      <td>1</td>\n",
       "    </tr>\n",
       "    <tr>\n",
       "      <th>3</th>\n",
       "      <td>565</td>\n",
       "      <td>32</td>\n",
       "      <td>9999</td>\n",
       "      <td>0</td>\n",
       "      <td>0</td>\n",
       "      <td>0</td>\n",
       "      <td>0</td>\n",
       "      <td>0</td>\n",
       "      <td>1</td>\n",
       "      <td>0</td>\n",
       "      <td>1</td>\n",
       "      <td>0</td>\n",
       "    </tr>\n",
       "    <tr>\n",
       "      <th>4</th>\n",
       "      <td>281</td>\n",
       "      <td>29</td>\n",
       "      <td>9999</td>\n",
       "      <td>1</td>\n",
       "      <td>1</td>\n",
       "      <td>1</td>\n",
       "      <td>0</td>\n",
       "      <td>1</td>\n",
       "      <td>0</td>\n",
       "      <td>0</td>\n",
       "      <td>0</td>\n",
       "      <td>1</td>\n",
       "    </tr>\n",
       "  </tbody>\n",
       "</table>\n",
       "</div>"
      ],
      "text/plain": [
       "   ID Nasabah  usia  Tertarik Beli?  Jenis Kelamin_Perempuan  \\\n",
       "0         436    34            9999                        0   \n",
       "1         403    33            9999                        1   \n",
       "2         119    38            9999                        1   \n",
       "3         565    32            9999                        0   \n",
       "4         281    29            9999                        1   \n",
       "\n",
       "   Single_Tidak Single  Tinggal di Kota_Tinggal di pedesaan  Perokok_Perokok  \\\n",
       "0                    0                                    0                0   \n",
       "1                    0                                    1                0   \n",
       "2                    0                                    1                1   \n",
       "3                    0                                    0                0   \n",
       "4                    1                                    1                0   \n",
       "\n",
       "   Budget_low  Budget_medium  Kesukaan_Lainnya  Kesukaan_Seni  Kesukaan_Tekno  \n",
       "0           0              1                 0              0               0  \n",
       "1           1              0                 0              0               1  \n",
       "2           1              0                 0              0               1  \n",
       "3           0              1                 0              1               0  \n",
       "4           1              0                 0              0               1  "
      ]
     },
     "execution_count": 147,
     "metadata": {},
     "output_type": "execute_result"
    }
   ],
   "source": [
    "datatree_nolabel.head()"
   ]
  },
  {
   "cell_type": "markdown",
   "metadata": {},
   "source": [
    "## 3. Pembagian data"
   ]
  },
  {
   "cell_type": "code",
   "execution_count": 148,
   "metadata": {
    "collapsed": false
   },
   "outputs": [
    {
     "data": {
      "text/plain": [
       "['Jenis Kelamin_Perempuan',\n",
       " 'Single_Tidak Single',\n",
       " 'Tinggal di Kota_Tinggal di pedesaan',\n",
       " 'Perokok_Perokok',\n",
       " 'Budget_low',\n",
       " 'Budget_medium',\n",
       " 'Kesukaan_Lainnya',\n",
       " 'Kesukaan_Seni',\n",
       " 'Kesukaan_Tekno',\n",
       " 'usia']"
      ]
     },
     "execution_count": 148,
     "metadata": {},
     "output_type": "execute_result"
    }
   ],
   "source": [
    "peubah_penjelas = list(datatree_dummies)[3:]+['usia']\n",
    "peubah_penjelas"
   ]
  },
  {
   "cell_type": "code",
   "execution_count": 168,
   "metadata": {
    "collapsed": true
   },
   "outputs": [],
   "source": [
    "y = datatree_label['Tertarik Beli?']"
   ]
  },
  {
   "cell_type": "code",
   "execution_count": 169,
   "metadata": {
    "collapsed": true
   },
   "outputs": [],
   "source": [
    "from sklearn.model_selection import train_test_split"
   ]
  },
  {
   "cell_type": "code",
   "execution_count": 170,
   "metadata": {
    "collapsed": false
   },
   "outputs": [],
   "source": [
    "X_train, X_test, y_train, y_test = train_test_split(datatree_label[peubah_penjelas],y)"
   ]
  },
  {
   "cell_type": "code",
   "execution_count": 171,
   "metadata": {
    "collapsed": false
   },
   "outputs": [
    {
     "name": "stdout",
     "output_type": "stream",
     "text": [
      "dimensi data train : (731, 10)\n",
      "dimensi data test : (244, 10)\n"
     ]
    }
   ],
   "source": [
    "print('dimensi data train :',X_train.shape)\n",
    "print('dimensi data test :',X_test.shape)"
   ]
  },
  {
   "cell_type": "markdown",
   "metadata": {},
   "source": [
    "## 4. Modeling"
   ]
  },
  {
   "cell_type": "markdown",
   "metadata": {},
   "source": [
    "### a. Regresi Logistik"
   ]
  },
  {
   "cell_type": "code",
   "execution_count": 172,
   "metadata": {
    "collapsed": true
   },
   "outputs": [],
   "source": [
    "from sklearn.linear_model import LogisticRegression"
   ]
  },
  {
   "cell_type": "code",
   "execution_count": 173,
   "metadata": {
    "collapsed": false
   },
   "outputs": [],
   "source": [
    "logreg = LogisticRegression()"
   ]
  },
  {
   "cell_type": "code",
   "execution_count": 174,
   "metadata": {
    "collapsed": false
   },
   "outputs": [
    {
     "data": {
      "text/plain": [
       "LogisticRegression(C=1.0, class_weight=None, dual=False, fit_intercept=True,\n",
       "          intercept_scaling=1, max_iter=100, multi_class='ovr', n_jobs=1,\n",
       "          penalty='l2', random_state=None, solver='liblinear', tol=0.0001,\n",
       "          verbose=0, warm_start=False)"
      ]
     },
     "execution_count": 174,
     "metadata": {},
     "output_type": "execute_result"
    }
   ],
   "source": [
    "logreg.fit(X_train,y_train)"
   ]
  },
  {
   "cell_type": "code",
   "execution_count": 175,
   "metadata": {
    "collapsed": false
   },
   "outputs": [
    {
     "data": {
      "text/plain": [
       "0.91393442622950816"
      ]
     },
     "execution_count": 175,
     "metadata": {},
     "output_type": "execute_result"
    }
   ],
   "source": [
    "logreg.score(X_test,y_test)"
   ]
  },
  {
   "cell_type": "markdown",
   "metadata": {},
   "source": [
    "### b. Pohon Keputusan"
   ]
  },
  {
   "cell_type": "code",
   "execution_count": 176,
   "metadata": {
    "collapsed": false
   },
   "outputs": [],
   "source": [
    "from sklearn.tree import DecisionTreeClassifier"
   ]
  },
  {
   "cell_type": "code",
   "execution_count": 177,
   "metadata": {
    "collapsed": true
   },
   "outputs": [],
   "source": [
    "tree = DecisionTreeClassifier()"
   ]
  },
  {
   "cell_type": "code",
   "execution_count": 178,
   "metadata": {
    "collapsed": false
   },
   "outputs": [
    {
     "data": {
      "text/plain": [
       "DecisionTreeClassifier(class_weight=None, criterion='gini', max_depth=None,\n",
       "            max_features=None, max_leaf_nodes=None,\n",
       "            min_impurity_decrease=0.0, min_impurity_split=None,\n",
       "            min_samples_leaf=1, min_samples_split=2,\n",
       "            min_weight_fraction_leaf=0.0, presort=False, random_state=None,\n",
       "            splitter='best')"
      ]
     },
     "execution_count": 178,
     "metadata": {},
     "output_type": "execute_result"
    }
   ],
   "source": [
    "tree.fit(X_train,y_train)"
   ]
  },
  {
   "cell_type": "code",
   "execution_count": 179,
   "metadata": {
    "collapsed": false
   },
   "outputs": [
    {
     "data": {
      "text/plain": [
       "0.90573770491803274"
      ]
     },
     "execution_count": 179,
     "metadata": {},
     "output_type": "execute_result"
    }
   ],
   "source": [
    "tree.score(X_test,y_test)"
   ]
  },
  {
   "cell_type": "markdown",
   "metadata": {},
   "source": [
    "### c. Random Forest"
   ]
  },
  {
   "cell_type": "code",
   "execution_count": 180,
   "metadata": {
    "collapsed": false
   },
   "outputs": [],
   "source": [
    "from sklearn.ensemble import RandomForestClassifier"
   ]
  },
  {
   "cell_type": "code",
   "execution_count": 181,
   "metadata": {
    "collapsed": true
   },
   "outputs": [],
   "source": [
    "rf = RandomForestClassifier()"
   ]
  },
  {
   "cell_type": "code",
   "execution_count": 182,
   "metadata": {
    "collapsed": false
   },
   "outputs": [
    {
     "data": {
      "text/plain": [
       "RandomForestClassifier(bootstrap=True, class_weight=None, criterion='gini',\n",
       "            max_depth=None, max_features='auto', max_leaf_nodes=None,\n",
       "            min_impurity_decrease=0.0, min_impurity_split=None,\n",
       "            min_samples_leaf=1, min_samples_split=2,\n",
       "            min_weight_fraction_leaf=0.0, n_estimators=10, n_jobs=1,\n",
       "            oob_score=False, random_state=None, verbose=0,\n",
       "            warm_start=False)"
      ]
     },
     "execution_count": 182,
     "metadata": {},
     "output_type": "execute_result"
    }
   ],
   "source": [
    "rf.fit(X_train,y_train)"
   ]
  },
  {
   "cell_type": "code",
   "execution_count": 183,
   "metadata": {
    "collapsed": false
   },
   "outputs": [
    {
     "data": {
      "text/plain": [
       "0.89754098360655743"
      ]
     },
     "execution_count": 183,
     "metadata": {},
     "output_type": "execute_result"
    }
   ],
   "source": [
    "rf.score(X_test,y_test)"
   ]
  },
  {
   "cell_type": "markdown",
   "metadata": {},
   "source": [
    "## 5. Submission"
   ]
  },
  {
   "cell_type": "code",
   "execution_count": 184,
   "metadata": {
    "collapsed": false
   },
   "outputs": [
    {
     "data": {
      "text/plain": [
       "LogisticRegression(C=1.0, class_weight=None, dual=False, fit_intercept=True,\n",
       "          intercept_scaling=1, max_iter=100, multi_class='ovr', n_jobs=1,\n",
       "          penalty='l2', random_state=None, solver='liblinear', tol=0.0001,\n",
       "          verbose=0, warm_start=False)"
      ]
     },
     "execution_count": 184,
     "metadata": {},
     "output_type": "execute_result"
    }
   ],
   "source": [
    "logreg.fit(datatree_label[peubah_penjelas],y)"
   ]
  },
  {
   "cell_type": "code",
   "execution_count": 186,
   "metadata": {
    "collapsed": false
   },
   "outputs": [
    {
     "name": "stderr",
     "output_type": "stream",
     "text": [
      "C:\\Users\\Muy\\Anaconda3\\lib\\site-packages\\ipykernel\\__main__.py:1: SettingWithCopyWarning: \n",
      "A value is trying to be set on a copy of a slice from a DataFrame.\n",
      "Try using .loc[row_indexer,col_indexer] = value instead\n",
      "\n",
      "See the caveats in the documentation: http://pandas.pydata.org/pandas-docs/stable/indexing.html#indexing-view-versus-copy\n",
      "  if __name__ == '__main__':\n"
     ]
    }
   ],
   "source": [
    "datatree_nolabel['Tertarik Beli?'] = logreg.predict(datatree_nolabel[peubah_penjelas])"
   ]
  },
  {
   "cell_type": "code",
   "execution_count": 188,
   "metadata": {
    "collapsed": false
   },
   "outputs": [
    {
     "data": {
      "text/html": [
       "<div>\n",
       "<table border=\"1\" class=\"dataframe\">\n",
       "  <thead>\n",
       "    <tr style=\"text-align: right;\">\n",
       "      <th></th>\n",
       "      <th>ID Nasabah</th>\n",
       "      <th>usia</th>\n",
       "      <th>Tertarik Beli?</th>\n",
       "      <th>Jenis Kelamin_Perempuan</th>\n",
       "      <th>Single_Tidak Single</th>\n",
       "      <th>Tinggal di Kota_Tinggal di pedesaan</th>\n",
       "      <th>Perokok_Perokok</th>\n",
       "      <th>Budget_low</th>\n",
       "      <th>Budget_medium</th>\n",
       "      <th>Kesukaan_Lainnya</th>\n",
       "      <th>Kesukaan_Seni</th>\n",
       "      <th>Kesukaan_Tekno</th>\n",
       "    </tr>\n",
       "  </thead>\n",
       "  <tbody>\n",
       "    <tr>\n",
       "      <th>0</th>\n",
       "      <td>436</td>\n",
       "      <td>34</td>\n",
       "      <td>1</td>\n",
       "      <td>0</td>\n",
       "      <td>0</td>\n",
       "      <td>0</td>\n",
       "      <td>0</td>\n",
       "      <td>0</td>\n",
       "      <td>1</td>\n",
       "      <td>0</td>\n",
       "      <td>0</td>\n",
       "      <td>0</td>\n",
       "    </tr>\n",
       "    <tr>\n",
       "      <th>1</th>\n",
       "      <td>403</td>\n",
       "      <td>33</td>\n",
       "      <td>0</td>\n",
       "      <td>1</td>\n",
       "      <td>0</td>\n",
       "      <td>1</td>\n",
       "      <td>0</td>\n",
       "      <td>1</td>\n",
       "      <td>0</td>\n",
       "      <td>0</td>\n",
       "      <td>0</td>\n",
       "      <td>1</td>\n",
       "    </tr>\n",
       "    <tr>\n",
       "      <th>2</th>\n",
       "      <td>119</td>\n",
       "      <td>38</td>\n",
       "      <td>0</td>\n",
       "      <td>1</td>\n",
       "      <td>0</td>\n",
       "      <td>1</td>\n",
       "      <td>1</td>\n",
       "      <td>1</td>\n",
       "      <td>0</td>\n",
       "      <td>0</td>\n",
       "      <td>0</td>\n",
       "      <td>1</td>\n",
       "    </tr>\n",
       "    <tr>\n",
       "      <th>3</th>\n",
       "      <td>565</td>\n",
       "      <td>32</td>\n",
       "      <td>1</td>\n",
       "      <td>0</td>\n",
       "      <td>0</td>\n",
       "      <td>0</td>\n",
       "      <td>0</td>\n",
       "      <td>0</td>\n",
       "      <td>1</td>\n",
       "      <td>0</td>\n",
       "      <td>1</td>\n",
       "      <td>0</td>\n",
       "    </tr>\n",
       "    <tr>\n",
       "      <th>4</th>\n",
       "      <td>281</td>\n",
       "      <td>29</td>\n",
       "      <td>0</td>\n",
       "      <td>1</td>\n",
       "      <td>1</td>\n",
       "      <td>1</td>\n",
       "      <td>0</td>\n",
       "      <td>1</td>\n",
       "      <td>0</td>\n",
       "      <td>0</td>\n",
       "      <td>0</td>\n",
       "      <td>1</td>\n",
       "    </tr>\n",
       "  </tbody>\n",
       "</table>\n",
       "</div>"
      ],
      "text/plain": [
       "   ID Nasabah  usia  Tertarik Beli?  Jenis Kelamin_Perempuan  \\\n",
       "0         436    34               1                        0   \n",
       "1         403    33               0                        1   \n",
       "2         119    38               0                        1   \n",
       "3         565    32               1                        0   \n",
       "4         281    29               0                        1   \n",
       "\n",
       "   Single_Tidak Single  Tinggal di Kota_Tinggal di pedesaan  Perokok_Perokok  \\\n",
       "0                    0                                    0                0   \n",
       "1                    0                                    1                0   \n",
       "2                    0                                    1                1   \n",
       "3                    0                                    0                0   \n",
       "4                    1                                    1                0   \n",
       "\n",
       "   Budget_low  Budget_medium  Kesukaan_Lainnya  Kesukaan_Seni  Kesukaan_Tekno  \n",
       "0           0              1                 0              0               0  \n",
       "1           1              0                 0              0               1  \n",
       "2           1              0                 0              0               1  \n",
       "3           0              1                 0              1               0  \n",
       "4           1              0                 0              0               1  "
      ]
     },
     "execution_count": 188,
     "metadata": {},
     "output_type": "execute_result"
    }
   ],
   "source": [
    "datatree_nolabel.head()"
   ]
  },
  {
   "cell_type": "code",
   "execution_count": 190,
   "metadata": {
    "collapsed": false
   },
   "outputs": [],
   "source": [
    "sumbmission = datatree_nolabel[['ID Nasabah','Tertarik Beli?']]"
   ]
  },
  {
   "cell_type": "code",
   "execution_count": 191,
   "metadata": {
    "collapsed": false
   },
   "outputs": [
    {
     "data": {
      "text/html": [
       "<div>\n",
       "<table border=\"1\" class=\"dataframe\">\n",
       "  <thead>\n",
       "    <tr style=\"text-align: right;\">\n",
       "      <th></th>\n",
       "      <th>ID Nasabah</th>\n",
       "      <th>Tertarik Beli?</th>\n",
       "    </tr>\n",
       "  </thead>\n",
       "  <tbody>\n",
       "    <tr>\n",
       "      <th>0</th>\n",
       "      <td>436</td>\n",
       "      <td>1</td>\n",
       "    </tr>\n",
       "    <tr>\n",
       "      <th>1</th>\n",
       "      <td>403</td>\n",
       "      <td>0</td>\n",
       "    </tr>\n",
       "    <tr>\n",
       "      <th>2</th>\n",
       "      <td>119</td>\n",
       "      <td>0</td>\n",
       "    </tr>\n",
       "    <tr>\n",
       "      <th>3</th>\n",
       "      <td>565</td>\n",
       "      <td>1</td>\n",
       "    </tr>\n",
       "    <tr>\n",
       "      <th>4</th>\n",
       "      <td>281</td>\n",
       "      <td>0</td>\n",
       "    </tr>\n",
       "  </tbody>\n",
       "</table>\n",
       "</div>"
      ],
      "text/plain": [
       "   ID Nasabah  Tertarik Beli?\n",
       "0         436               1\n",
       "1         403               0\n",
       "2         119               0\n",
       "3         565               1\n",
       "4         281               0"
      ]
     },
     "execution_count": 191,
     "metadata": {},
     "output_type": "execute_result"
    }
   ],
   "source": [
    "sumbmission.head()"
   ]
  },
  {
   "cell_type": "code",
   "execution_count": null,
   "metadata": {
    "collapsed": true
   },
   "outputs": [],
   "source": []
  }
 ],
 "metadata": {
  "kernelspec": {
   "display_name": "Python 3",
   "language": "python",
   "name": "python3"
  },
  "language_info": {
   "codemirror_mode": {
    "name": "ipython",
    "version": 3
   },
   "file_extension": ".py",
   "mimetype": "text/x-python",
   "name": "python",
   "nbconvert_exporter": "python",
   "pygments_lexer": "ipython3",
   "version": "3.6.0"
  }
 },
 "nbformat": 4,
 "nbformat_minor": 2
}
